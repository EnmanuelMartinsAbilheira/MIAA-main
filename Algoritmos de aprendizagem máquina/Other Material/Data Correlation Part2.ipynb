{
  "cells": [
    {
      "cell_type": "markdown",
      "metadata": {
        "id": "c1kf9qddTM4D"
      },
      "source": [
        "# Masters' in Applied Artificial Intelligence\n",
        "## Machine Learning Algorithms Course\n",
        "\n",
        "Notebooks for MLA course\n",
        "\n",
        "by [*lufer*](mailto:lufer@ipca.pt)\n",
        "\n",
        "---\n",
        "\n"
      ]
    },
    {
      "cell_type": "markdown",
      "metadata": {
        "id": "3yc6mD0jVeWN"
      },
      "source": [
        "# ML Modelling - Part II\n",
        "\n",
        "**Contents**:\n",
        "\n",
        "1.  Spliting Datasets\n",
        "2.  **Data Correlation**\n",
        "3.  ...\n",
        "4.  ...\n",
        "5.  ...\n"
      ]
    },
    {
      "cell_type": "markdown",
      "metadata": {
        "id": "GP-NymupVL02"
      },
      "source": [
        "## Environment preparation\n"
      ]
    },
    {
      "cell_type": "markdown",
      "metadata": {
        "id": "-3Rm857IVoPe"
      },
      "source": [
        "### Importing necessary Libraries"
      ]
    },
    {
      "cell_type": "code",
      "source": [
        "#!pip install pandas-profiling"
      ],
      "metadata": {
        "id": "Q2rIZltxBAz-"
      },
      "execution_count": null,
      "outputs": []
    },
    {
      "cell_type": "code",
      "execution_count": 33,
      "metadata": {
        "id": "vA1MzNI4TU_q"
      },
      "outputs": [],
      "source": [
        "import pandas as pd\n",
        "import numpy as np\n",
        "import seaborn as sns\n",
        "import matplotlib.pyplot as plt\n",
        "\n",
        "#from pandas_profiling import ProfileRepor   #see https://www.kaggle.com/discussions/general/233785\n",
        "from scipy import stats"
      ]
    },
    {
      "cell_type": "markdown",
      "metadata": {
        "id": "bDLxcgMwJEYA"
      },
      "source": [
        "Mounting Drive"
      ]
    },
    {
      "cell_type": "code",
      "execution_count": 2,
      "metadata": {
        "colab": {
          "base_uri": "https://localhost:8080/"
        },
        "id": "qxFY0ypTJJK9",
        "outputId": "85166c85-8025-49e9-eb8a-793091b57d82"
      },
      "outputs": [
        {
          "output_type": "stream",
          "name": "stdout",
          "text": [
            "Mounted at /content/gDrive/\n"
          ]
        }
      ],
      "source": [
        "\n",
        "from google.colab import drive\n",
        "\n",
        "# it will ask for your google drive credentiaals\n",
        "drive.mount('/content/gDrive/', force_remount=True)"
      ]
    },
    {
      "cell_type": "code",
      "source": [
        "import os\n",
        "print(os.getcwd())"
      ],
      "metadata": {
        "id": "Q0rZqXSFJsni",
        "colab": {
          "base_uri": "https://localhost:8080/"
        },
        "outputId": "8c071bb6-9b75-466b-a4e7-ca9f236538fe"
      },
      "execution_count": 3,
      "outputs": [
        {
          "output_type": "stream",
          "name": "stdout",
          "text": [
            "/content\n"
          ]
        }
      ]
    },
    {
      "cell_type": "markdown",
      "metadata": {
        "id": "IrlsXAs4I0AZ"
      },
      "source": [
        "*Loading dataset*"
      ]
    },
    {
      "cell_type": "code",
      "execution_count": 6,
      "metadata": {
        "id": "IRpURt1tI2Sf"
      },
      "outputs": [],
      "source": [
        "\n",
        "import os\n",
        "#print(os.getcwd())\n",
        "\n",
        "filePath='/content/gDrive/MyDrive/MIA/ColabNotebooks/Datasets/'\n",
        "ds = pd.read_csv(filePath+\"heart-disease.csv\")\n",
        "pd.set_option(\"display.precision\", 2)"
      ]
    },
    {
      "cell_type": "code",
      "source": [
        "ds.head()"
      ],
      "metadata": {
        "id": "XXdran7P74Ls"
      },
      "execution_count": null,
      "outputs": []
    },
    {
      "cell_type": "markdown",
      "metadata": {
        "id": "fPL48rYV0LrL"
      },
      "source": [
        "## 1 - Splitting a Dataset\n",
        "\n",
        "see previous Jupyter Notebook (ML Modelling - Part I)"
      ]
    },
    {
      "cell_type": "markdown",
      "source": [
        "## 2 - Correlation"
      ],
      "metadata": {
        "id": "MR5G7eBNKUeb"
      }
    },
    {
      "cell_type": "markdown",
      "source": [
        "Essential Data Correlations  using Pandas *corr()*"
      ],
      "metadata": {
        "id": "prALn3NOz7_D"
      }
    },
    {
      "cell_type": "code",
      "source": [
        "# students and Classes\n",
        "df = {\n",
        "    \"Faltas\": [8, 2, 5, 12, 15, 9, 6],\n",
        "    \"Nota\": [78,92,90,58,43,74,81]\n",
        "}\n",
        "\n",
        "data = pd.DataFrame(df)\n",
        "\n",
        "ax1 = data.plot.scatter(x='Faltas',\n",
        "                      y='Nota',\n",
        "                      c='DarkBlue')"
      ],
      "metadata": {
        "colab": {
          "base_uri": "https://localhost:8080/",
          "height": 449
        },
        "id": "sUOoHK4hDu1v",
        "outputId": "0adeb43d-e307-4444-be68-d853cf418eb8"
      },
      "execution_count": 39,
      "outputs": [
        {
          "output_type": "display_data",
          "data": {
            "text/plain": [
              "<Figure size 640x480 with 1 Axes>"
            ],
            "image/png": "[encoded data removed]"
          },
          "metadata": {}
        }
      ]
    },
    {
      "cell_type": "code",
      "source": [
        "\n",
        "print(data.corr())\n",
        "# Answer\n",
        "# Strong negative correlation"
      ],
      "metadata": {
        "id": "ubQo369HKXtt",
        "colab": {
          "base_uri": "https://localhost:8080/"
        },
        "outputId": "e11141d1-6864-4bd2-c5e0-056601ea1e32"
      },
      "execution_count": 40,
      "outputs": [
        {
          "output_type": "stream",
          "name": "stdout",
          "text": [
            "        Faltas  Nota\n",
            "Faltas    1.00 -0.97\n",
            "Nota     -0.97  1.00\n"
          ]
        }
      ]
    },
    {
      "cell_type": "markdown",
      "source": [
        "### Dataframe Correlation using *Pearson r*"
      ],
      "metadata": {
        "id": "rj7-oe1Ez_y7"
      }
    },
    {
      "cell_type": "code",
      "source": [
        "\n",
        "# To find the correlation among\n",
        "# the columns using pearson method\n",
        "ds.corr(method='pearson')"
      ],
      "metadata": {
        "id": "qwiAp37w0eag"
      },
      "execution_count": null,
      "outputs": []
    },
    {
      "cell_type": "markdown",
      "source": [
        "### Dataframe Correlation using *Kendal p*"
      ],
      "metadata": {
        "id": "c7xZg2zK08B_"
      }
    },
    {
      "cell_type": "code",
      "source": [
        "# To find the correlation among\n",
        "# the columns using kendall method\n",
        "ds.corr(method='kendall')"
      ],
      "metadata": {
        "id": "BEL3OYOV08Zu"
      },
      "execution_count": null,
      "outputs": []
    },
    {
      "cell_type": "markdown",
      "source": [
        "### Visualizing correlations"
      ],
      "metadata": {
        "id": "ViWuACCi23DQ"
      }
    },
    {
      "cell_type": "markdown",
      "source": [
        "Correlation Matrix Students and Classes"
      ],
      "metadata": {
        "id": "gTebQb9i3TlA"
      }
    },
    {
      "cell_type": "code",
      "source": [
        "plt.figure(figsize=(10, 5))\n",
        "sns.heatmap(data.corr().abs(),  annot=True)"
      ],
      "metadata": {
        "id": "rli2wq3f25k6"
      },
      "execution_count": null,
      "outputs": []
    },
    {
      "cell_type": "markdown",
      "source": [
        "Correlation Matrix of Heart Diseases"
      ],
      "metadata": {
        "id": "aYdHiqWi3WVq"
      }
    },
    {
      "cell_type": "code",
      "source": [
        "plt.figure(figsize=(20, 10))\n",
        "sns.heatmap(ds.corr().abs(),  annot=True)"
      ],
      "metadata": {
        "id": "wg17J4Sr3ZbE"
      },
      "execution_count": null,
      "outputs": []
    },
    {
      "cell_type": "markdown",
      "source": [
        "Other example\n",
        "\n",
        "See [Bostn House Dataset](https://www.kaggle.com/code/prasadperera/the-boston-housing-dataset)\n",
        "\n"
      ],
      "metadata": {
        "id": "OV8SlxoD5sA0"
      }
    },
    {
      "cell_type": "code",
      "source": [
        "\n",
        "ds2 = pd.read_csv(filePath+\"BostonHousing.csv\")\n",
        "pd.set_option(\"display.precision\", 2)"
      ],
      "metadata": {
        "id": "zz_utQMK6XJw"
      },
      "execution_count": 16,
      "outputs": []
    },
    {
      "cell_type": "code",
      "source": [
        "ds2.head()"
      ],
      "metadata": {
        "id": "nODXVCCJ6h1K"
      },
      "execution_count": null,
      "outputs": []
    },
    {
      "cell_type": "code",
      "source": [
        "# how many numerical features\n",
        "ds2.select_dtypes(include=np.number).columns"
      ],
      "metadata": {
        "id": "XNwq6DTe6zJa"
      },
      "execution_count": null,
      "outputs": []
    },
    {
      "cell_type": "code",
      "source": [
        "#select only the numeric columns in the DataFrame\n",
        "ds2.select_dtypes(include=np.number)"
      ],
      "metadata": {
        "id": "xh0BGWBr7GZM"
      },
      "execution_count": null,
      "outputs": []
    },
    {
      "cell_type": "code",
      "source": [
        "#check features types\n",
        "# Checking values\n",
        "result = ds2.applymap(np.isreal)\n",
        "\n",
        "# Display result\n",
        "print(\"Result:\\n\",result)\n",
        "#true means numerical\n",
        "#false means non numerical"
      ],
      "metadata": {
        "id": "3mJsK1Da7qQe"
      },
      "execution_count": null,
      "outputs": []
    },
    {
      "cell_type": "markdown",
      "source": [
        "Correlation Matrix"
      ],
      "metadata": {
        "id": "kw312t0pGZcw"
      }
    },
    {
      "cell_type": "code",
      "source": [
        "#get correlations\n",
        "plt.figure(figsize=(20, 10))\n",
        "sns.heatmap(ds2.corr().abs(),  annot=True)"
      ],
      "metadata": {
        "id": "PIrW3_Nm8JzZ"
      },
      "execution_count": null,
      "outputs": []
    },
    {
      "cell_type": "markdown",
      "source": [
        "\n",
        "\n",
        "*   “tax” and “rad” columns are highly correlated with a value of 0.92 (positive correlation).\n",
        "*   The columns LSTAT, INDUS, RM, TAX, NOX, PTRAIO has a correlation score above 0.5 with MEDV which is a good indication of using as predictors"
      ],
      "metadata": {
        "id": "AcmxyiT054RT"
      }
    },
    {
      "cell_type": "markdown",
      "source": [
        "End!"
      ],
      "metadata": {
        "id": "6xuArbnHNSId"
      }
    },
    {
      "cell_type": "markdown",
      "source": [],
      "metadata": {
        "id": "432y7mts0Uq-"
      }
    }
  ],
  "metadata": {
    "colab": {
      "provenance": []
    },
    "kernelspec": {
      "display_name": "Python 3",
      "name": "python3"
    },
    "language_info": {
      "name": "python"
    }
  },
  "nbformat": 4,
  "nbformat_minor": 0
}