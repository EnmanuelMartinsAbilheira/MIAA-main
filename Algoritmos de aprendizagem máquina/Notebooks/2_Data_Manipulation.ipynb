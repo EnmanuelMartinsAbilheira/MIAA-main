{
  "cells": [
    {
      "cell_type": "markdown",
      "metadata": {
        "id": "c1kf9qddTM4D"
      },
      "source": [
        "# Masters' in Applied Artificial Intelligence\n",
        "## Machine Learning Algorithms Course\n",
        "\n",
        "Notebooks for MLA course\n",
        "\n",
        "by [*lufer*](mailto:lufer@ipca.pt)\n",
        "\n",
        "---\n",
        "\n"
      ]
    },
    {
      "cell_type": "markdown",
      "metadata": {
        "id": "3yc6mD0jVeWN"
      },
      "source": [
        "# Datasets on ML Modelling - Part II\n",
        "\n",
        "**Contents**:\n",
        "\n",
        "1.   Python essencial\n",
        "2.   Working with Datasets\n",
        "3.   **Features Manipulation**\n",
        "4.   **Cleaning Data**\n",
        "5.  Data Visualization\n"
      ]
    },
    {
      "cell_type": "markdown",
      "metadata": {
        "id": "GP-NymupVL02"
      },
      "source": [
        "## Environment preparation\n"
      ]
    },
    {
      "cell_type": "markdown",
      "metadata": {
        "id": "-3Rm857IVoPe"
      },
      "source": [
        "### Importing necessary Libraries"
      ]
    },
    {
      "cell_type": "code",
      "execution_count": 2,
      "metadata": {
        "id": "vA1MzNI4TU_q"
      },
      "outputs": [],
      "source": [
        "import pandas as pd\n",
        "import numpy as np"
      ]
    },
    {
      "cell_type": "markdown",
      "metadata": {
        "id": "bDLxcgMwJEYA"
      },
      "source": [
        "Mounting Drive"
      ]
    },
    {
      "cell_type": "code",
      "execution_count": null,
      "metadata": {
        "colab": {
          "base_uri": "https://localhost:8080/"
        },
        "id": "qxFY0ypTJJK9",
        "outputId": "6807696f-ec1a-4bee-8b68-6be7ae7a065b"
      },
      "outputs": [
        {
          "name": "stdout",
          "output_type": "stream",
          "text": [
            "Mounted at /content/gDrive/\n"
          ]
        }
      ],
      "source": [
        "\n",
        "from google.colab import drive\n",
        "\n",
        "# it will ask for your google drive credentiaals\n",
        "drive.mount('/content/gDrive/', force_remount=True)"
      ]
    },
    {
      "cell_type": "markdown",
      "metadata": {
        "id": "IrlsXAs4I0AZ"
      },
      "source": [
        "*Loading dataset*"
      ]
    },
    {
      "cell_type": "code",
      "execution_count": 3,
      "metadata": {
        "colab": {
          "base_uri": "https://localhost:8080/"
        },
        "id": "IRpURt1tI2Sf",
        "outputId": "c111a55d-8c32-4c1d-a9df-e934809b93cf"
      },
      "outputs": [
        {
          "name": "stdout",
          "output_type": "stream",
          "text": [
            "Download ready.\n"
          ]
        }
      ],
      "source": [
        "import requests\n",
        "\n",
        "download_url = \"https://raw.githubusercontent.com/fivethirtyeight/data/master/nba-elo/nbaallelo.csv\"\n",
        "target_csv_path = \"nbaAll.csv\"\n",
        "\n",
        "#create a local file with remote csv data\n",
        "response = requests.get(download_url)\n",
        "response.raise_for_status()\n",
        "with open(target_csv_path, \"wb\") as f:\n",
        "    f.write(response.content)\n",
        "print(\"Download ready.\")\n",
        "\n",
        "nba = pd.read_csv(\"nbaAll.csv\")"
      ]
    },
    {
      "cell_type": "code",
      "execution_count": 4,
      "metadata": {
        "id": "XXdran7P74Ls"
      },
      "outputs": [
        {
          "data": {
            "text/html": [
              "<div>\n",
              "<style scoped>\n",
              "    .dataframe tbody tr th:only-of-type {\n",
              "        vertical-align: middle;\n",
              "    }\n",
              "\n",
              "    .dataframe tbody tr th {\n",
              "        vertical-align: top;\n",
              "    }\n",
              "\n",
              "    .dataframe thead th {\n",
              "        text-align: right;\n",
              "    }\n",
              "</style>\n",
              "<table border=\"1\" class=\"dataframe\">\n",
              "  <thead>\n",
              "    <tr style=\"text-align: right;\">\n",
              "      <th></th>\n",
              "      <th>gameorder</th>\n",
              "      <th>game_id</th>\n",
              "      <th>lg_id</th>\n",
              "      <th>_iscopy</th>\n",
              "      <th>year_id</th>\n",
              "      <th>date_game</th>\n",
              "      <th>seasongame</th>\n",
              "      <th>is_playoffs</th>\n",
              "      <th>team_id</th>\n",
              "      <th>fran_id</th>\n",
              "      <th>...</th>\n",
              "      <th>win_equiv</th>\n",
              "      <th>opp_id</th>\n",
              "      <th>opp_fran</th>\n",
              "      <th>opp_pts</th>\n",
              "      <th>opp_elo_i</th>\n",
              "      <th>opp_elo_n</th>\n",
              "      <th>game_location</th>\n",
              "      <th>game_result</th>\n",
              "      <th>forecast</th>\n",
              "      <th>notes</th>\n",
              "    </tr>\n",
              "  </thead>\n",
              "  <tbody>\n",
              "    <tr>\n",
              "      <th>0</th>\n",
              "      <td>1</td>\n",
              "      <td>194611010TRH</td>\n",
              "      <td>NBA</td>\n",
              "      <td>0</td>\n",
              "      <td>1947</td>\n",
              "      <td>11/1/1946</td>\n",
              "      <td>1</td>\n",
              "      <td>0</td>\n",
              "      <td>TRH</td>\n",
              "      <td>Huskies</td>\n",
              "      <td>...</td>\n",
              "      <td>40.294830</td>\n",
              "      <td>NYK</td>\n",
              "      <td>Knicks</td>\n",
              "      <td>68</td>\n",
              "      <td>1300.0000</td>\n",
              "      <td>1306.7233</td>\n",
              "      <td>H</td>\n",
              "      <td>L</td>\n",
              "      <td>0.640065</td>\n",
              "      <td>NaN</td>\n",
              "    </tr>\n",
              "    <tr>\n",
              "      <th>1</th>\n",
              "      <td>1</td>\n",
              "      <td>194611010TRH</td>\n",
              "      <td>NBA</td>\n",
              "      <td>1</td>\n",
              "      <td>1947</td>\n",
              "      <td>11/1/1946</td>\n",
              "      <td>1</td>\n",
              "      <td>0</td>\n",
              "      <td>NYK</td>\n",
              "      <td>Knicks</td>\n",
              "      <td>...</td>\n",
              "      <td>41.705170</td>\n",
              "      <td>TRH</td>\n",
              "      <td>Huskies</td>\n",
              "      <td>66</td>\n",
              "      <td>1300.0000</td>\n",
              "      <td>1293.2767</td>\n",
              "      <td>A</td>\n",
              "      <td>W</td>\n",
              "      <td>0.359935</td>\n",
              "      <td>NaN</td>\n",
              "    </tr>\n",
              "    <tr>\n",
              "      <th>2</th>\n",
              "      <td>2</td>\n",
              "      <td>194611020CHS</td>\n",
              "      <td>NBA</td>\n",
              "      <td>0</td>\n",
              "      <td>1947</td>\n",
              "      <td>11/2/1946</td>\n",
              "      <td>1</td>\n",
              "      <td>0</td>\n",
              "      <td>CHS</td>\n",
              "      <td>Stags</td>\n",
              "      <td>...</td>\n",
              "      <td>42.012257</td>\n",
              "      <td>NYK</td>\n",
              "      <td>Knicks</td>\n",
              "      <td>47</td>\n",
              "      <td>1306.7233</td>\n",
              "      <td>1297.0712</td>\n",
              "      <td>H</td>\n",
              "      <td>W</td>\n",
              "      <td>0.631101</td>\n",
              "      <td>NaN</td>\n",
              "    </tr>\n",
              "    <tr>\n",
              "      <th>3</th>\n",
              "      <td>2</td>\n",
              "      <td>194611020CHS</td>\n",
              "      <td>NBA</td>\n",
              "      <td>1</td>\n",
              "      <td>1947</td>\n",
              "      <td>11/2/1946</td>\n",
              "      <td>2</td>\n",
              "      <td>0</td>\n",
              "      <td>NYK</td>\n",
              "      <td>Knicks</td>\n",
              "      <td>...</td>\n",
              "      <td>40.692783</td>\n",
              "      <td>CHS</td>\n",
              "      <td>Stags</td>\n",
              "      <td>63</td>\n",
              "      <td>1300.0000</td>\n",
              "      <td>1309.6521</td>\n",
              "      <td>A</td>\n",
              "      <td>L</td>\n",
              "      <td>0.368899</td>\n",
              "      <td>NaN</td>\n",
              "    </tr>\n",
              "    <tr>\n",
              "      <th>4</th>\n",
              "      <td>3</td>\n",
              "      <td>194611020DTF</td>\n",
              "      <td>NBA</td>\n",
              "      <td>0</td>\n",
              "      <td>1947</td>\n",
              "      <td>11/2/1946</td>\n",
              "      <td>1</td>\n",
              "      <td>0</td>\n",
              "      <td>DTF</td>\n",
              "      <td>Falcons</td>\n",
              "      <td>...</td>\n",
              "      <td>38.864048</td>\n",
              "      <td>WSC</td>\n",
              "      <td>Capitols</td>\n",
              "      <td>50</td>\n",
              "      <td>1300.0000</td>\n",
              "      <td>1320.3811</td>\n",
              "      <td>H</td>\n",
              "      <td>L</td>\n",
              "      <td>0.640065</td>\n",
              "      <td>NaN</td>\n",
              "    </tr>\n",
              "    <tr>\n",
              "      <th>...</th>\n",
              "      <td>...</td>\n",
              "      <td>...</td>\n",
              "      <td>...</td>\n",
              "      <td>...</td>\n",
              "      <td>...</td>\n",
              "      <td>...</td>\n",
              "      <td>...</td>\n",
              "      <td>...</td>\n",
              "      <td>...</td>\n",
              "      <td>...</td>\n",
              "      <td>...</td>\n",
              "      <td>...</td>\n",
              "      <td>...</td>\n",
              "      <td>...</td>\n",
              "      <td>...</td>\n",
              "      <td>...</td>\n",
              "      <td>...</td>\n",
              "      <td>...</td>\n",
              "      <td>...</td>\n",
              "      <td>...</td>\n",
              "      <td>...</td>\n",
              "    </tr>\n",
              "    <tr>\n",
              "      <th>126309</th>\n",
              "      <td>63155</td>\n",
              "      <td>201506110CLE</td>\n",
              "      <td>NBA</td>\n",
              "      <td>0</td>\n",
              "      <td>2015</td>\n",
              "      <td>6/11/2015</td>\n",
              "      <td>100</td>\n",
              "      <td>1</td>\n",
              "      <td>CLE</td>\n",
              "      <td>Cavaliers</td>\n",
              "      <td>...</td>\n",
              "      <td>60.309792</td>\n",
              "      <td>GSW</td>\n",
              "      <td>Warriors</td>\n",
              "      <td>103</td>\n",
              "      <td>1790.9591</td>\n",
              "      <td>1809.9791</td>\n",
              "      <td>H</td>\n",
              "      <td>L</td>\n",
              "      <td>0.546572</td>\n",
              "      <td>NaN</td>\n",
              "    </tr>\n",
              "    <tr>\n",
              "      <th>126310</th>\n",
              "      <td>63156</td>\n",
              "      <td>201506140GSW</td>\n",
              "      <td>NBA</td>\n",
              "      <td>0</td>\n",
              "      <td>2015</td>\n",
              "      <td>6/14/2015</td>\n",
              "      <td>102</td>\n",
              "      <td>1</td>\n",
              "      <td>GSW</td>\n",
              "      <td>Warriors</td>\n",
              "      <td>...</td>\n",
              "      <td>68.013329</td>\n",
              "      <td>CLE</td>\n",
              "      <td>Cavaliers</td>\n",
              "      <td>91</td>\n",
              "      <td>1704.3949</td>\n",
              "      <td>1700.7391</td>\n",
              "      <td>H</td>\n",
              "      <td>W</td>\n",
              "      <td>0.765565</td>\n",
              "      <td>NaN</td>\n",
              "    </tr>\n",
              "    <tr>\n",
              "      <th>126311</th>\n",
              "      <td>63156</td>\n",
              "      <td>201506140GSW</td>\n",
              "      <td>NBA</td>\n",
              "      <td>1</td>\n",
              "      <td>2015</td>\n",
              "      <td>6/14/2015</td>\n",
              "      <td>101</td>\n",
              "      <td>1</td>\n",
              "      <td>CLE</td>\n",
              "      <td>Cavaliers</td>\n",
              "      <td>...</td>\n",
              "      <td>60.010067</td>\n",
              "      <td>GSW</td>\n",
              "      <td>Warriors</td>\n",
              "      <td>104</td>\n",
              "      <td>1809.9791</td>\n",
              "      <td>1813.6349</td>\n",
              "      <td>A</td>\n",
              "      <td>L</td>\n",
              "      <td>0.234435</td>\n",
              "      <td>NaN</td>\n",
              "    </tr>\n",
              "    <tr>\n",
              "      <th>126312</th>\n",
              "      <td>63157</td>\n",
              "      <td>201506170CLE</td>\n",
              "      <td>NBA</td>\n",
              "      <td>0</td>\n",
              "      <td>2015</td>\n",
              "      <td>6/16/2015</td>\n",
              "      <td>102</td>\n",
              "      <td>1</td>\n",
              "      <td>CLE</td>\n",
              "      <td>Cavaliers</td>\n",
              "      <td>...</td>\n",
              "      <td>59.290245</td>\n",
              "      <td>GSW</td>\n",
              "      <td>Warriors</td>\n",
              "      <td>105</td>\n",
              "      <td>1813.6349</td>\n",
              "      <td>1822.2881</td>\n",
              "      <td>H</td>\n",
              "      <td>L</td>\n",
              "      <td>0.481450</td>\n",
              "      <td>NaN</td>\n",
              "    </tr>\n",
              "    <tr>\n",
              "      <th>126313</th>\n",
              "      <td>63157</td>\n",
              "      <td>201506170CLE</td>\n",
              "      <td>NBA</td>\n",
              "      <td>1</td>\n",
              "      <td>2015</td>\n",
              "      <td>6/16/2015</td>\n",
              "      <td>103</td>\n",
              "      <td>1</td>\n",
              "      <td>GSW</td>\n",
              "      <td>Warriors</td>\n",
              "      <td>...</td>\n",
              "      <td>68.519516</td>\n",
              "      <td>CLE</td>\n",
              "      <td>Cavaliers</td>\n",
              "      <td>97</td>\n",
              "      <td>1700.7391</td>\n",
              "      <td>1692.0859</td>\n",
              "      <td>A</td>\n",
              "      <td>W</td>\n",
              "      <td>0.518550</td>\n",
              "      <td>NaN</td>\n",
              "    </tr>\n",
              "  </tbody>\n",
              "</table>\n",
              "<p>126314 rows × 23 columns</p>\n",
              "</div>"
            ],
            "text/plain": [
              "        gameorder       game_id lg_id  _iscopy  year_id  date_game  \\\n",
              "0               1  194611010TRH   NBA        0     1947  11/1/1946   \n",
              "1               1  194611010TRH   NBA        1     1947  11/1/1946   \n",
              "2               2  194611020CHS   NBA        0     1947  11/2/1946   \n",
              "3               2  194611020CHS   NBA        1     1947  11/2/1946   \n",
              "4               3  194611020DTF   NBA        0     1947  11/2/1946   \n",
              "...           ...           ...   ...      ...      ...        ...   \n",
              "126309      63155  201506110CLE   NBA        0     2015  6/11/2015   \n",
              "126310      63156  201506140GSW   NBA        0     2015  6/14/2015   \n",
              "126311      63156  201506140GSW   NBA        1     2015  6/14/2015   \n",
              "126312      63157  201506170CLE   NBA        0     2015  6/16/2015   \n",
              "126313      63157  201506170CLE   NBA        1     2015  6/16/2015   \n",
              "\n",
              "        seasongame  is_playoffs team_id    fran_id  ...  win_equiv  opp_id  \\\n",
              "0                1            0     TRH    Huskies  ...  40.294830     NYK   \n",
              "1                1            0     NYK     Knicks  ...  41.705170     TRH   \n",
              "2                1            0     CHS      Stags  ...  42.012257     NYK   \n",
              "3                2            0     NYK     Knicks  ...  40.692783     CHS   \n",
              "4                1            0     DTF    Falcons  ...  38.864048     WSC   \n",
              "...            ...          ...     ...        ...  ...        ...     ...   \n",
              "126309         100            1     CLE  Cavaliers  ...  60.309792     GSW   \n",
              "126310         102            1     GSW   Warriors  ...  68.013329     CLE   \n",
              "126311         101            1     CLE  Cavaliers  ...  60.010067     GSW   \n",
              "126312         102            1     CLE  Cavaliers  ...  59.290245     GSW   \n",
              "126313         103            1     GSW   Warriors  ...  68.519516     CLE   \n",
              "\n",
              "         opp_fran  opp_pts  opp_elo_i  opp_elo_n  game_location  game_result  \\\n",
              "0          Knicks       68  1300.0000  1306.7233              H            L   \n",
              "1         Huskies       66  1300.0000  1293.2767              A            W   \n",
              "2          Knicks       47  1306.7233  1297.0712              H            W   \n",
              "3           Stags       63  1300.0000  1309.6521              A            L   \n",
              "4        Capitols       50  1300.0000  1320.3811              H            L   \n",
              "...           ...      ...        ...        ...            ...          ...   \n",
              "126309   Warriors      103  1790.9591  1809.9791              H            L   \n",
              "126310  Cavaliers       91  1704.3949  1700.7391              H            W   \n",
              "126311   Warriors      104  1809.9791  1813.6349              A            L   \n",
              "126312   Warriors      105  1813.6349  1822.2881              H            L   \n",
              "126313  Cavaliers       97  1700.7391  1692.0859              A            W   \n",
              "\n",
              "        forecast notes  \n",
              "0       0.640065   NaN  \n",
              "1       0.359935   NaN  \n",
              "2       0.631101   NaN  \n",
              "3       0.368899   NaN  \n",
              "4       0.640065   NaN  \n",
              "...          ...   ...  \n",
              "126309  0.546572   NaN  \n",
              "126310  0.765565   NaN  \n",
              "126311  0.234435   NaN  \n",
              "126312  0.481450   NaN  \n",
              "126313  0.518550   NaN  \n",
              "\n",
              "[126314 rows x 23 columns]"
            ]
          },
          "execution_count": 4,
          "metadata": {},
          "output_type": "execute_result"
        }
      ],
      "source": [
        "nba\n"
      ]
    },
    {
      "cell_type": "markdown",
      "metadata": {
        "id": "H3F4J7bkKVgF"
      },
      "source": [
        "## 3 - Features Manipulation"
      ]
    },
    {
      "cell_type": "code",
      "execution_count": 5,
      "metadata": {
        "id": "1jNC8uv0KgHd"
      },
      "outputs": [
        {
          "data": {
            "text/plain": [
              "(126314, 23)"
            ]
          },
          "execution_count": 5,
          "metadata": {},
          "output_type": "execute_result"
        }
      ],
      "source": [
        "#checking dataset structure\n",
        "nba.shape"
      ]
    },
    {
      "cell_type": "code",
      "execution_count": 6,
      "metadata": {
        "id": "RxZdMfFQ8RoL"
      },
      "outputs": [
        {
          "data": {
            "text/html": [
              "<div>\n",
              "<style scoped>\n",
              "    .dataframe tbody tr th:only-of-type {\n",
              "        vertical-align: middle;\n",
              "    }\n",
              "\n",
              "    .dataframe tbody tr th {\n",
              "        vertical-align: top;\n",
              "    }\n",
              "\n",
              "    .dataframe thead th {\n",
              "        text-align: right;\n",
              "    }\n",
              "</style>\n",
              "<table border=\"1\" class=\"dataframe\">\n",
              "  <thead>\n",
              "    <tr style=\"text-align: right;\">\n",
              "      <th></th>\n",
              "      <th>gameorder</th>\n",
              "      <th>game_id</th>\n",
              "      <th>lg_id</th>\n",
              "      <th>_iscopy</th>\n",
              "      <th>year_id</th>\n",
              "      <th>date_game</th>\n",
              "      <th>seasongame</th>\n",
              "      <th>is_playoffs</th>\n",
              "      <th>team_id</th>\n",
              "      <th>fran_id</th>\n",
              "      <th>...</th>\n",
              "      <th>win_equiv</th>\n",
              "      <th>opp_id</th>\n",
              "      <th>opp_fran</th>\n",
              "      <th>opp_pts</th>\n",
              "      <th>opp_elo_i</th>\n",
              "      <th>opp_elo_n</th>\n",
              "      <th>game_location</th>\n",
              "      <th>game_result</th>\n",
              "      <th>forecast</th>\n",
              "      <th>notes</th>\n",
              "    </tr>\n",
              "  </thead>\n",
              "  <tbody>\n",
              "    <tr>\n",
              "      <th>0</th>\n",
              "      <td>1</td>\n",
              "      <td>194611010TRH</td>\n",
              "      <td>NBA</td>\n",
              "      <td>0</td>\n",
              "      <td>1947</td>\n",
              "      <td>11/1/1946</td>\n",
              "      <td>1</td>\n",
              "      <td>0</td>\n",
              "      <td>TRH</td>\n",
              "      <td>Huskies</td>\n",
              "      <td>...</td>\n",
              "      <td>40.294830</td>\n",
              "      <td>NYK</td>\n",
              "      <td>Knicks</td>\n",
              "      <td>68</td>\n",
              "      <td>1300.0000</td>\n",
              "      <td>1306.7233</td>\n",
              "      <td>H</td>\n",
              "      <td>L</td>\n",
              "      <td>0.640065</td>\n",
              "      <td>NaN</td>\n",
              "    </tr>\n",
              "    <tr>\n",
              "      <th>1</th>\n",
              "      <td>1</td>\n",
              "      <td>194611010TRH</td>\n",
              "      <td>NBA</td>\n",
              "      <td>1</td>\n",
              "      <td>1947</td>\n",
              "      <td>11/1/1946</td>\n",
              "      <td>1</td>\n",
              "      <td>0</td>\n",
              "      <td>NYK</td>\n",
              "      <td>Knicks</td>\n",
              "      <td>...</td>\n",
              "      <td>41.705170</td>\n",
              "      <td>TRH</td>\n",
              "      <td>Huskies</td>\n",
              "      <td>66</td>\n",
              "      <td>1300.0000</td>\n",
              "      <td>1293.2767</td>\n",
              "      <td>A</td>\n",
              "      <td>W</td>\n",
              "      <td>0.359935</td>\n",
              "      <td>NaN</td>\n",
              "    </tr>\n",
              "    <tr>\n",
              "      <th>2</th>\n",
              "      <td>2</td>\n",
              "      <td>194611020CHS</td>\n",
              "      <td>NBA</td>\n",
              "      <td>0</td>\n",
              "      <td>1947</td>\n",
              "      <td>11/2/1946</td>\n",
              "      <td>1</td>\n",
              "      <td>0</td>\n",
              "      <td>CHS</td>\n",
              "      <td>Stags</td>\n",
              "      <td>...</td>\n",
              "      <td>42.012257</td>\n",
              "      <td>NYK</td>\n",
              "      <td>Knicks</td>\n",
              "      <td>47</td>\n",
              "      <td>1306.7233</td>\n",
              "      <td>1297.0712</td>\n",
              "      <td>H</td>\n",
              "      <td>W</td>\n",
              "      <td>0.631101</td>\n",
              "      <td>NaN</td>\n",
              "    </tr>\n",
              "    <tr>\n",
              "      <th>3</th>\n",
              "      <td>2</td>\n",
              "      <td>194611020CHS</td>\n",
              "      <td>NBA</td>\n",
              "      <td>1</td>\n",
              "      <td>1947</td>\n",
              "      <td>11/2/1946</td>\n",
              "      <td>2</td>\n",
              "      <td>0</td>\n",
              "      <td>NYK</td>\n",
              "      <td>Knicks</td>\n",
              "      <td>...</td>\n",
              "      <td>40.692783</td>\n",
              "      <td>CHS</td>\n",
              "      <td>Stags</td>\n",
              "      <td>63</td>\n",
              "      <td>1300.0000</td>\n",
              "      <td>1309.6521</td>\n",
              "      <td>A</td>\n",
              "      <td>L</td>\n",
              "      <td>0.368899</td>\n",
              "      <td>NaN</td>\n",
              "    </tr>\n",
              "    <tr>\n",
              "      <th>4</th>\n",
              "      <td>3</td>\n",
              "      <td>194611020DTF</td>\n",
              "      <td>NBA</td>\n",
              "      <td>0</td>\n",
              "      <td>1947</td>\n",
              "      <td>11/2/1946</td>\n",
              "      <td>1</td>\n",
              "      <td>0</td>\n",
              "      <td>DTF</td>\n",
              "      <td>Falcons</td>\n",
              "      <td>...</td>\n",
              "      <td>38.864048</td>\n",
              "      <td>WSC</td>\n",
              "      <td>Capitols</td>\n",
              "      <td>50</td>\n",
              "      <td>1300.0000</td>\n",
              "      <td>1320.3811</td>\n",
              "      <td>H</td>\n",
              "      <td>L</td>\n",
              "      <td>0.640065</td>\n",
              "      <td>NaN</td>\n",
              "    </tr>\n",
              "  </tbody>\n",
              "</table>\n",
              "<p>5 rows × 23 columns</p>\n",
              "</div>"
            ],
            "text/plain": [
              "   gameorder       game_id lg_id  _iscopy  year_id  date_game  seasongame  \\\n",
              "0          1  194611010TRH   NBA        0     1947  11/1/1946           1   \n",
              "1          1  194611010TRH   NBA        1     1947  11/1/1946           1   \n",
              "2          2  194611020CHS   NBA        0     1947  11/2/1946           1   \n",
              "3          2  194611020CHS   NBA        1     1947  11/2/1946           2   \n",
              "4          3  194611020DTF   NBA        0     1947  11/2/1946           1   \n",
              "\n",
              "   is_playoffs team_id  fran_id  ...  win_equiv  opp_id  opp_fran  opp_pts  \\\n",
              "0            0     TRH  Huskies  ...  40.294830     NYK    Knicks       68   \n",
              "1            0     NYK   Knicks  ...  41.705170     TRH   Huskies       66   \n",
              "2            0     CHS    Stags  ...  42.012257     NYK    Knicks       47   \n",
              "3            0     NYK   Knicks  ...  40.692783     CHS     Stags       63   \n",
              "4            0     DTF  Falcons  ...  38.864048     WSC  Capitols       50   \n",
              "\n",
              "   opp_elo_i  opp_elo_n  game_location  game_result  forecast notes  \n",
              "0  1300.0000  1306.7233              H            L  0.640065   NaN  \n",
              "1  1300.0000  1293.2767              A            W  0.359935   NaN  \n",
              "2  1306.7233  1297.0712              H            W  0.631101   NaN  \n",
              "3  1300.0000  1309.6521              A            L  0.368899   NaN  \n",
              "4  1300.0000  1320.3811              H            L  0.640065   NaN  \n",
              "\n",
              "[5 rows x 23 columns]"
            ]
          },
          "execution_count": 6,
          "metadata": {},
          "output_type": "execute_result"
        }
      ],
      "source": [
        "nba.head()"
      ]
    },
    {
      "cell_type": "markdown",
      "metadata": {
        "id": "7VMLnNsgAUbP"
      },
      "source": [
        "*Filtering columns with \"isin\"*"
      ]
    },
    {
      "cell_type": "code",
      "execution_count": 7,
      "metadata": {
        "id": "YRRg1d3W8pbI"
      },
      "outputs": [
        {
          "data": {
            "text/html": [
              "<div>\n",
              "<style scoped>\n",
              "    .dataframe tbody tr th:only-of-type {\n",
              "        vertical-align: middle;\n",
              "    }\n",
              "\n",
              "    .dataframe tbody tr th {\n",
              "        vertical-align: top;\n",
              "    }\n",
              "\n",
              "    .dataframe thead th {\n",
              "        text-align: right;\n",
              "    }\n",
              "</style>\n",
              "<table border=\"1\" class=\"dataframe\">\n",
              "  <thead>\n",
              "    <tr style=\"text-align: right;\">\n",
              "      <th></th>\n",
              "      <th>gameorder</th>\n",
              "      <th>game_id</th>\n",
              "      <th>lg_id</th>\n",
              "      <th>_iscopy</th>\n",
              "      <th>year_id</th>\n",
              "      <th>date_game</th>\n",
              "      <th>seasongame</th>\n",
              "      <th>is_playoffs</th>\n",
              "      <th>team_id</th>\n",
              "      <th>fran_id</th>\n",
              "      <th>...</th>\n",
              "      <th>win_equiv</th>\n",
              "      <th>opp_id</th>\n",
              "      <th>opp_fran</th>\n",
              "      <th>opp_pts</th>\n",
              "      <th>opp_elo_i</th>\n",
              "      <th>opp_elo_n</th>\n",
              "      <th>game_location</th>\n",
              "      <th>game_result</th>\n",
              "      <th>forecast</th>\n",
              "      <th>notes</th>\n",
              "    </tr>\n",
              "  </thead>\n",
              "  <tbody>\n",
              "    <tr>\n",
              "      <th>700</th>\n",
              "      <td>351</td>\n",
              "      <td>194711120WSC</td>\n",
              "      <td>NBA</td>\n",
              "      <td>0</td>\n",
              "      <td>1948</td>\n",
              "      <td>11/12/1947</td>\n",
              "      <td>1</td>\n",
              "      <td>0</td>\n",
              "      <td>WSC</td>\n",
              "      <td>Capitols</td>\n",
              "      <td>...</td>\n",
              "      <td>50.173782</td>\n",
              "      <td>BLB</td>\n",
              "      <td>Baltimore</td>\n",
              "      <td>55</td>\n",
              "      <td>1419.0000</td>\n",
              "      <td>1414.4618</td>\n",
              "      <td>H</td>\n",
              "      <td>W</td>\n",
              "      <td>0.717674</td>\n",
              "      <td>NaN</td>\n",
              "    </tr>\n",
              "    <tr>\n",
              "      <th>701</th>\n",
              "      <td>351</td>\n",
              "      <td>194711120WSC</td>\n",
              "      <td>NBA</td>\n",
              "      <td>1</td>\n",
              "      <td>1948</td>\n",
              "      <td>11/12/1947</td>\n",
              "      <td>1</td>\n",
              "      <td>0</td>\n",
              "      <td>BLB</td>\n",
              "      <td>Baltimore</td>\n",
              "      <td>...</td>\n",
              "      <td>42.867378</td>\n",
              "      <td>WSC</td>\n",
              "      <td>Capitols</td>\n",
              "      <td>63</td>\n",
              "      <td>1481.0703</td>\n",
              "      <td>1485.6085</td>\n",
              "      <td>A</td>\n",
              "      <td>L</td>\n",
              "      <td>0.282326</td>\n",
              "      <td>NaN</td>\n",
              "    </tr>\n",
              "    <tr>\n",
              "      <th>702</th>\n",
              "      <td>352</td>\n",
              "      <td>194711130BLB</td>\n",
              "      <td>NBA</td>\n",
              "      <td>0</td>\n",
              "      <td>1948</td>\n",
              "      <td>11/13/1947</td>\n",
              "      <td>2</td>\n",
              "      <td>0</td>\n",
              "      <td>BLB</td>\n",
              "      <td>Baltimore</td>\n",
              "      <td>...</td>\n",
              "      <td>43.288319</td>\n",
              "      <td>BOS</td>\n",
              "      <td>Celtics</td>\n",
              "      <td>74</td>\n",
              "      <td>1289.9966</td>\n",
              "      <td>1285.9733</td>\n",
              "      <td>H</td>\n",
              "      <td>W</td>\n",
              "      <td>0.784507</td>\n",
              "      <td>NaN</td>\n",
              "    </tr>\n",
              "    <tr>\n",
              "      <th>703</th>\n",
              "      <td>352</td>\n",
              "      <td>194711130BLB</td>\n",
              "      <td>NBA</td>\n",
              "      <td>1</td>\n",
              "      <td>1948</td>\n",
              "      <td>11/13/1947</td>\n",
              "      <td>1</td>\n",
              "      <td>0</td>\n",
              "      <td>BOS</td>\n",
              "      <td>Celtics</td>\n",
              "      <td>...</td>\n",
              "      <td>29.691414</td>\n",
              "      <td>BLB</td>\n",
              "      <td>Baltimore</td>\n",
              "      <td>85</td>\n",
              "      <td>1414.4618</td>\n",
              "      <td>1418.4851</td>\n",
              "      <td>A</td>\n",
              "      <td>L</td>\n",
              "      <td>0.215493</td>\n",
              "      <td>NaN</td>\n",
              "    </tr>\n",
              "    <tr>\n",
              "      <th>704</th>\n",
              "      <td>353</td>\n",
              "      <td>194711130CHS</td>\n",
              "      <td>NBA</td>\n",
              "      <td>0</td>\n",
              "      <td>1948</td>\n",
              "      <td>11/13/1947</td>\n",
              "      <td>1</td>\n",
              "      <td>0</td>\n",
              "      <td>CHS</td>\n",
              "      <td>Stags</td>\n",
              "      <td>...</td>\n",
              "      <td>45.430969</td>\n",
              "      <td>STB</td>\n",
              "      <td>Bombers</td>\n",
              "      <td>70</td>\n",
              "      <td>1395.4702</td>\n",
              "      <td>1389.6464</td>\n",
              "      <td>H</td>\n",
              "      <td>W</td>\n",
              "      <td>0.688478</td>\n",
              "      <td>NaN</td>\n",
              "    </tr>\n",
              "    <tr>\n",
              "      <th>...</th>\n",
              "      <td>...</td>\n",
              "      <td>...</td>\n",
              "      <td>...</td>\n",
              "      <td>...</td>\n",
              "      <td>...</td>\n",
              "      <td>...</td>\n",
              "      <td>...</td>\n",
              "      <td>...</td>\n",
              "      <td>...</td>\n",
              "      <td>...</td>\n",
              "      <td>...</td>\n",
              "      <td>...</td>\n",
              "      <td>...</td>\n",
              "      <td>...</td>\n",
              "      <td>...</td>\n",
              "      <td>...</td>\n",
              "      <td>...</td>\n",
              "      <td>...</td>\n",
              "      <td>...</td>\n",
              "      <td>...</td>\n",
              "      <td>...</td>\n",
              "    </tr>\n",
              "    <tr>\n",
              "      <th>1885</th>\n",
              "      <td>943</td>\n",
              "      <td>194904090WSC</td>\n",
              "      <td>NBA</td>\n",
              "      <td>1</td>\n",
              "      <td>1949</td>\n",
              "      <td>4/9/1949</td>\n",
              "      <td>68</td>\n",
              "      <td>1</td>\n",
              "      <td>MNL</td>\n",
              "      <td>Lakers</td>\n",
              "      <td>...</td>\n",
              "      <td>59.256477</td>\n",
              "      <td>WSC</td>\n",
              "      <td>Capitols</td>\n",
              "      <td>83</td>\n",
              "      <td>1469.5483</td>\n",
              "      <td>1484.5758</td>\n",
              "      <td>A</td>\n",
              "      <td>L</td>\n",
              "      <td>0.606789</td>\n",
              "      <td>NaN</td>\n",
              "    </tr>\n",
              "    <tr>\n",
              "      <th>1886</th>\n",
              "      <td>944</td>\n",
              "      <td>194904110WSC</td>\n",
              "      <td>NBA</td>\n",
              "      <td>0</td>\n",
              "      <td>1949</td>\n",
              "      <td>4/11/1949</td>\n",
              "      <td>70</td>\n",
              "      <td>1</td>\n",
              "      <td>WSC</td>\n",
              "      <td>Capitols</td>\n",
              "      <td>...</td>\n",
              "      <td>46.550896</td>\n",
              "      <td>MNL</td>\n",
              "      <td>Lakers</td>\n",
              "      <td>65</td>\n",
              "      <td>1629.8854</td>\n",
              "      <td>1618.4757</td>\n",
              "      <td>H</td>\n",
              "      <td>W</td>\n",
              "      <td>0.435161</td>\n",
              "      <td>NaN</td>\n",
              "    </tr>\n",
              "    <tr>\n",
              "      <th>1887</th>\n",
              "      <td>944</td>\n",
              "      <td>194904110WSC</td>\n",
              "      <td>NBA</td>\n",
              "      <td>1</td>\n",
              "      <td>1949</td>\n",
              "      <td>4/11/1949</td>\n",
              "      <td>69</td>\n",
              "      <td>1</td>\n",
              "      <td>MNL</td>\n",
              "      <td>Lakers</td>\n",
              "      <td>...</td>\n",
              "      <td>58.284595</td>\n",
              "      <td>WSC</td>\n",
              "      <td>Capitols</td>\n",
              "      <td>74</td>\n",
              "      <td>1484.5758</td>\n",
              "      <td>1495.9855</td>\n",
              "      <td>A</td>\n",
              "      <td>L</td>\n",
              "      <td>0.564839</td>\n",
              "      <td>NaN</td>\n",
              "    </tr>\n",
              "    <tr>\n",
              "      <th>1888</th>\n",
              "      <td>945</td>\n",
              "      <td>194904130LAL</td>\n",
              "      <td>NBA</td>\n",
              "      <td>0</td>\n",
              "      <td>1949</td>\n",
              "      <td>4/13/1949</td>\n",
              "      <td>70</td>\n",
              "      <td>1</td>\n",
              "      <td>MNL</td>\n",
              "      <td>Lakers</td>\n",
              "      <td>...</td>\n",
              "      <td>58.820530</td>\n",
              "      <td>WSC</td>\n",
              "      <td>Capitols</td>\n",
              "      <td>56</td>\n",
              "      <td>1495.9855</td>\n",
              "      <td>1489.7295</td>\n",
              "      <td>H</td>\n",
              "      <td>W</td>\n",
              "      <td>0.782579</td>\n",
              "      <td>at Saint Paul MN</td>\n",
              "    </tr>\n",
              "    <tr>\n",
              "      <th>1889</th>\n",
              "      <td>945</td>\n",
              "      <td>194904130LAL</td>\n",
              "      <td>NBA</td>\n",
              "      <td>1</td>\n",
              "      <td>1949</td>\n",
              "      <td>4/13/1949</td>\n",
              "      <td>71</td>\n",
              "      <td>1</td>\n",
              "      <td>WSC</td>\n",
              "      <td>Capitols</td>\n",
              "      <td>...</td>\n",
              "      <td>45.905354</td>\n",
              "      <td>MNL</td>\n",
              "      <td>Lakers</td>\n",
              "      <td>77</td>\n",
              "      <td>1618.4757</td>\n",
              "      <td>1624.7317</td>\n",
              "      <td>A</td>\n",
              "      <td>L</td>\n",
              "      <td>0.217421</td>\n",
              "      <td>at Saint Paul MN</td>\n",
              "    </tr>\n",
              "  </tbody>\n",
              "</table>\n",
              "<p>1190 rows × 23 columns</p>\n",
              "</div>"
            ],
            "text/plain": [
              "      gameorder       game_id lg_id  _iscopy  year_id   date_game  seasongame  \\\n",
              "700         351  194711120WSC   NBA        0     1948  11/12/1947           1   \n",
              "701         351  194711120WSC   NBA        1     1948  11/12/1947           1   \n",
              "702         352  194711130BLB   NBA        0     1948  11/13/1947           2   \n",
              "703         352  194711130BLB   NBA        1     1948  11/13/1947           1   \n",
              "704         353  194711130CHS   NBA        0     1948  11/13/1947           1   \n",
              "...         ...           ...   ...      ...      ...         ...         ...   \n",
              "1885        943  194904090WSC   NBA        1     1949    4/9/1949          68   \n",
              "1886        944  194904110WSC   NBA        0     1949   4/11/1949          70   \n",
              "1887        944  194904110WSC   NBA        1     1949   4/11/1949          69   \n",
              "1888        945  194904130LAL   NBA        0     1949   4/13/1949          70   \n",
              "1889        945  194904130LAL   NBA        1     1949   4/13/1949          71   \n",
              "\n",
              "      is_playoffs team_id    fran_id  ...  win_equiv  opp_id   opp_fran  \\\n",
              "700             0     WSC   Capitols  ...  50.173782     BLB  Baltimore   \n",
              "701             0     BLB  Baltimore  ...  42.867378     WSC   Capitols   \n",
              "702             0     BLB  Baltimore  ...  43.288319     BOS    Celtics   \n",
              "703             0     BOS    Celtics  ...  29.691414     BLB  Baltimore   \n",
              "704             0     CHS      Stags  ...  45.430969     STB    Bombers   \n",
              "...           ...     ...        ...  ...        ...     ...        ...   \n",
              "1885            1     MNL     Lakers  ...  59.256477     WSC   Capitols   \n",
              "1886            1     WSC   Capitols  ...  46.550896     MNL     Lakers   \n",
              "1887            1     MNL     Lakers  ...  58.284595     WSC   Capitols   \n",
              "1888            1     MNL     Lakers  ...  58.820530     WSC   Capitols   \n",
              "1889            1     WSC   Capitols  ...  45.905354     MNL     Lakers   \n",
              "\n",
              "      opp_pts  opp_elo_i  opp_elo_n  game_location  game_result  forecast  \\\n",
              "700        55  1419.0000  1414.4618              H            W  0.717674   \n",
              "701        63  1481.0703  1485.6085              A            L  0.282326   \n",
              "702        74  1289.9966  1285.9733              H            W  0.784507   \n",
              "703        85  1414.4618  1418.4851              A            L  0.215493   \n",
              "704        70  1395.4702  1389.6464              H            W  0.688478   \n",
              "...       ...        ...        ...            ...          ...       ...   \n",
              "1885       83  1469.5483  1484.5758              A            L  0.606789   \n",
              "1886       65  1629.8854  1618.4757              H            W  0.435161   \n",
              "1887       74  1484.5758  1495.9855              A            L  0.564839   \n",
              "1888       56  1495.9855  1489.7295              H            W  0.782579   \n",
              "1889       77  1618.4757  1624.7317              A            L  0.217421   \n",
              "\n",
              "                 notes  \n",
              "700                NaN  \n",
              "701                NaN  \n",
              "702                NaN  \n",
              "703                NaN  \n",
              "704                NaN  \n",
              "...                ...  \n",
              "1885               NaN  \n",
              "1886               NaN  \n",
              "1887               NaN  \n",
              "1888  at Saint Paul MN  \n",
              "1889  at Saint Paul MN  \n",
              "\n",
              "[1190 rows x 23 columns]"
            ]
          },
          "execution_count": 7,
          "metadata": {},
          "output_type": "execute_result"
        }
      ],
      "source": [
        "nbaYear = nba[nba[\"year_id\"].isin([1948, 1949])]\n",
        "nbaYear"
      ]
    },
    {
      "cell_type": "markdown",
      "metadata": {
        "id": "5jBNP6w2_8N8"
      },
      "source": [
        "*Get first N columns from a dataframe*"
      ]
    },
    {
      "cell_type": "code",
      "execution_count": 8,
      "metadata": {
        "id": "GvIW1dm--DhF"
      },
      "outputs": [
        {
          "data": {
            "text/html": [
              "<div>\n",
              "<style scoped>\n",
              "    .dataframe tbody tr th:only-of-type {\n",
              "        vertical-align: middle;\n",
              "    }\n",
              "\n",
              "    .dataframe tbody tr th {\n",
              "        vertical-align: top;\n",
              "    }\n",
              "\n",
              "    .dataframe thead th {\n",
              "        text-align: right;\n",
              "    }\n",
              "</style>\n",
              "<table border=\"1\" class=\"dataframe\">\n",
              "  <thead>\n",
              "    <tr style=\"text-align: right;\">\n",
              "      <th></th>\n",
              "      <th>gameorder</th>\n",
              "      <th>game_id</th>\n",
              "      <th>lg_id</th>\n",
              "    </tr>\n",
              "  </thead>\n",
              "  <tbody>\n",
              "    <tr>\n",
              "      <th>0</th>\n",
              "      <td>1</td>\n",
              "      <td>194611010TRH</td>\n",
              "      <td>NBA</td>\n",
              "    </tr>\n",
              "    <tr>\n",
              "      <th>1</th>\n",
              "      <td>1</td>\n",
              "      <td>194611010TRH</td>\n",
              "      <td>NBA</td>\n",
              "    </tr>\n",
              "    <tr>\n",
              "      <th>2</th>\n",
              "      <td>2</td>\n",
              "      <td>194611020CHS</td>\n",
              "      <td>NBA</td>\n",
              "    </tr>\n",
              "    <tr>\n",
              "      <th>3</th>\n",
              "      <td>2</td>\n",
              "      <td>194611020CHS</td>\n",
              "      <td>NBA</td>\n",
              "    </tr>\n",
              "    <tr>\n",
              "      <th>4</th>\n",
              "      <td>3</td>\n",
              "      <td>194611020DTF</td>\n",
              "      <td>NBA</td>\n",
              "    </tr>\n",
              "    <tr>\n",
              "      <th>...</th>\n",
              "      <td>...</td>\n",
              "      <td>...</td>\n",
              "      <td>...</td>\n",
              "    </tr>\n",
              "    <tr>\n",
              "      <th>126309</th>\n",
              "      <td>63155</td>\n",
              "      <td>201506110CLE</td>\n",
              "      <td>NBA</td>\n",
              "    </tr>\n",
              "    <tr>\n",
              "      <th>126310</th>\n",
              "      <td>63156</td>\n",
              "      <td>201506140GSW</td>\n",
              "      <td>NBA</td>\n",
              "    </tr>\n",
              "    <tr>\n",
              "      <th>126311</th>\n",
              "      <td>63156</td>\n",
              "      <td>201506140GSW</td>\n",
              "      <td>NBA</td>\n",
              "    </tr>\n",
              "    <tr>\n",
              "      <th>126312</th>\n",
              "      <td>63157</td>\n",
              "      <td>201506170CLE</td>\n",
              "      <td>NBA</td>\n",
              "    </tr>\n",
              "    <tr>\n",
              "      <th>126313</th>\n",
              "      <td>63157</td>\n",
              "      <td>201506170CLE</td>\n",
              "      <td>NBA</td>\n",
              "    </tr>\n",
              "  </tbody>\n",
              "</table>\n",
              "<p>126314 rows × 3 columns</p>\n",
              "</div>"
            ],
            "text/plain": [
              "        gameorder       game_id lg_id\n",
              "0               1  194611010TRH   NBA\n",
              "1               1  194611010TRH   NBA\n",
              "2               2  194611020CHS   NBA\n",
              "3               2  194611020CHS   NBA\n",
              "4               3  194611020DTF   NBA\n",
              "...           ...           ...   ...\n",
              "126309      63155  201506110CLE   NBA\n",
              "126310      63156  201506140GSW   NBA\n",
              "126311      63156  201506140GSW   NBA\n",
              "126312      63157  201506170CLE   NBA\n",
              "126313      63157  201506170CLE   NBA\n",
              "\n",
              "[126314 rows x 3 columns]"
            ]
          },
          "execution_count": 8,
          "metadata": {},
          "output_type": "execute_result"
        }
      ],
      "source": [
        "n=3\n",
        "aux = nba.iloc[:,:n]\n",
        "#renamedNba\n",
        "aux"
      ]
    },
    {
      "cell_type": "markdown",
      "metadata": {
        "id": "pqQolfQG_2un"
      },
      "source": [
        "*Get last N columns from a dataframe*"
      ]
    },
    {
      "cell_type": "code",
      "execution_count": 9,
      "metadata": {
        "id": "old4dp6q-nA7"
      },
      "outputs": [
        {
          "data": {
            "text/html": [
              "<div>\n",
              "<style scoped>\n",
              "    .dataframe tbody tr th:only-of-type {\n",
              "        vertical-align: middle;\n",
              "    }\n",
              "\n",
              "    .dataframe tbody tr th {\n",
              "        vertical-align: top;\n",
              "    }\n",
              "\n",
              "    .dataframe thead th {\n",
              "        text-align: right;\n",
              "    }\n",
              "</style>\n",
              "<table border=\"1\" class=\"dataframe\">\n",
              "  <thead>\n",
              "    <tr style=\"text-align: right;\">\n",
              "      <th></th>\n",
              "      <th>game_result</th>\n",
              "      <th>forecast</th>\n",
              "      <th>notes</th>\n",
              "    </tr>\n",
              "  </thead>\n",
              "  <tbody>\n",
              "    <tr>\n",
              "      <th>0</th>\n",
              "      <td>L</td>\n",
              "      <td>0.640065</td>\n",
              "      <td>NaN</td>\n",
              "    </tr>\n",
              "    <tr>\n",
              "      <th>1</th>\n",
              "      <td>W</td>\n",
              "      <td>0.359935</td>\n",
              "      <td>NaN</td>\n",
              "    </tr>\n",
              "    <tr>\n",
              "      <th>2</th>\n",
              "      <td>W</td>\n",
              "      <td>0.631101</td>\n",
              "      <td>NaN</td>\n",
              "    </tr>\n",
              "    <tr>\n",
              "      <th>3</th>\n",
              "      <td>L</td>\n",
              "      <td>0.368899</td>\n",
              "      <td>NaN</td>\n",
              "    </tr>\n",
              "    <tr>\n",
              "      <th>4</th>\n",
              "      <td>L</td>\n",
              "      <td>0.640065</td>\n",
              "      <td>NaN</td>\n",
              "    </tr>\n",
              "    <tr>\n",
              "      <th>...</th>\n",
              "      <td>...</td>\n",
              "      <td>...</td>\n",
              "      <td>...</td>\n",
              "    </tr>\n",
              "    <tr>\n",
              "      <th>126309</th>\n",
              "      <td>L</td>\n",
              "      <td>0.546572</td>\n",
              "      <td>NaN</td>\n",
              "    </tr>\n",
              "    <tr>\n",
              "      <th>126310</th>\n",
              "      <td>W</td>\n",
              "      <td>0.765565</td>\n",
              "      <td>NaN</td>\n",
              "    </tr>\n",
              "    <tr>\n",
              "      <th>126311</th>\n",
              "      <td>L</td>\n",
              "      <td>0.234435</td>\n",
              "      <td>NaN</td>\n",
              "    </tr>\n",
              "    <tr>\n",
              "      <th>126312</th>\n",
              "      <td>L</td>\n",
              "      <td>0.481450</td>\n",
              "      <td>NaN</td>\n",
              "    </tr>\n",
              "    <tr>\n",
              "      <th>126313</th>\n",
              "      <td>W</td>\n",
              "      <td>0.518550</td>\n",
              "      <td>NaN</td>\n",
              "    </tr>\n",
              "  </tbody>\n",
              "</table>\n",
              "<p>126314 rows × 3 columns</p>\n",
              "</div>"
            ],
            "text/plain": [
              "       game_result  forecast notes\n",
              "0                L  0.640065   NaN\n",
              "1                W  0.359935   NaN\n",
              "2                W  0.631101   NaN\n",
              "3                L  0.368899   NaN\n",
              "4                L  0.640065   NaN\n",
              "...            ...       ...   ...\n",
              "126309           L  0.546572   NaN\n",
              "126310           W  0.765565   NaN\n",
              "126311           L  0.234435   NaN\n",
              "126312           L  0.481450   NaN\n",
              "126313           W  0.518550   NaN\n",
              "\n",
              "[126314 rows x 3 columns]"
            ]
          },
          "execution_count": 9,
          "metadata": {},
          "output_type": "execute_result"
        }
      ],
      "source": [
        "aux = nba.iloc[:,-3:]\n",
        "aux"
      ]
    },
    {
      "cell_type": "markdown",
      "metadata": {
        "id": "4T9ObazgArtO"
      },
      "source": []
    },
    {
      "cell_type": "markdown",
      "metadata": {
        "id": "d3iNajqoK6cA"
      },
      "source": [
        "### Deriving new Feature"
      ]
    },
    {
      "cell_type": "markdown",
      "metadata": {
        "id": "E9TRIHxxBA-I"
      },
      "source": [
        "*Create new Feature (column)*"
      ]
    },
    {
      "cell_type": "code",
      "execution_count": 10,
      "metadata": {
        "colab": {
          "base_uri": "https://localhost:8080/"
        },
        "id": "Q9PVU1sfAsQX",
        "outputId": "1b82084b-879c-46bb-958b-395c2aec2254"
      },
      "outputs": [
        {
          "data": {
            "text/plain": [
              "Index(['gameorder', 'game_id', 'lg_id', '_iscopy', 'year_id', 'date_game',\n",
              "       'seasongame', 'is_playoffs', 'team_id', 'fran_id', 'pts', 'elo_i',\n",
              "       'elo_n', 'win_equiv', 'opp_id', 'opp_fran', 'opp_pts', 'opp_elo_i',\n",
              "       'opp_elo_n', 'game_location', 'game_result', 'forecast', 'notes',\n",
              "       'date_played'],\n",
              "      dtype='object')"
            ]
          },
          "execution_count": 10,
          "metadata": {},
          "output_type": "execute_result"
        }
      ],
      "source": [
        "nba[\"date_played\"] = pd.to_datetime(nba[\"date_game\"])\n",
        "nba\n",
        "nba.columns"
      ]
    },
    {
      "cell_type": "markdown",
      "metadata": {
        "id": "-tWwn2yUID6m"
      },
      "source": [
        "*Create new Feature from calculus over others*"
      ]
    },
    {
      "cell_type": "code",
      "execution_count": 11,
      "metadata": {
        "colab": {
          "base_uri": "https://localhost:8080/"
        },
        "id": "QgFpbtN7CeES",
        "outputId": "c965d24c-8202-487a-d0eb-87c0d600cf9a"
      },
      "outputs": [
        {
          "data": {
            "text/plain": [
              "(126314, 25)"
            ]
          },
          "execution_count": 11,
          "metadata": {},
          "output_type": "execute_result"
        }
      ],
      "source": [
        "#See https://www.plus2net.com/python/pandas-dt-timedelta64.php\n",
        "from datetime import date\n",
        "today = pd.to_datetime(date.today())\n",
        "nba['DaysCPassed'] = (today-nba['date_played']) / np.timedelta64(1, 'D')\n",
        "nba.shape"
      ]
    },
    {
      "cell_type": "code",
      "execution_count": 12,
      "metadata": {
        "colab": {
          "base_uri": "https://localhost:8080/"
        },
        "id": "SzFuecvUIn3B",
        "outputId": "e25e3452-89bf-4513-f818-44c2d8253b50"
      },
      "outputs": [
        {
          "data": {
            "text/plain": [
              "28208.0"
            ]
          },
          "execution_count": 12,
          "metadata": {},
          "output_type": "execute_result"
        }
      ],
      "source": [
        "nba.DaysCPassed.max()"
      ]
    },
    {
      "cell_type": "markdown",
      "metadata": {
        "id": "KdBp7-zKJ7pj"
      },
      "source": [
        "### Change features names"
      ]
    },
    {
      "cell_type": "code",
      "execution_count": 13,
      "metadata": {
        "id": "xk7qiuoJLJgX"
      },
      "outputs": [],
      "source": [
        "renamedNba = nba.rename(columns={\"DaysCPassed\": \"DaysPassed\"})"
      ]
    },
    {
      "cell_type": "code",
      "execution_count": 14,
      "metadata": {
        "id": "MwzdfQr_LbH0"
      },
      "outputs": [
        {
          "name": "stdout",
          "output_type": "stream",
          "text": [
            "<class 'pandas.core.frame.DataFrame'>\n",
            "RangeIndex: 126314 entries, 0 to 126313\n",
            "Data columns (total 25 columns):\n",
            " #   Column         Non-Null Count   Dtype         \n",
            "---  ------         --------------   -----         \n",
            " 0   gameorder      126314 non-null  int64         \n",
            " 1   game_id        126314 non-null  object        \n",
            " 2   lg_id          126314 non-null  object        \n",
            " 3   _iscopy        126314 non-null  int64         \n",
            " 4   year_id        126314 non-null  int64         \n",
            " 5   date_game      126314 non-null  object        \n",
            " 6   seasongame     126314 non-null  int64         \n",
            " 7   is_playoffs    126314 non-null  int64         \n",
            " 8   team_id        126314 non-null  object        \n",
            " 9   fran_id        126314 non-null  object        \n",
            " 10  pts            126314 non-null  int64         \n",
            " 11  elo_i          126314 non-null  float64       \n",
            " 12  elo_n          126314 non-null  float64       \n",
            " 13  win_equiv      126314 non-null  float64       \n",
            " 14  opp_id         126314 non-null  object        \n",
            " 15  opp_fran       126314 non-null  object        \n",
            " 16  opp_pts        126314 non-null  int64         \n",
            " 17  opp_elo_i      126314 non-null  float64       \n",
            " 18  opp_elo_n      126314 non-null  float64       \n",
            " 19  game_location  126314 non-null  object        \n",
            " 20  game_result    126314 non-null  object        \n",
            " 21  forecast       126314 non-null  float64       \n",
            " 22  notes          5424 non-null    object        \n",
            " 23  date_played    126314 non-null  datetime64[ns]\n",
            " 24  DaysPassed     126314 non-null  float64       \n",
            "dtypes: datetime64[ns](1), float64(7), int64(7), object(10)\n",
            "memory usage: 24.1+ MB\n",
            "--------------------------------------------------\n",
            "<class 'pandas.core.frame.DataFrame'>\n",
            "RangeIndex: 126314 entries, 0 to 126313\n",
            "Data columns (total 25 columns):\n",
            " #   Column         Non-Null Count   Dtype         \n",
            "---  ------         --------------   -----         \n",
            " 0   gameorder      126314 non-null  int64         \n",
            " 1   game_id        126314 non-null  object        \n",
            " 2   lg_id          126314 non-null  object        \n",
            " 3   _iscopy        126314 non-null  int64         \n",
            " 4   year_id        126314 non-null  int64         \n",
            " 5   date_game      126314 non-null  object        \n",
            " 6   seasongame     126314 non-null  int64         \n",
            " 7   is_playoffs    126314 non-null  int64         \n",
            " 8   team_id        126314 non-null  object        \n",
            " 9   fran_id        126314 non-null  object        \n",
            " 10  pts            126314 non-null  int64         \n",
            " 11  elo_i          126314 non-null  float64       \n",
            " 12  elo_n          126314 non-null  float64       \n",
            " 13  win_equiv      126314 non-null  float64       \n",
            " 14  opp_id         126314 non-null  object        \n",
            " 15  opp_fran       126314 non-null  object        \n",
            " 16  opp_pts        126314 non-null  int64         \n",
            " 17  opp_elo_i      126314 non-null  float64       \n",
            " 18  opp_elo_n      126314 non-null  float64       \n",
            " 19  game_location  126314 non-null  object        \n",
            " 20  game_result    126314 non-null  object        \n",
            " 21  forecast       126314 non-null  float64       \n",
            " 22  notes          5424 non-null    object        \n",
            " 23  date_played    126314 non-null  datetime64[ns]\n",
            " 24  DaysCPassed    126314 non-null  float64       \n",
            "dtypes: datetime64[ns](1), float64(7), int64(7), object(10)\n",
            "memory usage: 24.1+ MB\n"
          ]
        }
      ],
      "source": [
        "renamedNba.info()\n",
        "print('-'*50)\n",
        "nba.info()"
      ]
    },
    {
      "cell_type": "markdown",
      "metadata": {
        "id": "jxPJJYUmL5H2"
      },
      "source": [
        "### Deleting Features"
      ]
    },
    {
      "cell_type": "markdown",
      "metadata": {
        "id": "Mp9WUNTqBusH"
      },
      "source": [
        "*Delete a particular Feature (column)*"
      ]
    },
    {
      "cell_type": "code",
      "execution_count": 15,
      "metadata": {
        "id": "z6Veu-NEBeI-"
      },
      "outputs": [
        {
          "ename": "KeyError",
          "evalue": "\"['C'] not found in axis\"",
          "output_type": "error",
          "traceback": [
            "\u001b[1;31m---------------------------------------------------------------------------\u001b[0m",
            "\u001b[1;31mKeyError\u001b[0m                                  Traceback (most recent call last)",
            "Cell \u001b[1;32mIn[15], line 1\u001b[0m\n\u001b[1;32m----> 1\u001b[0m df \u001b[38;5;241m=\u001b[39m \u001b[43mnba\u001b[49m\u001b[38;5;241;43m.\u001b[39;49m\u001b[43mdrop\u001b[49m\u001b[43m(\u001b[49m\u001b[43mcolumns\u001b[49m\u001b[38;5;241;43m=\u001b[39;49m\u001b[43m[\u001b[49m\u001b[38;5;124;43m'\u001b[39;49m\u001b[38;5;124;43mC\u001b[39;49m\u001b[38;5;124;43m'\u001b[39;49m\u001b[43m]\u001b[49m\u001b[43m)\u001b[49m\n\u001b[0;32m      2\u001b[0m df\u001b[38;5;241m.\u001b[39mshape\n\u001b[0;32m      3\u001b[0m df\n",
            "File \u001b[1;32mc:\\Users\\eel20\\anaconda3\\lib\\site-packages\\pandas\\util\\_decorators.py:331\u001b[0m, in \u001b[0;36mdeprecate_nonkeyword_arguments.<locals>.decorate.<locals>.wrapper\u001b[1;34m(*args, **kwargs)\u001b[0m\n\u001b[0;32m    325\u001b[0m \u001b[38;5;28;01mif\u001b[39;00m \u001b[38;5;28mlen\u001b[39m(args) \u001b[38;5;241m>\u001b[39m num_allow_args:\n\u001b[0;32m    326\u001b[0m     warnings\u001b[38;5;241m.\u001b[39mwarn(\n\u001b[0;32m    327\u001b[0m         msg\u001b[38;5;241m.\u001b[39mformat(arguments\u001b[38;5;241m=\u001b[39m_format_argument_list(allow_args)),\n\u001b[0;32m    328\u001b[0m         \u001b[38;5;167;01mFutureWarning\u001b[39;00m,\n\u001b[0;32m    329\u001b[0m         stacklevel\u001b[38;5;241m=\u001b[39mfind_stack_level(),\n\u001b[0;32m    330\u001b[0m     )\n\u001b[1;32m--> 331\u001b[0m \u001b[38;5;28;01mreturn\u001b[39;00m func(\u001b[38;5;241m*\u001b[39margs, \u001b[38;5;241m*\u001b[39m\u001b[38;5;241m*\u001b[39mkwargs)\n",
            "File \u001b[1;32mc:\\Users\\eel20\\anaconda3\\lib\\site-packages\\pandas\\core\\frame.py:5399\u001b[0m, in \u001b[0;36mDataFrame.drop\u001b[1;34m(self, labels, axis, index, columns, level, inplace, errors)\u001b[0m\n\u001b[0;32m   5251\u001b[0m \u001b[38;5;129m@deprecate_nonkeyword_arguments\u001b[39m(version\u001b[38;5;241m=\u001b[39m\u001b[38;5;28;01mNone\u001b[39;00m, allowed_args\u001b[38;5;241m=\u001b[39m[\u001b[38;5;124m\"\u001b[39m\u001b[38;5;124mself\u001b[39m\u001b[38;5;124m\"\u001b[39m, \u001b[38;5;124m\"\u001b[39m\u001b[38;5;124mlabels\u001b[39m\u001b[38;5;124m\"\u001b[39m])\n\u001b[0;32m   5252\u001b[0m \u001b[38;5;28;01mdef\u001b[39;00m \u001b[38;5;21mdrop\u001b[39m(  \u001b[38;5;66;03m# type: ignore[override]\u001b[39;00m\n\u001b[0;32m   5253\u001b[0m     \u001b[38;5;28mself\u001b[39m,\n\u001b[1;32m   (...)\u001b[0m\n\u001b[0;32m   5260\u001b[0m     errors: IgnoreRaise \u001b[38;5;241m=\u001b[39m \u001b[38;5;124m\"\u001b[39m\u001b[38;5;124mraise\u001b[39m\u001b[38;5;124m\"\u001b[39m,\n\u001b[0;32m   5261\u001b[0m ) \u001b[38;5;241m-\u001b[39m\u001b[38;5;241m>\u001b[39m DataFrame \u001b[38;5;241m|\u001b[39m \u001b[38;5;28;01mNone\u001b[39;00m:\n\u001b[0;32m   5262\u001b[0m \u001b[38;5;250m    \u001b[39m\u001b[38;5;124;03m\"\"\"\u001b[39;00m\n\u001b[0;32m   5263\u001b[0m \u001b[38;5;124;03m    Drop specified labels from rows or columns.\u001b[39;00m\n\u001b[0;32m   5264\u001b[0m \n\u001b[1;32m   (...)\u001b[0m\n\u001b[0;32m   5397\u001b[0m \u001b[38;5;124;03m            weight  1.0     0.8\u001b[39;00m\n\u001b[0;32m   5398\u001b[0m \u001b[38;5;124;03m    \"\"\"\u001b[39;00m\n\u001b[1;32m-> 5399\u001b[0m     \u001b[38;5;28;01mreturn\u001b[39;00m \u001b[38;5;28;43msuper\u001b[39;49m\u001b[43m(\u001b[49m\u001b[43m)\u001b[49m\u001b[38;5;241;43m.\u001b[39;49m\u001b[43mdrop\u001b[49m\u001b[43m(\u001b[49m\n\u001b[0;32m   5400\u001b[0m \u001b[43m        \u001b[49m\u001b[43mlabels\u001b[49m\u001b[38;5;241;43m=\u001b[39;49m\u001b[43mlabels\u001b[49m\u001b[43m,\u001b[49m\n\u001b[0;32m   5401\u001b[0m \u001b[43m        \u001b[49m\u001b[43maxis\u001b[49m\u001b[38;5;241;43m=\u001b[39;49m\u001b[43maxis\u001b[49m\u001b[43m,\u001b[49m\n\u001b[0;32m   5402\u001b[0m \u001b[43m        \u001b[49m\u001b[43mindex\u001b[49m\u001b[38;5;241;43m=\u001b[39;49m\u001b[43mindex\u001b[49m\u001b[43m,\u001b[49m\n\u001b[0;32m   5403\u001b[0m \u001b[43m        \u001b[49m\u001b[43mcolumns\u001b[49m\u001b[38;5;241;43m=\u001b[39;49m\u001b[43mcolumns\u001b[49m\u001b[43m,\u001b[49m\n\u001b[0;32m   5404\u001b[0m \u001b[43m        \u001b[49m\u001b[43mlevel\u001b[49m\u001b[38;5;241;43m=\u001b[39;49m\u001b[43mlevel\u001b[49m\u001b[43m,\u001b[49m\n\u001b[0;32m   5405\u001b[0m \u001b[43m        \u001b[49m\u001b[43minplace\u001b[49m\u001b[38;5;241;43m=\u001b[39;49m\u001b[43minplace\u001b[49m\u001b[43m,\u001b[49m\n\u001b[0;32m   5406\u001b[0m \u001b[43m        \u001b[49m\u001b[43merrors\u001b[49m\u001b[38;5;241;43m=\u001b[39;49m\u001b[43merrors\u001b[49m\u001b[43m,\u001b[49m\n\u001b[0;32m   5407\u001b[0m \u001b[43m    \u001b[49m\u001b[43m)\u001b[49m\n",
            "File \u001b[1;32mc:\\Users\\eel20\\anaconda3\\lib\\site-packages\\pandas\\util\\_decorators.py:331\u001b[0m, in \u001b[0;36mdeprecate_nonkeyword_arguments.<locals>.decorate.<locals>.wrapper\u001b[1;34m(*args, **kwargs)\u001b[0m\n\u001b[0;32m    325\u001b[0m \u001b[38;5;28;01mif\u001b[39;00m \u001b[38;5;28mlen\u001b[39m(args) \u001b[38;5;241m>\u001b[39m num_allow_args:\n\u001b[0;32m    326\u001b[0m     warnings\u001b[38;5;241m.\u001b[39mwarn(\n\u001b[0;32m    327\u001b[0m         msg\u001b[38;5;241m.\u001b[39mformat(arguments\u001b[38;5;241m=\u001b[39m_format_argument_list(allow_args)),\n\u001b[0;32m    328\u001b[0m         \u001b[38;5;167;01mFutureWarning\u001b[39;00m,\n\u001b[0;32m    329\u001b[0m         stacklevel\u001b[38;5;241m=\u001b[39mfind_stack_level(),\n\u001b[0;32m    330\u001b[0m     )\n\u001b[1;32m--> 331\u001b[0m \u001b[38;5;28;01mreturn\u001b[39;00m func(\u001b[38;5;241m*\u001b[39margs, \u001b[38;5;241m*\u001b[39m\u001b[38;5;241m*\u001b[39mkwargs)\n",
            "File \u001b[1;32mc:\\Users\\eel20\\anaconda3\\lib\\site-packages\\pandas\\core\\generic.py:4505\u001b[0m, in \u001b[0;36mNDFrame.drop\u001b[1;34m(self, labels, axis, index, columns, level, inplace, errors)\u001b[0m\n\u001b[0;32m   4503\u001b[0m \u001b[38;5;28;01mfor\u001b[39;00m axis, labels \u001b[38;5;129;01min\u001b[39;00m axes\u001b[38;5;241m.\u001b[39mitems():\n\u001b[0;32m   4504\u001b[0m     \u001b[38;5;28;01mif\u001b[39;00m labels \u001b[38;5;129;01mis\u001b[39;00m \u001b[38;5;129;01mnot\u001b[39;00m \u001b[38;5;28;01mNone\u001b[39;00m:\n\u001b[1;32m-> 4505\u001b[0m         obj \u001b[38;5;241m=\u001b[39m \u001b[43mobj\u001b[49m\u001b[38;5;241;43m.\u001b[39;49m\u001b[43m_drop_axis\u001b[49m\u001b[43m(\u001b[49m\u001b[43mlabels\u001b[49m\u001b[43m,\u001b[49m\u001b[43m \u001b[49m\u001b[43maxis\u001b[49m\u001b[43m,\u001b[49m\u001b[43m \u001b[49m\u001b[43mlevel\u001b[49m\u001b[38;5;241;43m=\u001b[39;49m\u001b[43mlevel\u001b[49m\u001b[43m,\u001b[49m\u001b[43m \u001b[49m\u001b[43merrors\u001b[49m\u001b[38;5;241;43m=\u001b[39;49m\u001b[43merrors\u001b[49m\u001b[43m)\u001b[49m\n\u001b[0;32m   4507\u001b[0m \u001b[38;5;28;01mif\u001b[39;00m inplace:\n\u001b[0;32m   4508\u001b[0m     \u001b[38;5;28mself\u001b[39m\u001b[38;5;241m.\u001b[39m_update_inplace(obj)\n",
            "File \u001b[1;32mc:\\Users\\eel20\\anaconda3\\lib\\site-packages\\pandas\\core\\generic.py:4546\u001b[0m, in \u001b[0;36mNDFrame._drop_axis\u001b[1;34m(self, labels, axis, level, errors, only_slice)\u001b[0m\n\u001b[0;32m   4544\u001b[0m         new_axis \u001b[38;5;241m=\u001b[39m axis\u001b[38;5;241m.\u001b[39mdrop(labels, level\u001b[38;5;241m=\u001b[39mlevel, errors\u001b[38;5;241m=\u001b[39merrors)\n\u001b[0;32m   4545\u001b[0m     \u001b[38;5;28;01melse\u001b[39;00m:\n\u001b[1;32m-> 4546\u001b[0m         new_axis \u001b[38;5;241m=\u001b[39m \u001b[43maxis\u001b[49m\u001b[38;5;241;43m.\u001b[39;49m\u001b[43mdrop\u001b[49m\u001b[43m(\u001b[49m\u001b[43mlabels\u001b[49m\u001b[43m,\u001b[49m\u001b[43m \u001b[49m\u001b[43merrors\u001b[49m\u001b[38;5;241;43m=\u001b[39;49m\u001b[43merrors\u001b[49m\u001b[43m)\u001b[49m\n\u001b[0;32m   4547\u001b[0m     indexer \u001b[38;5;241m=\u001b[39m axis\u001b[38;5;241m.\u001b[39mget_indexer(new_axis)\n\u001b[0;32m   4549\u001b[0m \u001b[38;5;66;03m# Case for non-unique axis\u001b[39;00m\n\u001b[0;32m   4550\u001b[0m \u001b[38;5;28;01melse\u001b[39;00m:\n",
            "File \u001b[1;32mc:\\Users\\eel20\\anaconda3\\lib\\site-packages\\pandas\\core\\indexes\\base.py:6934\u001b[0m, in \u001b[0;36mIndex.drop\u001b[1;34m(self, labels, errors)\u001b[0m\n\u001b[0;32m   6932\u001b[0m \u001b[38;5;28;01mif\u001b[39;00m mask\u001b[38;5;241m.\u001b[39many():\n\u001b[0;32m   6933\u001b[0m     \u001b[38;5;28;01mif\u001b[39;00m errors \u001b[38;5;241m!=\u001b[39m \u001b[38;5;124m\"\u001b[39m\u001b[38;5;124mignore\u001b[39m\u001b[38;5;124m\"\u001b[39m:\n\u001b[1;32m-> 6934\u001b[0m         \u001b[38;5;28;01mraise\u001b[39;00m \u001b[38;5;167;01mKeyError\u001b[39;00m(\u001b[38;5;124mf\u001b[39m\u001b[38;5;124m\"\u001b[39m\u001b[38;5;132;01m{\u001b[39;00m\u001b[38;5;28mlist\u001b[39m(labels[mask])\u001b[38;5;132;01m}\u001b[39;00m\u001b[38;5;124m not found in axis\u001b[39m\u001b[38;5;124m\"\u001b[39m)\n\u001b[0;32m   6935\u001b[0m     indexer \u001b[38;5;241m=\u001b[39m indexer[\u001b[38;5;241m~\u001b[39mmask]\n\u001b[0;32m   6936\u001b[0m \u001b[38;5;28;01mreturn\u001b[39;00m \u001b[38;5;28mself\u001b[39m\u001b[38;5;241m.\u001b[39mdelete(indexer)\n",
            "\u001b[1;31mKeyError\u001b[0m: \"['C'] not found in axis\""
          ]
        }
      ],
      "source": [
        "df = nba.drop(columns=['C'])\n",
        "df.shape\n",
        "df"
      ]
    },
    {
      "cell_type": "code",
      "execution_count": 17,
      "metadata": {
        "id": "5xh1AqiDLct9"
      },
      "outputs": [
        {
          "name": "stdout",
          "output_type": "stream",
          "text": [
            "<class 'pandas.core.frame.DataFrame'>\n",
            "RangeIndex: 126314 entries, 0 to 126313\n",
            "Data columns (total 25 columns):\n",
            " #   Column         Non-Null Count   Dtype         \n",
            "---  ------         --------------   -----         \n",
            " 0   gameorder      126314 non-null  int64         \n",
            " 1   game_id        126314 non-null  object        \n",
            " 2   lg_id          126314 non-null  object        \n",
            " 3   _iscopy        126314 non-null  int64         \n",
            " 4   year_id        126314 non-null  int64         \n",
            " 5   date_game      126314 non-null  object        \n",
            " 6   seasongame     126314 non-null  int64         \n",
            " 7   is_playoffs    126314 non-null  int64         \n",
            " 8   team_id        126314 non-null  object        \n",
            " 9   fran_id        126314 non-null  object        \n",
            " 10  pts            126314 non-null  int64         \n",
            " 11  elo_i          126314 non-null  float64       \n",
            " 12  elo_n          126314 non-null  float64       \n",
            " 13  win_equiv      126314 non-null  float64       \n",
            " 14  opp_id         126314 non-null  object        \n",
            " 15  opp_fran       126314 non-null  object        \n",
            " 16  opp_pts        126314 non-null  int64         \n",
            " 17  opp_elo_i      126314 non-null  float64       \n",
            " 18  opp_elo_n      126314 non-null  float64       \n",
            " 19  game_location  126314 non-null  object        \n",
            " 20  game_result    126314 non-null  object        \n",
            " 21  forecast       126314 non-null  float64       \n",
            " 22  notes          5424 non-null    object        \n",
            " 23  date_played    126314 non-null  datetime64[ns]\n",
            " 24  DaysPassed     126314 non-null  float64       \n",
            "dtypes: datetime64[ns](1), float64(7), int64(7), object(10)\n",
            "memory usage: 24.1+ MB\n",
            "--------------------------------------------------\n"
          ]
        },
        {
          "data": {
            "text/plain": [
              "(126314, 25)"
            ]
          },
          "execution_count": 17,
          "metadata": {},
          "output_type": "execute_result"
        }
      ],
      "source": [
        "#renamedNba.drop(['C'], inplace=True, axis=1)\n",
        "renamedNba.info()\n",
        "print('-'*50)\n",
        "renamedNba.shape"
      ]
    },
    {
      "cell_type": "markdown",
      "metadata": {
        "id": "laaIfiSfVPK9"
      },
      "source": [
        "### Changing the Data Type of Columns"
      ]
    },
    {
      "cell_type": "code",
      "execution_count": 18,
      "metadata": {
        "id": "q9rtxPJPP5R-"
      },
      "outputs": [
        {
          "name": "stdout",
          "output_type": "stream",
          "text": [
            "<class 'pandas.core.frame.DataFrame'>\n",
            "RangeIndex: 126314 entries, 0 to 126313\n",
            "Data columns (total 25 columns):\n",
            " #   Column         Non-Null Count   Dtype         \n",
            "---  ------         --------------   -----         \n",
            " 0   gameorder      126314 non-null  int64         \n",
            " 1   game_id        126314 non-null  object        \n",
            " 2   lg_id          126314 non-null  object        \n",
            " 3   _iscopy        126314 non-null  int64         \n",
            " 4   year_id        126314 non-null  int64         \n",
            " 5   date_game      126314 non-null  object        \n",
            " 6   seasongame     126314 non-null  int64         \n",
            " 7   is_playoffs    126314 non-null  int64         \n",
            " 8   team_id        126314 non-null  object        \n",
            " 9   fran_id        126314 non-null  object        \n",
            " 10  pts            126314 non-null  int64         \n",
            " 11  elo_i          126314 non-null  float64       \n",
            " 12  elo_n          126314 non-null  float64       \n",
            " 13  win_equiv      126314 non-null  float64       \n",
            " 14  opp_id         126314 non-null  object        \n",
            " 15  opp_fran       126314 non-null  object        \n",
            " 16  opp_pts        126314 non-null  int64         \n",
            " 17  opp_elo_i      126314 non-null  float64       \n",
            " 18  opp_elo_n      126314 non-null  float64       \n",
            " 19  game_location  126314 non-null  object        \n",
            " 20  game_result    126314 non-null  object        \n",
            " 21  forecast       126314 non-null  float64       \n",
            " 22  notes          5424 non-null    object        \n",
            " 23  date_played    126314 non-null  datetime64[ns]\n",
            " 24  DaysCPassed    126314 non-null  float64       \n",
            "dtypes: datetime64[ns](1), float64(7), int64(7), object(10)\n",
            "memory usage: 24.1+ MB\n"
          ]
        },
        {
          "data": {
            "text/html": [
              "<div>\n",
              "<style scoped>\n",
              "    .dataframe tbody tr th:only-of-type {\n",
              "        vertical-align: middle;\n",
              "    }\n",
              "\n",
              "    .dataframe tbody tr th {\n",
              "        vertical-align: top;\n",
              "    }\n",
              "\n",
              "    .dataframe thead th {\n",
              "        text-align: right;\n",
              "    }\n",
              "</style>\n",
              "<table border=\"1\" class=\"dataframe\">\n",
              "  <thead>\n",
              "    <tr style=\"text-align: right;\">\n",
              "      <th></th>\n",
              "      <th>gameorder</th>\n",
              "      <th>game_id</th>\n",
              "      <th>lg_id</th>\n",
              "      <th>_iscopy</th>\n",
              "      <th>year_id</th>\n",
              "      <th>date_game</th>\n",
              "      <th>seasongame</th>\n",
              "      <th>is_playoffs</th>\n",
              "      <th>team_id</th>\n",
              "      <th>fran_id</th>\n",
              "      <th>...</th>\n",
              "      <th>opp_fran</th>\n",
              "      <th>opp_pts</th>\n",
              "      <th>opp_elo_i</th>\n",
              "      <th>opp_elo_n</th>\n",
              "      <th>game_location</th>\n",
              "      <th>game_result</th>\n",
              "      <th>forecast</th>\n",
              "      <th>notes</th>\n",
              "      <th>date_played</th>\n",
              "      <th>DaysCPassed</th>\n",
              "    </tr>\n",
              "  </thead>\n",
              "  <tbody>\n",
              "    <tr>\n",
              "      <th>0</th>\n",
              "      <td>1</td>\n",
              "      <td>194611010TRH</td>\n",
              "      <td>NBA</td>\n",
              "      <td>0</td>\n",
              "      <td>1947</td>\n",
              "      <td>11/1/1946</td>\n",
              "      <td>1</td>\n",
              "      <td>0</td>\n",
              "      <td>TRH</td>\n",
              "      <td>Huskies</td>\n",
              "      <td>...</td>\n",
              "      <td>Knicks</td>\n",
              "      <td>68</td>\n",
              "      <td>1300.0000</td>\n",
              "      <td>1306.7233</td>\n",
              "      <td>H</td>\n",
              "      <td>L</td>\n",
              "      <td>0.640065</td>\n",
              "      <td>NaN</td>\n",
              "      <td>1946-11-01</td>\n",
              "      <td>28208.0</td>\n",
              "    </tr>\n",
              "    <tr>\n",
              "      <th>1</th>\n",
              "      <td>1</td>\n",
              "      <td>194611010TRH</td>\n",
              "      <td>NBA</td>\n",
              "      <td>1</td>\n",
              "      <td>1947</td>\n",
              "      <td>11/1/1946</td>\n",
              "      <td>1</td>\n",
              "      <td>0</td>\n",
              "      <td>NYK</td>\n",
              "      <td>Knicks</td>\n",
              "      <td>...</td>\n",
              "      <td>Huskies</td>\n",
              "      <td>66</td>\n",
              "      <td>1300.0000</td>\n",
              "      <td>1293.2767</td>\n",
              "      <td>A</td>\n",
              "      <td>W</td>\n",
              "      <td>0.359935</td>\n",
              "      <td>NaN</td>\n",
              "      <td>1946-11-01</td>\n",
              "      <td>28208.0</td>\n",
              "    </tr>\n",
              "    <tr>\n",
              "      <th>2</th>\n",
              "      <td>2</td>\n",
              "      <td>194611020CHS</td>\n",
              "      <td>NBA</td>\n",
              "      <td>0</td>\n",
              "      <td>1947</td>\n",
              "      <td>11/2/1946</td>\n",
              "      <td>1</td>\n",
              "      <td>0</td>\n",
              "      <td>CHS</td>\n",
              "      <td>Stags</td>\n",
              "      <td>...</td>\n",
              "      <td>Knicks</td>\n",
              "      <td>47</td>\n",
              "      <td>1306.7233</td>\n",
              "      <td>1297.0712</td>\n",
              "      <td>H</td>\n",
              "      <td>W</td>\n",
              "      <td>0.631101</td>\n",
              "      <td>NaN</td>\n",
              "      <td>1946-11-02</td>\n",
              "      <td>28207.0</td>\n",
              "    </tr>\n",
              "    <tr>\n",
              "      <th>3</th>\n",
              "      <td>2</td>\n",
              "      <td>194611020CHS</td>\n",
              "      <td>NBA</td>\n",
              "      <td>1</td>\n",
              "      <td>1947</td>\n",
              "      <td>11/2/1946</td>\n",
              "      <td>2</td>\n",
              "      <td>0</td>\n",
              "      <td>NYK</td>\n",
              "      <td>Knicks</td>\n",
              "      <td>...</td>\n",
              "      <td>Stags</td>\n",
              "      <td>63</td>\n",
              "      <td>1300.0000</td>\n",
              "      <td>1309.6521</td>\n",
              "      <td>A</td>\n",
              "      <td>L</td>\n",
              "      <td>0.368899</td>\n",
              "      <td>NaN</td>\n",
              "      <td>1946-11-02</td>\n",
              "      <td>28207.0</td>\n",
              "    </tr>\n",
              "    <tr>\n",
              "      <th>4</th>\n",
              "      <td>3</td>\n",
              "      <td>194611020DTF</td>\n",
              "      <td>NBA</td>\n",
              "      <td>0</td>\n",
              "      <td>1947</td>\n",
              "      <td>11/2/1946</td>\n",
              "      <td>1</td>\n",
              "      <td>0</td>\n",
              "      <td>DTF</td>\n",
              "      <td>Falcons</td>\n",
              "      <td>...</td>\n",
              "      <td>Capitols</td>\n",
              "      <td>50</td>\n",
              "      <td>1300.0000</td>\n",
              "      <td>1320.3811</td>\n",
              "      <td>H</td>\n",
              "      <td>L</td>\n",
              "      <td>0.640065</td>\n",
              "      <td>NaN</td>\n",
              "      <td>1946-11-02</td>\n",
              "      <td>28207.0</td>\n",
              "    </tr>\n",
              "    <tr>\n",
              "      <th>...</th>\n",
              "      <td>...</td>\n",
              "      <td>...</td>\n",
              "      <td>...</td>\n",
              "      <td>...</td>\n",
              "      <td>...</td>\n",
              "      <td>...</td>\n",
              "      <td>...</td>\n",
              "      <td>...</td>\n",
              "      <td>...</td>\n",
              "      <td>...</td>\n",
              "      <td>...</td>\n",
              "      <td>...</td>\n",
              "      <td>...</td>\n",
              "      <td>...</td>\n",
              "      <td>...</td>\n",
              "      <td>...</td>\n",
              "      <td>...</td>\n",
              "      <td>...</td>\n",
              "      <td>...</td>\n",
              "      <td>...</td>\n",
              "      <td>...</td>\n",
              "    </tr>\n",
              "    <tr>\n",
              "      <th>126309</th>\n",
              "      <td>63155</td>\n",
              "      <td>201506110CLE</td>\n",
              "      <td>NBA</td>\n",
              "      <td>0</td>\n",
              "      <td>2015</td>\n",
              "      <td>6/11/2015</td>\n",
              "      <td>100</td>\n",
              "      <td>1</td>\n",
              "      <td>CLE</td>\n",
              "      <td>Cavaliers</td>\n",
              "      <td>...</td>\n",
              "      <td>Warriors</td>\n",
              "      <td>103</td>\n",
              "      <td>1790.9591</td>\n",
              "      <td>1809.9791</td>\n",
              "      <td>H</td>\n",
              "      <td>L</td>\n",
              "      <td>0.546572</td>\n",
              "      <td>NaN</td>\n",
              "      <td>2015-06-11</td>\n",
              "      <td>3149.0</td>\n",
              "    </tr>\n",
              "    <tr>\n",
              "      <th>126310</th>\n",
              "      <td>63156</td>\n",
              "      <td>201506140GSW</td>\n",
              "      <td>NBA</td>\n",
              "      <td>0</td>\n",
              "      <td>2015</td>\n",
              "      <td>6/14/2015</td>\n",
              "      <td>102</td>\n",
              "      <td>1</td>\n",
              "      <td>GSW</td>\n",
              "      <td>Warriors</td>\n",
              "      <td>...</td>\n",
              "      <td>Cavaliers</td>\n",
              "      <td>91</td>\n",
              "      <td>1704.3949</td>\n",
              "      <td>1700.7391</td>\n",
              "      <td>H</td>\n",
              "      <td>W</td>\n",
              "      <td>0.765565</td>\n",
              "      <td>NaN</td>\n",
              "      <td>2015-06-14</td>\n",
              "      <td>3146.0</td>\n",
              "    </tr>\n",
              "    <tr>\n",
              "      <th>126311</th>\n",
              "      <td>63156</td>\n",
              "      <td>201506140GSW</td>\n",
              "      <td>NBA</td>\n",
              "      <td>1</td>\n",
              "      <td>2015</td>\n",
              "      <td>6/14/2015</td>\n",
              "      <td>101</td>\n",
              "      <td>1</td>\n",
              "      <td>CLE</td>\n",
              "      <td>Cavaliers</td>\n",
              "      <td>...</td>\n",
              "      <td>Warriors</td>\n",
              "      <td>104</td>\n",
              "      <td>1809.9791</td>\n",
              "      <td>1813.6349</td>\n",
              "      <td>A</td>\n",
              "      <td>L</td>\n",
              "      <td>0.234435</td>\n",
              "      <td>NaN</td>\n",
              "      <td>2015-06-14</td>\n",
              "      <td>3146.0</td>\n",
              "    </tr>\n",
              "    <tr>\n",
              "      <th>126312</th>\n",
              "      <td>63157</td>\n",
              "      <td>201506170CLE</td>\n",
              "      <td>NBA</td>\n",
              "      <td>0</td>\n",
              "      <td>2015</td>\n",
              "      <td>6/16/2015</td>\n",
              "      <td>102</td>\n",
              "      <td>1</td>\n",
              "      <td>CLE</td>\n",
              "      <td>Cavaliers</td>\n",
              "      <td>...</td>\n",
              "      <td>Warriors</td>\n",
              "      <td>105</td>\n",
              "      <td>1813.6349</td>\n",
              "      <td>1822.2881</td>\n",
              "      <td>H</td>\n",
              "      <td>L</td>\n",
              "      <td>0.481450</td>\n",
              "      <td>NaN</td>\n",
              "      <td>2015-06-16</td>\n",
              "      <td>3144.0</td>\n",
              "    </tr>\n",
              "    <tr>\n",
              "      <th>126313</th>\n",
              "      <td>63157</td>\n",
              "      <td>201506170CLE</td>\n",
              "      <td>NBA</td>\n",
              "      <td>1</td>\n",
              "      <td>2015</td>\n",
              "      <td>6/16/2015</td>\n",
              "      <td>103</td>\n",
              "      <td>1</td>\n",
              "      <td>GSW</td>\n",
              "      <td>Warriors</td>\n",
              "      <td>...</td>\n",
              "      <td>Cavaliers</td>\n",
              "      <td>97</td>\n",
              "      <td>1700.7391</td>\n",
              "      <td>1692.0859</td>\n",
              "      <td>A</td>\n",
              "      <td>W</td>\n",
              "      <td>0.518550</td>\n",
              "      <td>NaN</td>\n",
              "      <td>2015-06-16</td>\n",
              "      <td>3144.0</td>\n",
              "    </tr>\n",
              "  </tbody>\n",
              "</table>\n",
              "<p>126314 rows × 25 columns</p>\n",
              "</div>"
            ],
            "text/plain": [
              "        gameorder       game_id lg_id  _iscopy  year_id  date_game  \\\n",
              "0               1  194611010TRH   NBA        0     1947  11/1/1946   \n",
              "1               1  194611010TRH   NBA        1     1947  11/1/1946   \n",
              "2               2  194611020CHS   NBA        0     1947  11/2/1946   \n",
              "3               2  194611020CHS   NBA        1     1947  11/2/1946   \n",
              "4               3  194611020DTF   NBA        0     1947  11/2/1946   \n",
              "...           ...           ...   ...      ...      ...        ...   \n",
              "126309      63155  201506110CLE   NBA        0     2015  6/11/2015   \n",
              "126310      63156  201506140GSW   NBA        0     2015  6/14/2015   \n",
              "126311      63156  201506140GSW   NBA        1     2015  6/14/2015   \n",
              "126312      63157  201506170CLE   NBA        0     2015  6/16/2015   \n",
              "126313      63157  201506170CLE   NBA        1     2015  6/16/2015   \n",
              "\n",
              "        seasongame  is_playoffs team_id    fran_id  ...   opp_fran  opp_pts  \\\n",
              "0                1            0     TRH    Huskies  ...     Knicks       68   \n",
              "1                1            0     NYK     Knicks  ...    Huskies       66   \n",
              "2                1            0     CHS      Stags  ...     Knicks       47   \n",
              "3                2            0     NYK     Knicks  ...      Stags       63   \n",
              "4                1            0     DTF    Falcons  ...   Capitols       50   \n",
              "...            ...          ...     ...        ...  ...        ...      ...   \n",
              "126309         100            1     CLE  Cavaliers  ...   Warriors      103   \n",
              "126310         102            1     GSW   Warriors  ...  Cavaliers       91   \n",
              "126311         101            1     CLE  Cavaliers  ...   Warriors      104   \n",
              "126312         102            1     CLE  Cavaliers  ...   Warriors      105   \n",
              "126313         103            1     GSW   Warriors  ...  Cavaliers       97   \n",
              "\n",
              "        opp_elo_i  opp_elo_n game_location game_result  forecast  notes  \\\n",
              "0       1300.0000  1306.7233             H           L  0.640065    NaN   \n",
              "1       1300.0000  1293.2767             A           W  0.359935    NaN   \n",
              "2       1306.7233  1297.0712             H           W  0.631101    NaN   \n",
              "3       1300.0000  1309.6521             A           L  0.368899    NaN   \n",
              "4       1300.0000  1320.3811             H           L  0.640065    NaN   \n",
              "...           ...        ...           ...         ...       ...    ...   \n",
              "126309  1790.9591  1809.9791             H           L  0.546572    NaN   \n",
              "126310  1704.3949  1700.7391             H           W  0.765565    NaN   \n",
              "126311  1809.9791  1813.6349             A           L  0.234435    NaN   \n",
              "126312  1813.6349  1822.2881             H           L  0.481450    NaN   \n",
              "126313  1700.7391  1692.0859             A           W  0.518550    NaN   \n",
              "\n",
              "        date_played DaysCPassed  \n",
              "0        1946-11-01     28208.0  \n",
              "1        1946-11-01     28208.0  \n",
              "2        1946-11-02     28207.0  \n",
              "3        1946-11-02     28207.0  \n",
              "4        1946-11-02     28207.0  \n",
              "...             ...         ...  \n",
              "126309   2015-06-11      3149.0  \n",
              "126310   2015-06-14      3146.0  \n",
              "126311   2015-06-14      3146.0  \n",
              "126312   2015-06-16      3144.0  \n",
              "126313   2015-06-16      3144.0  \n",
              "\n",
              "[126314 rows x 25 columns]"
            ]
          },
          "execution_count": 18,
          "metadata": {},
          "output_type": "execute_result"
        }
      ],
      "source": [
        "df = nba.copy()\n",
        "df.info()\n",
        "df"
      ]
    },
    {
      "cell_type": "markdown",
      "metadata": {
        "id": "hECg4AoHVAdj"
      },
      "source": [
        "*Convert column types*"
      ]
    },
    {
      "cell_type": "code",
      "execution_count": 19,
      "metadata": {
        "id": "xVmY08NOUqid"
      },
      "outputs": [],
      "source": [
        "nba[\"date_played\"] = pd.to_datetime(nba[\"date_game\"])"
      ]
    },
    {
      "cell_type": "markdown",
      "metadata": {
        "id": "k37Je0HzR-ME"
      },
      "source": [
        "*Identify unique values*"
      ]
    },
    {
      "cell_type": "code",
      "execution_count": 20,
      "metadata": {
        "colab": {
          "base_uri": "https://localhost:8080/"
        },
        "id": "I4yHpqz7VVM1",
        "outputId": "52c742f6-136a-46c9-9636-0eb2b489ad9d"
      },
      "outputs": [
        {
          "name": "stdout",
          "output_type": "stream",
          "text": [
            "['H' 'A' 'N']\n"
          ]
        }
      ],
      "source": [
        "a=df[\"game_location\"].unique()\n",
        "print(a)"
      ]
    },
    {
      "cell_type": "markdown",
      "metadata": {
        "id": "tmJG4UZWSdKz"
      },
      "source": [
        "*Counting distinct values*"
      ]
    },
    {
      "cell_type": "code",
      "execution_count": 21,
      "metadata": {
        "colab": {
          "base_uri": "https://localhost:8080/"
        },
        "id": "Ff8UcOTYSgBq",
        "outputId": "a7aa9642-22d7-46a3-c2a1-59dbabd4647e"
      },
      "outputs": [
        {
          "data": {
            "text/plain": [
              "3"
            ]
          },
          "execution_count": 21,
          "metadata": {},
          "output_type": "execute_result"
        }
      ],
      "source": [
        "a=df[\"game_location\"].nunique()\n",
        "a"
      ]
    },
    {
      "cell_type": "markdown",
      "metadata": {
        "id": "nH8mnxzTS8Ky"
      },
      "source": [
        "*Occurences*"
      ]
    },
    {
      "cell_type": "code",
      "execution_count": 22,
      "metadata": {
        "colab": {
          "base_uri": "https://localhost:8080/"
        },
        "id": "OVLKL1J2Vhba",
        "outputId": "d0fd5fbc-9e2a-44ae-a671-820c56d78d3a"
      },
      "outputs": [
        {
          "data": {
            "text/plain": [
              "BOS    5997\n",
              "NYK    5769\n",
              "LAL    5078\n",
              "DET    4985\n",
              "PHI    4533\n",
              "       ... \n",
              "INJ      60\n",
              "PIT      60\n",
              "DTF      60\n",
              "TRH      60\n",
              "SDS      11\n",
              "Name: team_id, Length: 104, dtype: int64"
            ]
          },
          "execution_count": 22,
          "metadata": {},
          "output_type": "execute_result"
        }
      ],
      "source": [
        "df['team_id'].value_counts()"
      ]
    },
    {
      "cell_type": "markdown",
      "metadata": {
        "id": "3vf4jAgyXXs_"
      },
      "source": [
        "Make colunms Category type"
      ]
    },
    {
      "cell_type": "code",
      "execution_count": 23,
      "metadata": {
        "id": "GNu2sTVQV0nK"
      },
      "outputs": [],
      "source": [
        "t= pd.Categorical(nba['team_id'] )"
      ]
    },
    {
      "cell_type": "code",
      "execution_count": 24,
      "metadata": {
        "colab": {
          "base_uri": "https://localhost:8080/"
        },
        "id": "JcabHdnYWUjb",
        "outputId": "ffdff258-a9d8-43ae-9cf1-801ac2cf8a52"
      },
      "outputs": [
        {
          "data": {
            "text/plain": [
              "['TRH', 'NYK', 'CHS', 'NYK', 'DTF', ..., 'CLE', 'GSW', 'CLE', 'CLE', 'GSW']\n",
              "Length: 126314\n",
              "Categories (104, object): ['ANA', 'AND', 'ATL', 'BAL', ..., 'WAT', 'WSA', 'WSB', 'WSC']"
            ]
          },
          "execution_count": 24,
          "metadata": {},
          "output_type": "execute_result"
        }
      ],
      "source": [
        "t"
      ]
    },
    {
      "cell_type": "code",
      "execution_count": 25,
      "metadata": {
        "id": "XciES3d-WWG_"
      },
      "outputs": [
        {
          "name": "stdout",
          "output_type": "stream",
          "text": [
            "<class 'pandas.core.frame.DataFrame'>\n",
            "RangeIndex: 126314 entries, 0 to 126313\n",
            "Data columns (total 25 columns):\n",
            " #   Column         Non-Null Count   Dtype         \n",
            "---  ------         --------------   -----         \n",
            " 0   gameorder      126314 non-null  int64         \n",
            " 1   game_id        126314 non-null  object        \n",
            " 2   lg_id          126314 non-null  object        \n",
            " 3   _iscopy        126314 non-null  int64         \n",
            " 4   year_id        126314 non-null  int64         \n",
            " 5   date_game      126314 non-null  object        \n",
            " 6   seasongame     126314 non-null  int64         \n",
            " 7   is_playoffs    126314 non-null  int64         \n",
            " 8   team_id        126314 non-null  object        \n",
            " 9   fran_id        126314 non-null  object        \n",
            " 10  pts            126314 non-null  int64         \n",
            " 11  elo_i          126314 non-null  float64       \n",
            " 12  elo_n          126314 non-null  float64       \n",
            " 13  win_equiv      126314 non-null  float64       \n",
            " 14  opp_id         126314 non-null  object        \n",
            " 15  opp_fran       126314 non-null  object        \n",
            " 16  opp_pts        126314 non-null  int64         \n",
            " 17  opp_elo_i      126314 non-null  float64       \n",
            " 18  opp_elo_n      126314 non-null  float64       \n",
            " 19  game_location  126314 non-null  object        \n",
            " 20  game_result    126314 non-null  object        \n",
            " 21  forecast       126314 non-null  float64       \n",
            " 22  notes          5424 non-null    object        \n",
            " 23  date_played    126314 non-null  datetime64[ns]\n",
            " 24  DaysCPassed    126314 non-null  float64       \n",
            "dtypes: datetime64[ns](1), float64(7), int64(7), object(10)\n",
            "memory usage: 24.1+ MB\n"
          ]
        }
      ],
      "source": [
        "df.info()"
      ]
    },
    {
      "cell_type": "code",
      "execution_count": 26,
      "metadata": {
        "id": "9UnR8HIXWmZI"
      },
      "outputs": [
        {
          "data": {
            "text/plain": [
              "CategoricalDtype(categories=['A', 'H', 'N'], ordered=False)"
            ]
          },
          "execution_count": 26,
          "metadata": {},
          "output_type": "execute_result"
        }
      ],
      "source": [
        "df[\"game_location\"] = pd.Categorical(df[\"game_location\"])\n",
        "df[\"game_location\"].dtype"
      ]
    },
    {
      "cell_type": "code",
      "execution_count": 27,
      "metadata": {
        "id": "KP5AAgR1WyDv"
      },
      "outputs": [
        {
          "name": "stdout",
          "output_type": "stream",
          "text": [
            "<class 'pandas.core.frame.DataFrame'>\n",
            "RangeIndex: 126314 entries, 0 to 126313\n",
            "Data columns (total 25 columns):\n",
            " #   Column         Non-Null Count   Dtype         \n",
            "---  ------         --------------   -----         \n",
            " 0   gameorder      126314 non-null  int64         \n",
            " 1   game_id        126314 non-null  object        \n",
            " 2   lg_id          126314 non-null  object        \n",
            " 3   _iscopy        126314 non-null  int64         \n",
            " 4   year_id        126314 non-null  int64         \n",
            " 5   date_game      126314 non-null  object        \n",
            " 6   seasongame     126314 non-null  int64         \n",
            " 7   is_playoffs    126314 non-null  int64         \n",
            " 8   team_id        126314 non-null  object        \n",
            " 9   fran_id        126314 non-null  object        \n",
            " 10  pts            126314 non-null  int64         \n",
            " 11  elo_i          126314 non-null  float64       \n",
            " 12  elo_n          126314 non-null  float64       \n",
            " 13  win_equiv      126314 non-null  float64       \n",
            " 14  opp_id         126314 non-null  object        \n",
            " 15  opp_fran       126314 non-null  object        \n",
            " 16  opp_pts        126314 non-null  int64         \n",
            " 17  opp_elo_i      126314 non-null  float64       \n",
            " 18  opp_elo_n      126314 non-null  float64       \n",
            " 19  game_location  126314 non-null  category      \n",
            " 20  game_result    126314 non-null  object        \n",
            " 21  forecast       126314 non-null  float64       \n",
            " 22  notes          5424 non-null    object        \n",
            " 23  date_played    126314 non-null  datetime64[ns]\n",
            " 24  DaysCPassed    126314 non-null  float64       \n",
            "dtypes: category(1), datetime64[ns](1), float64(7), int64(7), object(9)\n",
            "memory usage: 23.2+ MB\n"
          ]
        }
      ],
      "source": [
        "df.info()"
      ]
    },
    {
      "cell_type": "markdown",
      "metadata": {
        "id": "5BJYtKcMetCC"
      },
      "source": [
        "### Aggregations for `DataFrame`\n"
      ]
    },
    {
      "cell_type": "code",
      "execution_count": 28,
      "metadata": {
        "colab": {
          "base_uri": "https://localhost:8080/"
        },
        "id": "hMwkvAqRez6B",
        "outputId": "e9cdcdb2-2b93-49b9-a8ea-bcb819da3e2a"
      },
      "outputs": [
        {
          "data": {
            "text/plain": [
              "pandas.core.series.Series"
            ]
          },
          "execution_count": 28,
          "metadata": {},
          "output_type": "execute_result"
        }
      ],
      "source": [
        "points = nba[\"pts\"]\n",
        "type(points)\n",
        "# Expected:\n",
        "# <class 'pandas.core.series.Series'>"
      ]
    },
    {
      "cell_type": "code",
      "execution_count": 29,
      "metadata": {
        "colab": {
          "base_uri": "https://localhost:8080/"
        },
        "id": "mab09Drbe7SU",
        "outputId": "32b4c13b-9876-42ba-85dc-2a9d996c1b27"
      },
      "outputs": [
        {
          "data": {
            "text/plain": [
              "12976235"
            ]
          },
          "execution_count": 29,
          "metadata": {},
          "output_type": "execute_result"
        }
      ],
      "source": [
        "points.sum()\n",
        "# Expected:\n",
        "# 12976235"
      ]
    },
    {
      "cell_type": "markdown",
      "metadata": {
        "id": "bshH5MkZfB6-"
      },
      "source": [
        "### Grouping"
      ]
    },
    {
      "cell_type": "code",
      "execution_count": 30,
      "metadata": {
        "id": "R1HPN50afDCe"
      },
      "outputs": [
        {
          "data": {
            "text/plain": [
              "fran_id\n",
              "Huskies           3995\n",
              "Knicks          582497\n",
              "Stags            20398\n",
              "Falcons           3797\n",
              "Capitols         22387\n",
              "Celtics         626484\n",
              "Steamrollers     12372\n",
              "Ironmen           3674\n",
              "Bombers          17793\n",
              "Rebels            4474\n",
              "Warriors        591224\n",
              "Baltimore        37219\n",
              "Jets              4482\n",
              "Pistons         572758\n",
              "Lakers          637444\n",
              "Kings           569245\n",
              "Hawks           567261\n",
              "Denver            4818\n",
              "Olympians        22864\n",
              "Redskins          5372\n",
              "Waterloo          4921\n",
              "Packers           6193\n",
              "Sixers          585891\n",
              "Wizards         474809\n",
              "Bulls           437269\n",
              "Thunder         437735\n",
              "Squires          91127\n",
              "Stars            84940\n",
              "Rockets         432504\n",
              "Colonels         94435\n",
              "Pacers          438288\n",
              "Nuggets         445780\n",
              "Spurs           453822\n",
              "Spirits          85874\n",
              "Sounds           75582\n",
              "Floridians       49568\n",
              "Nets            417809\n",
              "Condors          49642\n",
              "Bucks           418326\n",
              "Suns            437486\n",
              "Clippers        380523\n",
              "Cavaliers       380416\n",
              "Trailblazers    402695\n",
              "Sails            30080\n",
              "Jazz            363155\n",
              "Mavericks       309239\n",
              "Pelicans        220794\n",
              "Heat            229103\n",
              "Timberwolves    207693\n",
              "Magic           219436\n",
              "Grizzlies       157683\n",
              "Raptors         158370\n",
              "Hornets          84489\n",
              "Name: pts, dtype: int64"
            ]
          },
          "execution_count": 30,
          "metadata": {},
          "output_type": "execute_result"
        }
      ],
      "source": [
        "nba.groupby(\"fran_id\", sort=False)[\"pts\"].sum()\n",
        "# Expected:\n",
        "# fran_id\n",
        "# Huskies           3995\n",
        "# Knicks          582497\n",
        "# Stags            20398\n",
        "# Falcons           3797\n",
        "# Capitols         22387"
      ]
    },
    {
      "cell_type": "markdown",
      "metadata": {
        "id": "ziv3nXCrXgFY"
      },
      "source": [
        "## 4 - Cleaning Data"
      ]
    },
    {
      "cell_type": "markdown",
      "metadata": {
        "id": "mdmrgB_MXoxc"
      },
      "source": [
        "Cleaning, Normalizing, initializing are some of the required tasks over any Dataset"
      ]
    },
    {
      "cell_type": "code",
      "execution_count": 31,
      "metadata": {
        "colab": {
          "base_uri": "https://localhost:8080/"
        },
        "id": "DKk-sZnoXk5c",
        "outputId": "938eaddd-4329-4fd4-ffa4-cdb09077f424"
      },
      "outputs": [
        {
          "name": "stdout",
          "output_type": "stream",
          "text": [
            "<class 'pandas.core.frame.DataFrame'>\n",
            "RangeIndex: 126314 entries, 0 to 126313\n",
            "Data columns (total 25 columns):\n",
            " #   Column         Non-Null Count   Dtype         \n",
            "---  ------         --------------   -----         \n",
            " 0   gameorder      126314 non-null  int64         \n",
            " 1   game_id        126314 non-null  object        \n",
            " 2   lg_id          126314 non-null  object        \n",
            " 3   _iscopy        126314 non-null  int64         \n",
            " 4   year_id        126314 non-null  int64         \n",
            " 5   date_game      126314 non-null  object        \n",
            " 6   seasongame     126314 non-null  int64         \n",
            " 7   is_playoffs    126314 non-null  int64         \n",
            " 8   team_id        126314 non-null  object        \n",
            " 9   fran_id        126314 non-null  object        \n",
            " 10  pts            126314 non-null  int64         \n",
            " 11  elo_i          126314 non-null  float64       \n",
            " 12  elo_n          126314 non-null  float64       \n",
            " 13  win_equiv      126314 non-null  float64       \n",
            " 14  opp_id         126314 non-null  object        \n",
            " 15  opp_fran       126314 non-null  object        \n",
            " 16  opp_pts        126314 non-null  int64         \n",
            " 17  opp_elo_i      126314 non-null  float64       \n",
            " 18  opp_elo_n      126314 non-null  float64       \n",
            " 19  game_location  126314 non-null  object        \n",
            " 20  game_result    126314 non-null  object        \n",
            " 21  forecast       126314 non-null  float64       \n",
            " 22  notes          5424 non-null    object        \n",
            " 23  date_played    126314 non-null  datetime64[ns]\n",
            " 24  DaysCPassed    126314 non-null  float64       \n",
            "dtypes: datetime64[ns](1), float64(7), int64(7), object(10)\n",
            "memory usage: 24.1+ MB\n"
          ]
        }
      ],
      "source": [
        "nba.info()"
      ]
    },
    {
      "cell_type": "markdown",
      "metadata": {
        "id": "27KLSA8iYUQl"
      },
      "source": [
        "### Missing Values"
      ]
    },
    {
      "cell_type": "markdown",
      "metadata": {
        "id": "Id31DXthYWbV"
      },
      "source": [
        "Avoid *null-values*\n",
        "\n",
        "The current nba dataset has null  values (*Null/None/ Nan Values*).\n",
        "\n",
        "The column \"*motes*\" has only 5424 *non-null* values. All remain columns have 126314 values..\n",
        "\n",
        "Let analythe the following example:"
      ]
    },
    {
      "cell_type": "code",
      "execution_count": 32,
      "metadata": {
        "id": "STRTIOVFX_St"
      },
      "outputs": [],
      "source": [
        "#import pandas as pd\n",
        "\n",
        "data = {'Name': ['Alice', 'Bob', 'Charlie', 'David', 'Eva'],\n",
        "        'Age': [25, 31, 22, None, 27],\n",
        "        'Gender': ['F', 'M', None, 'M', 'F'],\n",
        "        'Salary': [50000, None, 30000, 40000, 60000]}\n",
        "\n",
        "df = pd.DataFrame(data)"
      ]
    },
    {
      "cell_type": "code",
      "execution_count": 33,
      "metadata": {
        "colab": {
          "base_uri": "https://localhost:8080/"
        },
        "id": "-2YtG8fRZfmg",
        "outputId": "a4638695-8921-4cd5-8589-d28e2ab6397b"
      },
      "outputs": [
        {
          "name": "stdout",
          "output_type": "stream",
          "text": [
            "<class 'pandas.core.frame.DataFrame'>\n",
            "RangeIndex: 5 entries, 0 to 4\n",
            "Data columns (total 4 columns):\n",
            " #   Column  Non-Null Count  Dtype  \n",
            "---  ------  --------------  -----  \n",
            " 0   Name    5 non-null      object \n",
            " 1   Age     4 non-null      float64\n",
            " 2   Gender  4 non-null      object \n",
            " 3   Salary  4 non-null      float64\n",
            "dtypes: float64(2), object(2)\n",
            "memory usage: 288.0+ bytes\n"
          ]
        }
      ],
      "source": [
        "df.info()"
      ]
    },
    {
      "cell_type": "markdown",
      "metadata": {
        "id": "SAf4U2YPlscW"
      },
      "source": [
        "*It* is easy to realize that *Name* has 5  *non-null* values, but the other columns have only 4."
      ]
    },
    {
      "cell_type": "code",
      "execution_count": 34,
      "metadata": {
        "colab": {
          "base_uri": "https://localhost:8080/",
          "height": 206
        },
        "id": "JRS3_eFZZiQn",
        "outputId": "3509a811-f02a-4cf2-c025-fafd40924327"
      },
      "outputs": [
        {
          "data": {
            "text/html": [
              "<div>\n",
              "<style scoped>\n",
              "    .dataframe tbody tr th:only-of-type {\n",
              "        vertical-align: middle;\n",
              "    }\n",
              "\n",
              "    .dataframe tbody tr th {\n",
              "        vertical-align: top;\n",
              "    }\n",
              "\n",
              "    .dataframe thead th {\n",
              "        text-align: right;\n",
              "    }\n",
              "</style>\n",
              "<table border=\"1\" class=\"dataframe\">\n",
              "  <thead>\n",
              "    <tr style=\"text-align: right;\">\n",
              "      <th></th>\n",
              "      <th>Name</th>\n",
              "      <th>Age</th>\n",
              "      <th>Gender</th>\n",
              "      <th>Salary</th>\n",
              "    </tr>\n",
              "  </thead>\n",
              "  <tbody>\n",
              "    <tr>\n",
              "      <th>0</th>\n",
              "      <td>Alice</td>\n",
              "      <td>25.0</td>\n",
              "      <td>F</td>\n",
              "      <td>50000.0</td>\n",
              "    </tr>\n",
              "    <tr>\n",
              "      <th>1</th>\n",
              "      <td>Bob</td>\n",
              "      <td>31.0</td>\n",
              "      <td>M</td>\n",
              "      <td>NaN</td>\n",
              "    </tr>\n",
              "    <tr>\n",
              "      <th>2</th>\n",
              "      <td>Charlie</td>\n",
              "      <td>22.0</td>\n",
              "      <td>None</td>\n",
              "      <td>30000.0</td>\n",
              "    </tr>\n",
              "    <tr>\n",
              "      <th>3</th>\n",
              "      <td>David</td>\n",
              "      <td>NaN</td>\n",
              "      <td>M</td>\n",
              "      <td>40000.0</td>\n",
              "    </tr>\n",
              "    <tr>\n",
              "      <th>4</th>\n",
              "      <td>Eva</td>\n",
              "      <td>27.0</td>\n",
              "      <td>F</td>\n",
              "      <td>60000.0</td>\n",
              "    </tr>\n",
              "  </tbody>\n",
              "</table>\n",
              "</div>"
            ],
            "text/plain": [
              "      Name   Age Gender   Salary\n",
              "0    Alice  25.0      F  50000.0\n",
              "1      Bob  31.0      M      NaN\n",
              "2  Charlie  22.0   None  30000.0\n",
              "3    David   NaN      M  40000.0\n",
              "4      Eva  27.0      F  60000.0"
            ]
          },
          "execution_count": 34,
          "metadata": {},
          "output_type": "execute_result"
        }
      ],
      "source": [
        "#preserve original datatset\n",
        "dfCopy = df.copy()\n",
        "dfCopy"
      ]
    },
    {
      "cell_type": "markdown",
      "metadata": {
        "id": "W6U1ssbmSglq"
      },
      "source": [
        "*Identify Missing Values*\n",
        "\n",
        "The missing values are converted by default. The functions to identify these missing values are:\n",
        "\n",
        "*   **isnull()**\n",
        "*   **notnull()**\n",
        "\n",
        "\n",
        "The output is a boolean value indicating whether the value that is passed into the argument is in fact missing data.\n",
        "\n",
        "\"True\" means the value is a missing value while \"False\" means the value is not a missing value."
      ]
    },
    {
      "cell_type": "code",
      "execution_count": 35,
      "metadata": {
        "colab": {
          "base_uri": "https://localhost:8080/",
          "height": 206
        },
        "id": "0HC9YL7HTFd4",
        "outputId": "70d51996-7595-4178-e221-89fb74b06898"
      },
      "outputs": [
        {
          "data": {
            "text/html": [
              "<div>\n",
              "<style scoped>\n",
              "    .dataframe tbody tr th:only-of-type {\n",
              "        vertical-align: middle;\n",
              "    }\n",
              "\n",
              "    .dataframe tbody tr th {\n",
              "        vertical-align: top;\n",
              "    }\n",
              "\n",
              "    .dataframe thead th {\n",
              "        text-align: right;\n",
              "    }\n",
              "</style>\n",
              "<table border=\"1\" class=\"dataframe\">\n",
              "  <thead>\n",
              "    <tr style=\"text-align: right;\">\n",
              "      <th></th>\n",
              "      <th>Name</th>\n",
              "      <th>Age</th>\n",
              "      <th>Gender</th>\n",
              "      <th>Salary</th>\n",
              "    </tr>\n",
              "  </thead>\n",
              "  <tbody>\n",
              "    <tr>\n",
              "      <th>0</th>\n",
              "      <td>False</td>\n",
              "      <td>False</td>\n",
              "      <td>False</td>\n",
              "      <td>False</td>\n",
              "    </tr>\n",
              "    <tr>\n",
              "      <th>1</th>\n",
              "      <td>False</td>\n",
              "      <td>False</td>\n",
              "      <td>False</td>\n",
              "      <td>True</td>\n",
              "    </tr>\n",
              "    <tr>\n",
              "      <th>2</th>\n",
              "      <td>False</td>\n",
              "      <td>False</td>\n",
              "      <td>True</td>\n",
              "      <td>False</td>\n",
              "    </tr>\n",
              "    <tr>\n",
              "      <th>3</th>\n",
              "      <td>False</td>\n",
              "      <td>True</td>\n",
              "      <td>False</td>\n",
              "      <td>False</td>\n",
              "    </tr>\n",
              "    <tr>\n",
              "      <th>4</th>\n",
              "      <td>False</td>\n",
              "      <td>False</td>\n",
              "      <td>False</td>\n",
              "      <td>False</td>\n",
              "    </tr>\n",
              "  </tbody>\n",
              "</table>\n",
              "</div>"
            ],
            "text/plain": [
              "    Name    Age  Gender  Salary\n",
              "0  False  False   False   False\n",
              "1  False  False   False    True\n",
              "2  False  False    True   False\n",
              "3  False   True   False   False\n",
              "4  False  False   False   False"
            ]
          },
          "execution_count": 35,
          "metadata": {},
          "output_type": "execute_result"
        }
      ],
      "source": [
        "missing_data = dfCopy.isnull()\n",
        "missing_data.head(5)"
      ]
    },
    {
      "cell_type": "markdown",
      "metadata": {
        "id": "0cToibVApD5A"
      },
      "source": [
        "### Replacing mising values"
      ]
    },
    {
      "cell_type": "markdown",
      "metadata": {
        "id": "3oby9Qo4R_tH"
      },
      "source": [
        "When *inplace=True* is passed, the data is renamed in place (it returns nothing), so you'd use:\n",
        "\n",
        "*df.an_operation(inplace=True)*\n",
        "\n",
        "When *inplace=False* is passed (this is the default value, so isn't necessary), performs the operation and returns a copy of the object, so you'd use:\n",
        "\n",
        "*df = df.an_operation(inplace=False)*"
      ]
    },
    {
      "cell_type": "markdown",
      "metadata": {
        "id": "8cVvTldwQhbF"
      },
      "source": [
        "Replace null values of *Age* feature by *Unknown*"
      ]
    },
    {
      "cell_type": "code",
      "execution_count": 36,
      "metadata": {
        "id": "PTKVzOg4jE6i"
      },
      "outputs": [],
      "source": [
        "dfCopy[\"Age\"].fillna(\\\n",
        "                     value=\"Unknown\",\\\n",
        "                     inplace=True)"
      ]
    },
    {
      "cell_type": "code",
      "execution_count": 37,
      "metadata": {
        "id": "-vsRIhHXpvdW"
      },
      "outputs": [
        {
          "data": {
            "text/html": [
              "<div>\n",
              "<style scoped>\n",
              "    .dataframe tbody tr th:only-of-type {\n",
              "        vertical-align: middle;\n",
              "    }\n",
              "\n",
              "    .dataframe tbody tr th {\n",
              "        vertical-align: top;\n",
              "    }\n",
              "\n",
              "    .dataframe thead th {\n",
              "        text-align: right;\n",
              "    }\n",
              "</style>\n",
              "<table border=\"1\" class=\"dataframe\">\n",
              "  <thead>\n",
              "    <tr style=\"text-align: right;\">\n",
              "      <th></th>\n",
              "      <th>Name</th>\n",
              "      <th>Age</th>\n",
              "      <th>Gender</th>\n",
              "      <th>Salary</th>\n",
              "    </tr>\n",
              "  </thead>\n",
              "  <tbody>\n",
              "    <tr>\n",
              "      <th>0</th>\n",
              "      <td>Alice</td>\n",
              "      <td>25.0</td>\n",
              "      <td>F</td>\n",
              "      <td>50000.0</td>\n",
              "    </tr>\n",
              "    <tr>\n",
              "      <th>1</th>\n",
              "      <td>Bob</td>\n",
              "      <td>31.0</td>\n",
              "      <td>M</td>\n",
              "      <td>NaN</td>\n",
              "    </tr>\n",
              "    <tr>\n",
              "      <th>2</th>\n",
              "      <td>Charlie</td>\n",
              "      <td>22.0</td>\n",
              "      <td>None</td>\n",
              "      <td>30000.0</td>\n",
              "    </tr>\n",
              "    <tr>\n",
              "      <th>3</th>\n",
              "      <td>David</td>\n",
              "      <td>Unknown</td>\n",
              "      <td>M</td>\n",
              "      <td>40000.0</td>\n",
              "    </tr>\n",
              "    <tr>\n",
              "      <th>4</th>\n",
              "      <td>Eva</td>\n",
              "      <td>27.0</td>\n",
              "      <td>F</td>\n",
              "      <td>60000.0</td>\n",
              "    </tr>\n",
              "  </tbody>\n",
              "</table>\n",
              "</div>"
            ],
            "text/plain": [
              "      Name      Age Gender   Salary\n",
              "0    Alice     25.0      F  50000.0\n",
              "1      Bob     31.0      M      NaN\n",
              "2  Charlie     22.0   None  30000.0\n",
              "3    David  Unknown      M  40000.0\n",
              "4      Eva     27.0      F  60000.0"
            ]
          },
          "execution_count": 37,
          "metadata": {},
          "output_type": "execute_result"
        }
      ],
      "source": [
        "dfCopy"
      ]
    },
    {
      "cell_type": "markdown",
      "metadata": {
        "id": "synXoiD4QU4z"
      },
      "source": [
        "*Replace null values by a particular value*"
      ]
    },
    {
      "cell_type": "code",
      "execution_count": 38,
      "metadata": {
        "id": "izXQ_wazqKYj"
      },
      "outputs": [],
      "source": [
        "dfCopy.fillna({'Age':'Unknown', 'Gender': 'Other'}, inplace=True)"
      ]
    },
    {
      "cell_type": "code",
      "execution_count": 39,
      "metadata": {
        "id": "gog7rhpqrKUS"
      },
      "outputs": [
        {
          "data": {
            "text/html": [
              "<div>\n",
              "<style scoped>\n",
              "    .dataframe tbody tr th:only-of-type {\n",
              "        vertical-align: middle;\n",
              "    }\n",
              "\n",
              "    .dataframe tbody tr th {\n",
              "        vertical-align: top;\n",
              "    }\n",
              "\n",
              "    .dataframe thead th {\n",
              "        text-align: right;\n",
              "    }\n",
              "</style>\n",
              "<table border=\"1\" class=\"dataframe\">\n",
              "  <thead>\n",
              "    <tr style=\"text-align: right;\">\n",
              "      <th></th>\n",
              "      <th>Name</th>\n",
              "      <th>Age</th>\n",
              "      <th>Gender</th>\n",
              "      <th>Salary</th>\n",
              "    </tr>\n",
              "  </thead>\n",
              "  <tbody>\n",
              "    <tr>\n",
              "      <th>0</th>\n",
              "      <td>Alice</td>\n",
              "      <td>25.0</td>\n",
              "      <td>F</td>\n",
              "      <td>50000.0</td>\n",
              "    </tr>\n",
              "    <tr>\n",
              "      <th>1</th>\n",
              "      <td>Bob</td>\n",
              "      <td>31.0</td>\n",
              "      <td>M</td>\n",
              "      <td>NaN</td>\n",
              "    </tr>\n",
              "    <tr>\n",
              "      <th>2</th>\n",
              "      <td>Charlie</td>\n",
              "      <td>22.0</td>\n",
              "      <td>Other</td>\n",
              "      <td>30000.0</td>\n",
              "    </tr>\n",
              "    <tr>\n",
              "      <th>3</th>\n",
              "      <td>David</td>\n",
              "      <td>Unknown</td>\n",
              "      <td>M</td>\n",
              "      <td>40000.0</td>\n",
              "    </tr>\n",
              "    <tr>\n",
              "      <th>4</th>\n",
              "      <td>Eva</td>\n",
              "      <td>27.0</td>\n",
              "      <td>F</td>\n",
              "      <td>60000.0</td>\n",
              "    </tr>\n",
              "  </tbody>\n",
              "</table>\n",
              "</div>"
            ],
            "text/plain": [
              "      Name      Age Gender   Salary\n",
              "0    Alice     25.0      F  50000.0\n",
              "1      Bob     31.0      M      NaN\n",
              "2  Charlie     22.0  Other  30000.0\n",
              "3    David  Unknown      M  40000.0\n",
              "4      Eva     27.0      F  60000.0"
            ]
          },
          "execution_count": 39,
          "metadata": {},
          "output_type": "execute_result"
        }
      ],
      "source": [
        "dfCopy"
      ]
    },
    {
      "cell_type": "code",
      "execution_count": 40,
      "metadata": {
        "id": "hIYTXPC2rLUw"
      },
      "outputs": [
        {
          "data": {
            "text/html": [
              "<div>\n",
              "<style scoped>\n",
              "    .dataframe tbody tr th:only-of-type {\n",
              "        vertical-align: middle;\n",
              "    }\n",
              "\n",
              "    .dataframe tbody tr th {\n",
              "        vertical-align: top;\n",
              "    }\n",
              "\n",
              "    .dataframe thead th {\n",
              "        text-align: right;\n",
              "    }\n",
              "</style>\n",
              "<table border=\"1\" class=\"dataframe\">\n",
              "  <thead>\n",
              "    <tr style=\"text-align: right;\">\n",
              "      <th></th>\n",
              "      <th>Name</th>\n",
              "      <th>Age</th>\n",
              "      <th>Gender</th>\n",
              "      <th>Salary</th>\n",
              "    </tr>\n",
              "  </thead>\n",
              "  <tbody>\n",
              "    <tr>\n",
              "      <th>0</th>\n",
              "      <td>Alice</td>\n",
              "      <td>25.0</td>\n",
              "      <td>F</td>\n",
              "      <td>50000.0</td>\n",
              "    </tr>\n",
              "    <tr>\n",
              "      <th>1</th>\n",
              "      <td>Bob</td>\n",
              "      <td>31.0</td>\n",
              "      <td>M</td>\n",
              "      <td>NaN</td>\n",
              "    </tr>\n",
              "    <tr>\n",
              "      <th>2</th>\n",
              "      <td>Charlie</td>\n",
              "      <td>22.0</td>\n",
              "      <td>Other</td>\n",
              "      <td>30000.0</td>\n",
              "    </tr>\n",
              "    <tr>\n",
              "      <th>3</th>\n",
              "      <td>David</td>\n",
              "      <td>Unknown</td>\n",
              "      <td>M</td>\n",
              "      <td>40000.0</td>\n",
              "    </tr>\n",
              "    <tr>\n",
              "      <th>4</th>\n",
              "      <td>Eva</td>\n",
              "      <td>27.0</td>\n",
              "      <td>F</td>\n",
              "      <td>60000.0</td>\n",
              "    </tr>\n",
              "  </tbody>\n",
              "</table>\n",
              "</div>"
            ],
            "text/plain": [
              "      Name      Age Gender   Salary\n",
              "0    Alice     25.0      F  50000.0\n",
              "1      Bob     31.0      M      NaN\n",
              "2  Charlie     22.0  Other  30000.0\n",
              "3    David  Unknown      M  40000.0\n",
              "4      Eva     27.0      F  60000.0"
            ]
          },
          "metadata": {},
          "output_type": "display_data"
        }
      ],
      "source": [
        "display(dfCopy)"
      ]
    },
    {
      "cell_type": "markdown",
      "metadata": {
        "id": "vtH-F78rQ2qL"
      },
      "source": [
        "Replace the \"?\" symbol with *NaN* so the dropna() can remove the missing values:"
      ]
    },
    {
      "cell_type": "code",
      "execution_count": 41,
      "metadata": {
        "id": "mdYX9LKQQ2DK"
      },
      "outputs": [],
      "source": [
        "df1=dfCopy.replace('?',np.NaN)"
      ]
    },
    {
      "cell_type": "markdown",
      "metadata": {
        "id": "su5dSqx7sY9V"
      },
      "source": [
        "Fill number features with the *mean* value"
      ]
    },
    {
      "cell_type": "code",
      "execution_count": 42,
      "metadata": {
        "id": "I-DQ_LhKtNVn"
      },
      "outputs": [],
      "source": [
        "#reset dfCopy\n",
        "dfCopy = df.copy()\n",
        "#dfCopy\n",
        "#dfCopy.info()"
      ]
    },
    {
      "cell_type": "code",
      "execution_count": 43,
      "metadata": {
        "id": "okbTfd5Osdgn"
      },
      "outputs": [
        {
          "data": {
            "text/html": [
              "<div>\n",
              "<style scoped>\n",
              "    .dataframe tbody tr th:only-of-type {\n",
              "        vertical-align: middle;\n",
              "    }\n",
              "\n",
              "    .dataframe tbody tr th {\n",
              "        vertical-align: top;\n",
              "    }\n",
              "\n",
              "    .dataframe thead th {\n",
              "        text-align: right;\n",
              "    }\n",
              "</style>\n",
              "<table border=\"1\" class=\"dataframe\">\n",
              "  <thead>\n",
              "    <tr style=\"text-align: right;\">\n",
              "      <th></th>\n",
              "      <th>Name</th>\n",
              "      <th>Age</th>\n",
              "      <th>Gender</th>\n",
              "      <th>Salary</th>\n",
              "    </tr>\n",
              "  </thead>\n",
              "  <tbody>\n",
              "    <tr>\n",
              "      <th>0</th>\n",
              "      <td>Alice</td>\n",
              "      <td>25.0</td>\n",
              "      <td>F</td>\n",
              "      <td>50000.0</td>\n",
              "    </tr>\n",
              "    <tr>\n",
              "      <th>1</th>\n",
              "      <td>Bob</td>\n",
              "      <td>31.0</td>\n",
              "      <td>M</td>\n",
              "      <td>45000.0</td>\n",
              "    </tr>\n",
              "    <tr>\n",
              "      <th>2</th>\n",
              "      <td>Charlie</td>\n",
              "      <td>22.0</td>\n",
              "      <td>None</td>\n",
              "      <td>30000.0</td>\n",
              "    </tr>\n",
              "    <tr>\n",
              "      <th>3</th>\n",
              "      <td>David</td>\n",
              "      <td>NaN</td>\n",
              "      <td>M</td>\n",
              "      <td>40000.0</td>\n",
              "    </tr>\n",
              "    <tr>\n",
              "      <th>4</th>\n",
              "      <td>Eva</td>\n",
              "      <td>27.0</td>\n",
              "      <td>F</td>\n",
              "      <td>60000.0</td>\n",
              "    </tr>\n",
              "  </tbody>\n",
              "</table>\n",
              "</div>"
            ],
            "text/plain": [
              "      Name   Age Gender   Salary\n",
              "0    Alice  25.0      F  50000.0\n",
              "1      Bob  31.0      M  45000.0\n",
              "2  Charlie  22.0   None  30000.0\n",
              "3    David   NaN      M  40000.0\n",
              "4      Eva  27.0      F  60000.0"
            ]
          },
          "execution_count": 43,
          "metadata": {},
          "output_type": "execute_result"
        }
      ],
      "source": [
        "#Using Mode() function to input the values using fillna\n",
        "dfCopy.fillna({'Salary':dfCopy['Salary'].mean()})"
      ]
    },
    {
      "cell_type": "code",
      "execution_count": 44,
      "metadata": {
        "id": "hTHq7firtj5-"
      },
      "outputs": [
        {
          "data": {
            "text/html": [
              "<div>\n",
              "<style scoped>\n",
              "    .dataframe tbody tr th:only-of-type {\n",
              "        vertical-align: middle;\n",
              "    }\n",
              "\n",
              "    .dataframe tbody tr th {\n",
              "        vertical-align: top;\n",
              "    }\n",
              "\n",
              "    .dataframe thead th {\n",
              "        text-align: right;\n",
              "    }\n",
              "</style>\n",
              "<table border=\"1\" class=\"dataframe\">\n",
              "  <thead>\n",
              "    <tr style=\"text-align: right;\">\n",
              "      <th></th>\n",
              "      <th>Name</th>\n",
              "      <th>Age</th>\n",
              "      <th>Gender</th>\n",
              "      <th>Salary</th>\n",
              "    </tr>\n",
              "  </thead>\n",
              "  <tbody>\n",
              "    <tr>\n",
              "      <th>0</th>\n",
              "      <td>Alice</td>\n",
              "      <td>25.0</td>\n",
              "      <td>F</td>\n",
              "      <td>50000.0</td>\n",
              "    </tr>\n",
              "    <tr>\n",
              "      <th>1</th>\n",
              "      <td>Bob</td>\n",
              "      <td>31.0</td>\n",
              "      <td>M</td>\n",
              "      <td>NaN</td>\n",
              "    </tr>\n",
              "    <tr>\n",
              "      <th>2</th>\n",
              "      <td>Charlie</td>\n",
              "      <td>22.0</td>\n",
              "      <td>None</td>\n",
              "      <td>30000.0</td>\n",
              "    </tr>\n",
              "    <tr>\n",
              "      <th>3</th>\n",
              "      <td>David</td>\n",
              "      <td>NaN</td>\n",
              "      <td>M</td>\n",
              "      <td>40000.0</td>\n",
              "    </tr>\n",
              "    <tr>\n",
              "      <th>4</th>\n",
              "      <td>Eva</td>\n",
              "      <td>27.0</td>\n",
              "      <td>F</td>\n",
              "      <td>60000.0</td>\n",
              "    </tr>\n",
              "  </tbody>\n",
              "</table>\n",
              "</div>"
            ],
            "text/plain": [
              "      Name   Age Gender   Salary\n",
              "0    Alice  25.0      F  50000.0\n",
              "1      Bob  31.0      M      NaN\n",
              "2  Charlie  22.0   None  30000.0\n",
              "3    David   NaN      M  40000.0\n",
              "4      Eva  27.0      F  60000.0"
            ]
          },
          "execution_count": 44,
          "metadata": {},
          "output_type": "execute_result"
        }
      ],
      "source": [
        "dfCopy"
      ]
    },
    {
      "cell_type": "markdown",
      "metadata": {
        "id": "KF46HeHUr_5i"
      },
      "source": [
        "Fill number features with the *mode* value"
      ]
    },
    {
      "cell_type": "code",
      "execution_count": 45,
      "metadata": {
        "id": "WJ7HUcLLrYiN"
      },
      "outputs": [],
      "source": [
        "#Using Mode() function to inpute the values using fillna\n",
        "dfCopy.fillna({'Salary':dfCopy['Salary'].mode()[0]}, inplace = True)"
      ]
    },
    {
      "cell_type": "code",
      "execution_count": 46,
      "metadata": {
        "id": "7Y2DLLSMsMRk"
      },
      "outputs": [
        {
          "data": {
            "text/html": [
              "<div>\n",
              "<style scoped>\n",
              "    .dataframe tbody tr th:only-of-type {\n",
              "        vertical-align: middle;\n",
              "    }\n",
              "\n",
              "    .dataframe tbody tr th {\n",
              "        vertical-align: top;\n",
              "    }\n",
              "\n",
              "    .dataframe thead th {\n",
              "        text-align: right;\n",
              "    }\n",
              "</style>\n",
              "<table border=\"1\" class=\"dataframe\">\n",
              "  <thead>\n",
              "    <tr style=\"text-align: right;\">\n",
              "      <th></th>\n",
              "      <th>Name</th>\n",
              "      <th>Age</th>\n",
              "      <th>Gender</th>\n",
              "      <th>Salary</th>\n",
              "    </tr>\n",
              "  </thead>\n",
              "  <tbody>\n",
              "    <tr>\n",
              "      <th>0</th>\n",
              "      <td>Alice</td>\n",
              "      <td>25.0</td>\n",
              "      <td>F</td>\n",
              "      <td>50000.0</td>\n",
              "    </tr>\n",
              "    <tr>\n",
              "      <th>1</th>\n",
              "      <td>Bob</td>\n",
              "      <td>31.0</td>\n",
              "      <td>M</td>\n",
              "      <td>30000.0</td>\n",
              "    </tr>\n",
              "    <tr>\n",
              "      <th>2</th>\n",
              "      <td>Charlie</td>\n",
              "      <td>22.0</td>\n",
              "      <td>None</td>\n",
              "      <td>30000.0</td>\n",
              "    </tr>\n",
              "    <tr>\n",
              "      <th>3</th>\n",
              "      <td>David</td>\n",
              "      <td>NaN</td>\n",
              "      <td>M</td>\n",
              "      <td>40000.0</td>\n",
              "    </tr>\n",
              "    <tr>\n",
              "      <th>4</th>\n",
              "      <td>Eva</td>\n",
              "      <td>27.0</td>\n",
              "      <td>F</td>\n",
              "      <td>60000.0</td>\n",
              "    </tr>\n",
              "  </tbody>\n",
              "</table>\n",
              "</div>"
            ],
            "text/plain": [
              "      Name   Age Gender   Salary\n",
              "0    Alice  25.0      F  50000.0\n",
              "1      Bob  31.0      M  30000.0\n",
              "2  Charlie  22.0   None  30000.0\n",
              "3    David   NaN      M  40000.0\n",
              "4      Eva  27.0      F  60000.0"
            ]
          },
          "execution_count": 46,
          "metadata": {},
          "output_type": "execute_result"
        }
      ],
      "source": [
        "dfCopy"
      ]
    },
    {
      "cell_type": "code",
      "execution_count": 47,
      "metadata": {
        "id": "K3fnKc6wsNxs"
      },
      "outputs": [],
      "source": [
        "dfCopy.fillna({'Age':-1, 'Gender':'Other'}, inplace = True)"
      ]
    },
    {
      "cell_type": "code",
      "execution_count": 48,
      "metadata": {
        "id": "Z6yu1onBw1Gz"
      },
      "outputs": [
        {
          "data": {
            "text/html": [
              "<div>\n",
              "<style scoped>\n",
              "    .dataframe tbody tr th:only-of-type {\n",
              "        vertical-align: middle;\n",
              "    }\n",
              "\n",
              "    .dataframe tbody tr th {\n",
              "        vertical-align: top;\n",
              "    }\n",
              "\n",
              "    .dataframe thead th {\n",
              "        text-align: right;\n",
              "    }\n",
              "</style>\n",
              "<table border=\"1\" class=\"dataframe\">\n",
              "  <thead>\n",
              "    <tr style=\"text-align: right;\">\n",
              "      <th></th>\n",
              "      <th>Name</th>\n",
              "      <th>Age</th>\n",
              "      <th>Gender</th>\n",
              "      <th>Salary</th>\n",
              "    </tr>\n",
              "  </thead>\n",
              "  <tbody>\n",
              "    <tr>\n",
              "      <th>0</th>\n",
              "      <td>Alice</td>\n",
              "      <td>25.0</td>\n",
              "      <td>F</td>\n",
              "      <td>50000.0</td>\n",
              "    </tr>\n",
              "    <tr>\n",
              "      <th>1</th>\n",
              "      <td>Bob</td>\n",
              "      <td>31.0</td>\n",
              "      <td>M</td>\n",
              "      <td>30000.0</td>\n",
              "    </tr>\n",
              "    <tr>\n",
              "      <th>2</th>\n",
              "      <td>Charlie</td>\n",
              "      <td>22.0</td>\n",
              "      <td>Other</td>\n",
              "      <td>30000.0</td>\n",
              "    </tr>\n",
              "    <tr>\n",
              "      <th>3</th>\n",
              "      <td>David</td>\n",
              "      <td>-1.0</td>\n",
              "      <td>M</td>\n",
              "      <td>40000.0</td>\n",
              "    </tr>\n",
              "    <tr>\n",
              "      <th>4</th>\n",
              "      <td>Eva</td>\n",
              "      <td>27.0</td>\n",
              "      <td>F</td>\n",
              "      <td>60000.0</td>\n",
              "    </tr>\n",
              "  </tbody>\n",
              "</table>\n",
              "</div>"
            ],
            "text/plain": [
              "      Name   Age Gender   Salary\n",
              "0    Alice  25.0      F  50000.0\n",
              "1      Bob  31.0      M  30000.0\n",
              "2  Charlie  22.0  Other  30000.0\n",
              "3    David  -1.0      M  40000.0\n",
              "4      Eva  27.0      F  60000.0"
            ]
          },
          "execution_count": 48,
          "metadata": {},
          "output_type": "execute_result"
        }
      ],
      "source": [
        "dfCopy"
      ]
    },
    {
      "cell_type": "markdown",
      "metadata": {
        "id": "G_xLOgdhaIxL"
      },
      "source": [
        "### See the *null* values"
      ]
    },
    {
      "cell_type": "code",
      "execution_count": 49,
      "metadata": {
        "colab": {
          "base_uri": "https://localhost:8080/"
        },
        "id": "o5ldO84AZzUH",
        "outputId": "e6e87825-ba48-4e4d-a5f4-f2b02155e5ce"
      },
      "outputs": [
        {
          "data": {
            "text/plain": [
              "0    False\n",
              "1    False\n",
              "2    False\n",
              "3    False\n",
              "4    False\n",
              "dtype: bool"
            ]
          },
          "execution_count": 49,
          "metadata": {},
          "output_type": "execute_result"
        }
      ],
      "source": [
        "n1 = dfCopy.isnull().any(axis=1)\n",
        "n1"
      ]
    },
    {
      "cell_type": "markdown",
      "metadata": {
        "id": "uyaaQUqQahic"
      },
      "source": [
        "### Get only the *null* values"
      ]
    },
    {
      "cell_type": "code",
      "execution_count": 50,
      "metadata": {
        "colab": {
          "base_uri": "https://localhost:8080/",
          "height": 143
        },
        "id": "NLWvOi7YaXF0",
        "outputId": "df9b39d2-3c1d-4fdb-87cc-e7e06260c6e4"
      },
      "outputs": [
        {
          "data": {
            "text/html": [
              "<div>\n",
              "<style scoped>\n",
              "    .dataframe tbody tr th:only-of-type {\n",
              "        vertical-align: middle;\n",
              "    }\n",
              "\n",
              "    .dataframe tbody tr th {\n",
              "        vertical-align: top;\n",
              "    }\n",
              "\n",
              "    .dataframe thead th {\n",
              "        text-align: right;\n",
              "    }\n",
              "</style>\n",
              "<table border=\"1\" class=\"dataframe\">\n",
              "  <thead>\n",
              "    <tr style=\"text-align: right;\">\n",
              "      <th></th>\n",
              "      <th>Name</th>\n",
              "      <th>Age</th>\n",
              "      <th>Gender</th>\n",
              "      <th>Salary</th>\n",
              "    </tr>\n",
              "  </thead>\n",
              "  <tbody>\n",
              "  </tbody>\n",
              "</table>\n",
              "</div>"
            ],
            "text/plain": [
              "Empty DataFrame\n",
              "Columns: [Name, Age, Gender, Salary]\n",
              "Index: []"
            ]
          },
          "execution_count": 50,
          "metadata": {},
          "output_type": "execute_result"
        }
      ],
      "source": [
        "nullRows = dfCopy[n1]\n",
        "nullRows"
      ]
    },
    {
      "cell_type": "markdown",
      "metadata": {
        "id": "XwJP-OENbDcQ"
      },
      "source": [
        "### Get only the *non-null* values"
      ]
    },
    {
      "cell_type": "code",
      "execution_count": 51,
      "metadata": {
        "colab": {
          "base_uri": "https://localhost:8080/"
        },
        "id": "ke1ydhkQax6L",
        "outputId": "1f3db40b-363c-4ad4-d8d9-be718454a26e"
      },
      "outputs": [
        {
          "data": {
            "text/plain": [
              "0    True\n",
              "1    True\n",
              "2    True\n",
              "3    True\n",
              "4    True\n",
              "dtype: bool"
            ]
          },
          "execution_count": 51,
          "metadata": {},
          "output_type": "execute_result"
        }
      ],
      "source": [
        "n2 = dfCopy.notnull().all(axis=1)\n",
        "n2"
      ]
    },
    {
      "cell_type": "code",
      "execution_count": 52,
      "metadata": {
        "colab": {
          "base_uri": "https://localhost:8080/",
          "height": 112
        },
        "id": "47ZclJ8DbYm_",
        "outputId": "985f28dd-7038-431e-f75f-c3254c874d0c"
      },
      "outputs": [
        {
          "data": {
            "text/html": [
              "<div>\n",
              "<style scoped>\n",
              "    .dataframe tbody tr th:only-of-type {\n",
              "        vertical-align: middle;\n",
              "    }\n",
              "\n",
              "    .dataframe tbody tr th {\n",
              "        vertical-align: top;\n",
              "    }\n",
              "\n",
              "    .dataframe thead th {\n",
              "        text-align: right;\n",
              "    }\n",
              "</style>\n",
              "<table border=\"1\" class=\"dataframe\">\n",
              "  <thead>\n",
              "    <tr style=\"text-align: right;\">\n",
              "      <th></th>\n",
              "      <th>Name</th>\n",
              "      <th>Age</th>\n",
              "      <th>Gender</th>\n",
              "      <th>Salary</th>\n",
              "    </tr>\n",
              "  </thead>\n",
              "  <tbody>\n",
              "    <tr>\n",
              "      <th>0</th>\n",
              "      <td>Alice</td>\n",
              "      <td>25.0</td>\n",
              "      <td>F</td>\n",
              "      <td>50000.0</td>\n",
              "    </tr>\n",
              "    <tr>\n",
              "      <th>1</th>\n",
              "      <td>Bob</td>\n",
              "      <td>31.0</td>\n",
              "      <td>M</td>\n",
              "      <td>30000.0</td>\n",
              "    </tr>\n",
              "    <tr>\n",
              "      <th>2</th>\n",
              "      <td>Charlie</td>\n",
              "      <td>22.0</td>\n",
              "      <td>Other</td>\n",
              "      <td>30000.0</td>\n",
              "    </tr>\n",
              "    <tr>\n",
              "      <th>3</th>\n",
              "      <td>David</td>\n",
              "      <td>-1.0</td>\n",
              "      <td>M</td>\n",
              "      <td>40000.0</td>\n",
              "    </tr>\n",
              "    <tr>\n",
              "      <th>4</th>\n",
              "      <td>Eva</td>\n",
              "      <td>27.0</td>\n",
              "      <td>F</td>\n",
              "      <td>60000.0</td>\n",
              "    </tr>\n",
              "  </tbody>\n",
              "</table>\n",
              "</div>"
            ],
            "text/plain": [
              "      Name   Age Gender   Salary\n",
              "0    Alice  25.0      F  50000.0\n",
              "1      Bob  31.0      M  30000.0\n",
              "2  Charlie  22.0  Other  30000.0\n",
              "3    David  -1.0      M  40000.0\n",
              "4      Eva  27.0      F  60000.0"
            ]
          },
          "execution_count": 52,
          "metadata": {},
          "output_type": "execute_result"
        }
      ],
      "source": [
        "nonNullRows = dfCopy[n2]\n",
        "nonNullRows"
      ]
    },
    {
      "cell_type": "markdown",
      "metadata": {
        "id": "4ZHJjI-7cL28"
      },
      "source": [
        "### Checking *Null Values* using Query Method"
      ]
    },
    {
      "cell_type": "markdown",
      "metadata": {
        "id": "Dc6qrjibcuqU"
      },
      "source": [
        "In this example, the != operator compare the column values with themselves, which returns *True* if the value is *null*."
      ]
    },
    {
      "cell_type": "code",
      "execution_count": 53,
      "metadata": {
        "id": "HTswCuLBbr-0"
      },
      "outputs": [],
      "source": [
        "nullRows = dfCopy.query('Age != Age or Gender != Gender or Salary != Salary')"
      ]
    },
    {
      "cell_type": "code",
      "execution_count": 54,
      "metadata": {
        "colab": {
          "base_uri": "https://localhost:8080/",
          "height": 143
        },
        "id": "SHnjalClcU9K",
        "outputId": "313769d4-a83c-4965-9500-3a51c05b2ec9"
      },
      "outputs": [
        {
          "data": {
            "text/html": [
              "<div>\n",
              "<style scoped>\n",
              "    .dataframe tbody tr th:only-of-type {\n",
              "        vertical-align: middle;\n",
              "    }\n",
              "\n",
              "    .dataframe tbody tr th {\n",
              "        vertical-align: top;\n",
              "    }\n",
              "\n",
              "    .dataframe thead th {\n",
              "        text-align: right;\n",
              "    }\n",
              "</style>\n",
              "<table border=\"1\" class=\"dataframe\">\n",
              "  <thead>\n",
              "    <tr style=\"text-align: right;\">\n",
              "      <th></th>\n",
              "      <th>Name</th>\n",
              "      <th>Age</th>\n",
              "      <th>Gender</th>\n",
              "      <th>Salary</th>\n",
              "    </tr>\n",
              "  </thead>\n",
              "  <tbody>\n",
              "  </tbody>\n",
              "</table>\n",
              "</div>"
            ],
            "text/plain": [
              "Empty DataFrame\n",
              "Columns: [Name, Age, Gender, Salary]\n",
              "Index: []"
            ]
          },
          "execution_count": 54,
          "metadata": {},
          "output_type": "execute_result"
        }
      ],
      "source": [
        "nullRows"
      ]
    },
    {
      "cell_type": "markdown",
      "metadata": {
        "id": "DsXDSybLmMRx"
      },
      "source": [
        "###  Remove rows with missing values\n",
        "\n",
        "The easiest way to deal with records containing missing values (incomplete records) is to ignore them!\n"
      ]
    },
    {
      "cell_type": "code",
      "execution_count": 55,
      "metadata": {
        "colab": {
          "base_uri": "https://localhost:8080/"
        },
        "id": "T4KHHBF4mQOR",
        "outputId": "d5529c7d-1923-4a9d-a8a8-b3bb912ac432"
      },
      "outputs": [
        {
          "data": {
            "text/plain": [
              "(5, 4)"
            ]
          },
          "execution_count": 55,
          "metadata": {},
          "output_type": "execute_result"
        }
      ],
      "source": [
        "dfCopy.shape\n",
        "#dfCopy"
      ]
    },
    {
      "cell_type": "code",
      "execution_count": 56,
      "metadata": {
        "id": "Z7cg7CB-mX7-"
      },
      "outputs": [],
      "source": [
        "#default axis=0 (index==rows)\n",
        "rowsWithoutMissingData = dfCopy.dropna()"
      ]
    },
    {
      "cell_type": "code",
      "execution_count": 57,
      "metadata": {
        "colab": {
          "base_uri": "https://localhost:8080/"
        },
        "id": "wm1_87IOmlEJ",
        "outputId": "d8c4ae24-66e5-4608-9004-723a6c659683"
      },
      "outputs": [
        {
          "data": {
            "text/plain": [
              "(5, 4)"
            ]
          },
          "execution_count": 57,
          "metadata": {},
          "output_type": "execute_result"
        }
      ],
      "source": [
        "rowsWithoutMissingData.shape"
      ]
    },
    {
      "cell_type": "code",
      "execution_count": 58,
      "metadata": {
        "colab": {
          "base_uri": "https://localhost:8080/",
          "height": 112
        },
        "id": "NuxCBkliX4jm",
        "outputId": "a62e98a2-288b-4b54-aa03-99191266b729"
      },
      "outputs": [
        {
          "data": {
            "text/html": [
              "<div>\n",
              "<style scoped>\n",
              "    .dataframe tbody tr th:only-of-type {\n",
              "        vertical-align: middle;\n",
              "    }\n",
              "\n",
              "    .dataframe tbody tr th {\n",
              "        vertical-align: top;\n",
              "    }\n",
              "\n",
              "    .dataframe thead th {\n",
              "        text-align: right;\n",
              "    }\n",
              "</style>\n",
              "<table border=\"1\" class=\"dataframe\">\n",
              "  <thead>\n",
              "    <tr style=\"text-align: right;\">\n",
              "      <th></th>\n",
              "      <th>Name</th>\n",
              "      <th>Age</th>\n",
              "      <th>Gender</th>\n",
              "      <th>Salary</th>\n",
              "    </tr>\n",
              "  </thead>\n",
              "  <tbody>\n",
              "    <tr>\n",
              "      <th>0</th>\n",
              "      <td>Alice</td>\n",
              "      <td>25.0</td>\n",
              "      <td>F</td>\n",
              "      <td>50000.0</td>\n",
              "    </tr>\n",
              "    <tr>\n",
              "      <th>1</th>\n",
              "      <td>Bob</td>\n",
              "      <td>31.0</td>\n",
              "      <td>M</td>\n",
              "      <td>30000.0</td>\n",
              "    </tr>\n",
              "    <tr>\n",
              "      <th>2</th>\n",
              "      <td>Charlie</td>\n",
              "      <td>22.0</td>\n",
              "      <td>Other</td>\n",
              "      <td>30000.0</td>\n",
              "    </tr>\n",
              "    <tr>\n",
              "      <th>3</th>\n",
              "      <td>David</td>\n",
              "      <td>-1.0</td>\n",
              "      <td>M</td>\n",
              "      <td>40000.0</td>\n",
              "    </tr>\n",
              "    <tr>\n",
              "      <th>4</th>\n",
              "      <td>Eva</td>\n",
              "      <td>27.0</td>\n",
              "      <td>F</td>\n",
              "      <td>60000.0</td>\n",
              "    </tr>\n",
              "  </tbody>\n",
              "</table>\n",
              "</div>"
            ],
            "text/plain": [
              "      Name   Age Gender   Salary\n",
              "0    Alice  25.0      F  50000.0\n",
              "1      Bob  31.0      M  30000.0\n",
              "2  Charlie  22.0  Other  30000.0\n",
              "3    David  -1.0      M  40000.0\n",
              "4      Eva  27.0      F  60000.0"
            ]
          },
          "execution_count": 58,
          "metadata": {},
          "output_type": "execute_result"
        }
      ],
      "source": [
        "rowsWithoutMissingData"
      ]
    },
    {
      "cell_type": "markdown",
      "metadata": {
        "id": "mcL7oHBYnm4o"
      },
      "source": [
        "### Remove *Features* with null-values"
      ]
    },
    {
      "cell_type": "markdown",
      "metadata": {
        "id": "5vca3PHzoA9o"
      },
      "source": [
        "Remove problematic columns if they’re not relevant for your analysis."
      ]
    },
    {
      "cell_type": "code",
      "execution_count": 59,
      "metadata": {
        "id": "SVMKkkcPnmpZ"
      },
      "outputs": [],
      "source": [
        "#Features==Columns (axis 1)\n",
        "dataWithoutMissingColumns = dfCopy.dropna(axis=1)"
      ]
    },
    {
      "cell_type": "code",
      "execution_count": 60,
      "metadata": {
        "colab": {
          "base_uri": "https://localhost:8080/",
          "height": 206
        },
        "id": "KUgTeZ99okwn",
        "outputId": "6ea3d54a-3c45-419c-de03-1b5f5dee0c63"
      },
      "outputs": [
        {
          "data": {
            "text/html": [
              "<div>\n",
              "<style scoped>\n",
              "    .dataframe tbody tr th:only-of-type {\n",
              "        vertical-align: middle;\n",
              "    }\n",
              "\n",
              "    .dataframe tbody tr th {\n",
              "        vertical-align: top;\n",
              "    }\n",
              "\n",
              "    .dataframe thead th {\n",
              "        text-align: right;\n",
              "    }\n",
              "</style>\n",
              "<table border=\"1\" class=\"dataframe\">\n",
              "  <thead>\n",
              "    <tr style=\"text-align: right;\">\n",
              "      <th></th>\n",
              "      <th>Name</th>\n",
              "      <th>Age</th>\n",
              "      <th>Gender</th>\n",
              "      <th>Salary</th>\n",
              "    </tr>\n",
              "  </thead>\n",
              "  <tbody>\n",
              "    <tr>\n",
              "      <th>0</th>\n",
              "      <td>Alice</td>\n",
              "      <td>25.0</td>\n",
              "      <td>F</td>\n",
              "      <td>50000.0</td>\n",
              "    </tr>\n",
              "    <tr>\n",
              "      <th>1</th>\n",
              "      <td>Bob</td>\n",
              "      <td>31.0</td>\n",
              "      <td>M</td>\n",
              "      <td>30000.0</td>\n",
              "    </tr>\n",
              "    <tr>\n",
              "      <th>2</th>\n",
              "      <td>Charlie</td>\n",
              "      <td>22.0</td>\n",
              "      <td>Other</td>\n",
              "      <td>30000.0</td>\n",
              "    </tr>\n",
              "    <tr>\n",
              "      <th>3</th>\n",
              "      <td>David</td>\n",
              "      <td>-1.0</td>\n",
              "      <td>M</td>\n",
              "      <td>40000.0</td>\n",
              "    </tr>\n",
              "    <tr>\n",
              "      <th>4</th>\n",
              "      <td>Eva</td>\n",
              "      <td>27.0</td>\n",
              "      <td>F</td>\n",
              "      <td>60000.0</td>\n",
              "    </tr>\n",
              "  </tbody>\n",
              "</table>\n",
              "</div>"
            ],
            "text/plain": [
              "      Name   Age Gender   Salary\n",
              "0    Alice  25.0      F  50000.0\n",
              "1      Bob  31.0      M  30000.0\n",
              "2  Charlie  22.0  Other  30000.0\n",
              "3    David  -1.0      M  40000.0\n",
              "4      Eva  27.0      F  60000.0"
            ]
          },
          "execution_count": 60,
          "metadata": {},
          "output_type": "execute_result"
        }
      ],
      "source": [
        "dataWithoutMissingColumns"
      ]
    },
    {
      "cell_type": "code",
      "execution_count": 61,
      "metadata": {
        "id": "Xe13iGdsYrPB"
      },
      "outputs": [
        {
          "name": "stdout",
          "output_type": "stream",
          "text": [
            "<class 'pandas.core.frame.DataFrame'>\n",
            "RangeIndex: 126314 entries, 0 to 126313\n",
            "Data columns (total 25 columns):\n",
            " #   Column         Non-Null Count   Dtype         \n",
            "---  ------         --------------   -----         \n",
            " 0   gameorder      126314 non-null  int64         \n",
            " 1   game_id        126314 non-null  object        \n",
            " 2   lg_id          126314 non-null  object        \n",
            " 3   _iscopy        126314 non-null  int64         \n",
            " 4   year_id        126314 non-null  int64         \n",
            " 5   date_game      126314 non-null  object        \n",
            " 6   seasongame     126314 non-null  int64         \n",
            " 7   is_playoffs    126314 non-null  int64         \n",
            " 8   team_id        126314 non-null  object        \n",
            " 9   fran_id        126314 non-null  object        \n",
            " 10  pts            126314 non-null  int64         \n",
            " 11  elo_i          126314 non-null  float64       \n",
            " 12  elo_n          126314 non-null  float64       \n",
            " 13  win_equiv      126314 non-null  float64       \n",
            " 14  opp_id         126314 non-null  object        \n",
            " 15  opp_fran       126314 non-null  object        \n",
            " 16  opp_pts        126314 non-null  int64         \n",
            " 17  opp_elo_i      126314 non-null  float64       \n",
            " 18  opp_elo_n      126314 non-null  float64       \n",
            " 19  game_location  126314 non-null  object        \n",
            " 20  game_result    126314 non-null  object        \n",
            " 21  forecast       126314 non-null  float64       \n",
            " 22  notes          5424 non-null    object        \n",
            " 23  date_played    126314 non-null  datetime64[ns]\n",
            " 24  DaysCPassed    126314 non-null  float64       \n",
            "dtypes: datetime64[ns](1), float64(7), int64(7), object(10)\n",
            "memory usage: 24.1+ MB\n"
          ]
        }
      ],
      "source": [
        "nba.info()"
      ]
    },
    {
      "cell_type": "markdown",
      "metadata": {
        "id": "bO-9MNMHZbtS"
      },
      "source": [
        "### Change *Null Values*"
      ]
    },
    {
      "cell_type": "code",
      "execution_count": 62,
      "metadata": {
        "colab": {
          "base_uri": "https://localhost:8080/"
        },
        "id": "MDWtLtbLYjbQ",
        "outputId": "6223f50f-0535-4b2e-e29b-8800a5af07c4"
      },
      "outputs": [
        {
          "data": {
            "text/plain": [
              "count              126314\n",
              "unique                232\n",
              "top       no notes at all\n",
              "freq               120890\n",
              "Name: notes, dtype: object"
            ]
          },
          "execution_count": 62,
          "metadata": {},
          "output_type": "execute_result"
        }
      ],
      "source": [
        "#see https://pandas.pydata.org/docs/reference/api/pandas.DataFrame.fillna.html\n",
        "data_with_default_notes = nba.copy()\n",
        "data_with_default_notes[\"notes\"].fillna(value=\"no notes at all\", inplace=True)\n",
        "data_with_default_notes[\"notes\"].describe()\n",
        "# Expected:\n",
        "# count              126314\n",
        "# unique                232\n",
        "# top       no notes at all\n",
        "# freq               120890\n",
        "# Name: notes, dtype: object"
      ]
    },
    {
      "cell_type": "markdown",
      "metadata": {
        "id": "4qOosR2TaUkQ"
      },
      "source": [
        "### Invalid Values"
      ]
    },
    {
      "cell_type": "code",
      "execution_count": 63,
      "metadata": {
        "colab": {
          "base_uri": "https://localhost:8080/",
          "height": 182
        },
        "id": "3cJg5HTHaXqC",
        "outputId": "91b290ed-3105-4a3f-ade6-ac2d6763d9e4"
      },
      "outputs": [
        {
          "data": {
            "text/html": [
              "<div>\n",
              "<style scoped>\n",
              "    .dataframe tbody tr th:only-of-type {\n",
              "        vertical-align: middle;\n",
              "    }\n",
              "\n",
              "    .dataframe tbody tr th {\n",
              "        vertical-align: top;\n",
              "    }\n",
              "\n",
              "    .dataframe thead th {\n",
              "        text-align: right;\n",
              "    }\n",
              "</style>\n",
              "<table border=\"1\" class=\"dataframe\">\n",
              "  <thead>\n",
              "    <tr style=\"text-align: right;\">\n",
              "      <th></th>\n",
              "      <th>gameorder</th>\n",
              "      <th>game_id</th>\n",
              "      <th>lg_id</th>\n",
              "      <th>_iscopy</th>\n",
              "      <th>year_id</th>\n",
              "      <th>date_game</th>\n",
              "      <th>seasongame</th>\n",
              "      <th>is_playoffs</th>\n",
              "      <th>team_id</th>\n",
              "      <th>fran_id</th>\n",
              "      <th>...</th>\n",
              "      <th>opp_fran</th>\n",
              "      <th>opp_pts</th>\n",
              "      <th>opp_elo_i</th>\n",
              "      <th>opp_elo_n</th>\n",
              "      <th>game_location</th>\n",
              "      <th>game_result</th>\n",
              "      <th>forecast</th>\n",
              "      <th>notes</th>\n",
              "      <th>date_played</th>\n",
              "      <th>DaysCPassed</th>\n",
              "    </tr>\n",
              "  </thead>\n",
              "  <tbody>\n",
              "    <tr>\n",
              "      <th>26684</th>\n",
              "      <td>13343</td>\n",
              "      <td>197210260VIR</td>\n",
              "      <td>ABA</td>\n",
              "      <td>1</td>\n",
              "      <td>1973</td>\n",
              "      <td>10/26/1972</td>\n",
              "      <td>7</td>\n",
              "      <td>0</td>\n",
              "      <td>DNR</td>\n",
              "      <td>Nuggets</td>\n",
              "      <td>...</td>\n",
              "      <td>Squires</td>\n",
              "      <td>2</td>\n",
              "      <td>1484.1907</td>\n",
              "      <td>1487.083</td>\n",
              "      <td>A</td>\n",
              "      <td>L</td>\n",
              "      <td>0.328948</td>\n",
              "      <td>at Richmond VA; forfeit to VIR</td>\n",
              "      <td>1972-10-26</td>\n",
              "      <td>18717.0</td>\n",
              "    </tr>\n",
              "  </tbody>\n",
              "</table>\n",
              "<p>1 rows × 25 columns</p>\n",
              "</div>"
            ],
            "text/plain": [
              "       gameorder       game_id lg_id  _iscopy  year_id   date_game  \\\n",
              "26684      13343  197210260VIR   ABA        1     1973  10/26/1972   \n",
              "\n",
              "       seasongame  is_playoffs team_id  fran_id  ...  opp_fran  opp_pts  \\\n",
              "26684           7            0     DNR  Nuggets  ...   Squires        2   \n",
              "\n",
              "       opp_elo_i  opp_elo_n game_location game_result  forecast  \\\n",
              "26684  1484.1907   1487.083             A           L  0.328948   \n",
              "\n",
              "                                notes  date_played DaysCPassed  \n",
              "26684  at Richmond VA; forfeit to VIR   1972-10-26     18717.0  \n",
              "\n",
              "[1 rows x 25 columns]"
            ]
          },
          "execution_count": 63,
          "metadata": {},
          "output_type": "execute_result"
        }
      ],
      "source": [
        "nba[nba[\"pts\"] == 0]"
      ]
    },
    {
      "cell_type": "markdown",
      "metadata": {
        "id": "H3DxJlYBamSL"
      },
      "source": [
        "### Inconsistencies Between Values in Different Columns"
      ]
    },
    {
      "cell_type": "code",
      "execution_count": 64,
      "metadata": {
        "colab": {
          "base_uri": "https://localhost:8080/"
        },
        "id": "1rb58BuEapS9",
        "outputId": "a0095695-b373-41a0-f343-bae1b09945ff"
      },
      "outputs": [
        {
          "data": {
            "text/plain": [
              "True"
            ]
          },
          "execution_count": 64,
          "metadata": {},
          "output_type": "execute_result"
        }
      ],
      "source": [
        "nba[(nba[\"pts\"] > nba[\"opp_pts\"]) & (nba[\"game_result\"] != \"W\")].empty\n",
        "# Expected:\n",
        "# True"
      ]
    },
    {
      "cell_type": "code",
      "execution_count": 65,
      "metadata": {
        "colab": {
          "base_uri": "https://localhost:8080/"
        },
        "id": "-E7rlFxsaz1p",
        "outputId": "213f63f9-abdf-4352-af35-1a434d562295"
      },
      "outputs": [
        {
          "data": {
            "text/plain": [
              "True"
            ]
          },
          "execution_count": 65,
          "metadata": {},
          "output_type": "execute_result"
        }
      ],
      "source": [
        "nba[(nba[\"pts\"] < nba[\"opp_pts\"]) & (nba[\"game_result\"] != \"L\")].empty\n",
        "# Expected:\n",
        "# True"
      ]
    },
    {
      "cell_type": "markdown",
      "metadata": {
        "id": "3JsSvY0qYqrp"
      },
      "source": [
        "### Spliting Datasets"
      ]
    },
    {
      "cell_type": "markdown",
      "metadata": {
        "id": "-6SOUHZ7czJN"
      },
      "source": [
        "\n",
        "\n",
        "---\n",
        "\n"
      ]
    },
    {
      "cell_type": "markdown",
      "metadata": {
        "id": "kdcwXqppEQjJ"
      },
      "source": [
        "***Slicing Data (essential)***"
      ]
    },
    {
      "cell_type": "code",
      "execution_count": 66,
      "metadata": {
        "id": "F9ZKE1u4ESOR"
      },
      "outputs": [],
      "source": [
        "a = [7, 2, 3, 7, 5, 6, 0, 1]"
      ]
    },
    {
      "cell_type": "markdown",
      "metadata": {
        "id": "zGZ9A6ABFpdI"
      },
      "source": [
        "the instruction *[start:stop]* includes the value in the position *start*, but not in the position *stop*. Both are optional."
      ]
    },
    {
      "cell_type": "markdown",
      "metadata": {
        "id": "aVd1Rj2eFfBy"
      },
      "source": [
        "Part of the data"
      ]
    },
    {
      "cell_type": "code",
      "execution_count": 67,
      "metadata": {
        "id": "azjgZAj-Y3dQ"
      },
      "outputs": [
        {
          "data": {
            "text/plain": [
              "[2, 3, 7, 5]"
            ]
          },
          "execution_count": 67,
          "metadata": {},
          "output_type": "execute_result"
        }
      ],
      "source": [
        "a[1:5]"
      ]
    },
    {
      "cell_type": "code",
      "execution_count": 68,
      "metadata": {
        "id": "c2HUWWidGIU-"
      },
      "outputs": [
        {
          "data": {
            "text/plain": [
              "[7, 2, 3, 7, 5]"
            ]
          },
          "execution_count": 68,
          "metadata": {},
          "output_type": "execute_result"
        }
      ],
      "source": [
        "a[:5]"
      ]
    },
    {
      "cell_type": "code",
      "execution_count": 69,
      "metadata": {
        "id": "OAFwpDLuGJg1"
      },
      "outputs": [
        {
          "data": {
            "text/plain": [
              "[7, 5, 6, 0, 1]"
            ]
          },
          "execution_count": 69,
          "metadata": {},
          "output_type": "execute_result"
        }
      ],
      "source": [
        "a[3:]"
      ]
    },
    {
      "cell_type": "markdown",
      "metadata": {
        "id": "dj9FvhEcGT-o"
      },
      "source": [
        "Start from the end of the data"
      ]
    },
    {
      "cell_type": "code",
      "execution_count": 70,
      "metadata": {
        "id": "3g9YHQ6wGTF-"
      },
      "outputs": [
        {
          "data": {
            "text/plain": [
              "[5, 6, 0, 1]"
            ]
          },
          "execution_count": 70,
          "metadata": {},
          "output_type": "execute_result"
        }
      ],
      "source": [
        "a[-4:]"
      ]
    },
    {
      "cell_type": "code",
      "execution_count": 71,
      "metadata": {
        "id": "_CKBZqLtGaUK"
      },
      "outputs": [
        {
          "data": {
            "text/plain": [
              "[3, 7, 5, 6]"
            ]
          },
          "execution_count": 71,
          "metadata": {},
          "output_type": "execute_result"
        }
      ],
      "source": [
        "a[-6:-2]"
      ]
    },
    {
      "cell_type": "markdown",
      "metadata": {
        "id": "J70NX5EdFbEp"
      },
      "source": [
        "*Values substituition*"
      ]
    },
    {
      "cell_type": "code",
      "execution_count": 72,
      "metadata": {
        "id": "uFoLqxaxFHtK"
      },
      "outputs": [
        {
          "data": {
            "text/plain": [
              "[7, 2, 3, 6, 3, 5, 6, 0, 1]"
            ]
          },
          "execution_count": 72,
          "metadata": {},
          "output_type": "execute_result"
        }
      ],
      "source": [
        "a[3:4] = [6, 3]\n",
        "a"
      ]
    },
    {
      "cell_type": "markdown",
      "metadata": {
        "id": "qAhStZgwGdzk"
      },
      "source": [
        "*Change the step using [start:stop:step]*"
      ]
    },
    {
      "cell_type": "code",
      "execution_count": 73,
      "metadata": {
        "id": "yHrrDB63GfNb"
      },
      "outputs": [
        {
          "data": {
            "text/plain": [
              "[7, 3, 3, 6, 1]"
            ]
          },
          "execution_count": 73,
          "metadata": {},
          "output_type": "execute_result"
        }
      ],
      "source": [
        "a[::2]"
      ]
    },
    {
      "cell_type": "markdown",
      "metadata": {
        "id": "oAnJHdiZHANT"
      },
      "source": [
        "*Special case: Inverting a sequence*"
      ]
    },
    {
      "cell_type": "code",
      "execution_count": 74,
      "metadata": {
        "id": "3DEE0clpHDz4"
      },
      "outputs": [
        {
          "data": {
            "text/plain": [
              "[1, 0, 6, 5, 3, 6, 3, 2, 7]"
            ]
          },
          "execution_count": 74,
          "metadata": {},
          "output_type": "execute_result"
        }
      ],
      "source": [
        "a[::-1]"
      ]
    },
    {
      "cell_type": "markdown",
      "metadata": {
        "id": "vIeun8V8c2Tv"
      },
      "source": [
        "\n",
        "\n",
        "---\n",
        "\n"
      ]
    },
    {
      "cell_type": "markdown",
      "metadata": {
        "id": "SVqPwIAxG63i"
      },
      "source": [
        "**Considering Datasets**"
      ]
    },
    {
      "cell_type": "markdown",
      "metadata": {
        "id": "p_Rl8tGzIOnT"
      },
      "source": [
        "*Spliting the Dataset by Row*"
      ]
    },
    {
      "cell_type": "code",
      "execution_count": 75,
      "metadata": {
        "colab": {
          "base_uri": "https://localhost:8080/"
        },
        "id": "Ww18rc5Jbfw0",
        "outputId": "c45c1f5e-8c66-410e-caa8-cfe4cd395adc"
      },
      "outputs": [
        {
          "data": {
            "text/plain": [
              "126314"
            ]
          },
          "execution_count": 75,
          "metadata": {},
          "output_type": "execute_result"
        }
      ],
      "source": [
        "len(nba)"
      ]
    },
    {
      "cell_type": "markdown",
      "metadata": {
        "id": "_sDrFlb8Z53T"
      },
      "source": [
        "*Splitting  Dataframe by groups*"
      ]
    },
    {
      "cell_type": "markdown",
      "metadata": {
        "id": "k24W6mCVac3a"
      },
      "source": [
        "Group the data by column value *year_id*. The newly formed dataframe consists of grouped data with *year_id* = 1947."
      ]
    },
    {
      "cell_type": "code",
      "execution_count": 76,
      "metadata": {
        "colab": {
          "base_uri": "https://localhost:8080/"
        },
        "id": "ux8XWfbUeCdZ",
        "outputId": "53e4db93-24b2-469d-9ac9-81e1762f40de"
      },
      "outputs": [
        {
          "name": "stdout",
          "output_type": "stream",
          "text": [
            "<class 'pandas.core.frame.DataFrame'>\n",
            "RangeIndex: 126314 entries, 0 to 126313\n",
            "Data columns (total 25 columns):\n",
            " #   Column         Non-Null Count   Dtype         \n",
            "---  ------         --------------   -----         \n",
            " 0   gameorder      126314 non-null  int64         \n",
            " 1   game_id        126314 non-null  object        \n",
            " 2   lg_id          126314 non-null  object        \n",
            " 3   _iscopy        126314 non-null  int64         \n",
            " 4   year_id        126314 non-null  int64         \n",
            " 5   date_game      126314 non-null  object        \n",
            " 6   seasongame     126314 non-null  int64         \n",
            " 7   is_playoffs    126314 non-null  int64         \n",
            " 8   team_id        126314 non-null  object        \n",
            " 9   fran_id        126314 non-null  object        \n",
            " 10  pts            126314 non-null  int64         \n",
            " 11  elo_i          126314 non-null  float64       \n",
            " 12  elo_n          126314 non-null  float64       \n",
            " 13  win_equiv      126314 non-null  float64       \n",
            " 14  opp_id         126314 non-null  object        \n",
            " 15  opp_fran       126314 non-null  object        \n",
            " 16  opp_pts        126314 non-null  int64         \n",
            " 17  opp_elo_i      126314 non-null  float64       \n",
            " 18  opp_elo_n      126314 non-null  float64       \n",
            " 19  game_location  126314 non-null  object        \n",
            " 20  game_result    126314 non-null  object        \n",
            " 21  forecast       126314 non-null  float64       \n",
            " 22  notes          5424 non-null    object        \n",
            " 23  date_played    126314 non-null  datetime64[ns]\n",
            " 24  DaysCPassed    126314 non-null  float64       \n",
            "dtypes: datetime64[ns](1), float64(7), int64(7), object(10)\n",
            "memory usage: 24.1+ MB\n"
          ]
        }
      ],
      "source": [
        "nba.info()\n"
      ]
    },
    {
      "cell_type": "code",
      "execution_count": 77,
      "metadata": {
        "colab": {
          "base_uri": "https://localhost:8080/",
          "height": 444
        },
        "id": "jHqqGLGWbQsl",
        "outputId": "3c0bf8ba-9713-4763-9ef2-4b8dd548f260"
      },
      "outputs": [
        {
          "data": {
            "text/html": [
              "<div>\n",
              "<style scoped>\n",
              "    .dataframe tbody tr th:only-of-type {\n",
              "        vertical-align: middle;\n",
              "    }\n",
              "\n",
              "    .dataframe tbody tr th {\n",
              "        vertical-align: top;\n",
              "    }\n",
              "\n",
              "    .dataframe thead th {\n",
              "        text-align: right;\n",
              "    }\n",
              "</style>\n",
              "<table border=\"1\" class=\"dataframe\">\n",
              "  <thead>\n",
              "    <tr style=\"text-align: right;\">\n",
              "      <th></th>\n",
              "      <th>gameorder</th>\n",
              "      <th>game_id</th>\n",
              "      <th>lg_id</th>\n",
              "      <th>_iscopy</th>\n",
              "      <th>year_id</th>\n",
              "      <th>date_game</th>\n",
              "      <th>seasongame</th>\n",
              "      <th>is_playoffs</th>\n",
              "      <th>team_id</th>\n",
              "      <th>fran_id</th>\n",
              "      <th>...</th>\n",
              "      <th>opp_fran</th>\n",
              "      <th>opp_pts</th>\n",
              "      <th>opp_elo_i</th>\n",
              "      <th>opp_elo_n</th>\n",
              "      <th>game_location</th>\n",
              "      <th>game_result</th>\n",
              "      <th>forecast</th>\n",
              "      <th>notes</th>\n",
              "      <th>date_played</th>\n",
              "      <th>DaysCPassed</th>\n",
              "    </tr>\n",
              "  </thead>\n",
              "  <tbody>\n",
              "    <tr>\n",
              "      <th>0</th>\n",
              "      <td>1</td>\n",
              "      <td>194611010TRH</td>\n",
              "      <td>NBA</td>\n",
              "      <td>0</td>\n",
              "      <td>1947</td>\n",
              "      <td>11/1/1946</td>\n",
              "      <td>1</td>\n",
              "      <td>0</td>\n",
              "      <td>TRH</td>\n",
              "      <td>Huskies</td>\n",
              "      <td>...</td>\n",
              "      <td>Knicks</td>\n",
              "      <td>68</td>\n",
              "      <td>1300.0000</td>\n",
              "      <td>1306.7233</td>\n",
              "      <td>H</td>\n",
              "      <td>L</td>\n",
              "      <td>0.640065</td>\n",
              "      <td>NaN</td>\n",
              "      <td>1946-11-01</td>\n",
              "      <td>28208.0</td>\n",
              "    </tr>\n",
              "    <tr>\n",
              "      <th>1</th>\n",
              "      <td>1</td>\n",
              "      <td>194611010TRH</td>\n",
              "      <td>NBA</td>\n",
              "      <td>1</td>\n",
              "      <td>1947</td>\n",
              "      <td>11/1/1946</td>\n",
              "      <td>1</td>\n",
              "      <td>0</td>\n",
              "      <td>NYK</td>\n",
              "      <td>Knicks</td>\n",
              "      <td>...</td>\n",
              "      <td>Huskies</td>\n",
              "      <td>66</td>\n",
              "      <td>1300.0000</td>\n",
              "      <td>1293.2767</td>\n",
              "      <td>A</td>\n",
              "      <td>W</td>\n",
              "      <td>0.359935</td>\n",
              "      <td>NaN</td>\n",
              "      <td>1946-11-01</td>\n",
              "      <td>28208.0</td>\n",
              "    </tr>\n",
              "    <tr>\n",
              "      <th>2</th>\n",
              "      <td>2</td>\n",
              "      <td>194611020CHS</td>\n",
              "      <td>NBA</td>\n",
              "      <td>0</td>\n",
              "      <td>1947</td>\n",
              "      <td>11/2/1946</td>\n",
              "      <td>1</td>\n",
              "      <td>0</td>\n",
              "      <td>CHS</td>\n",
              "      <td>Stags</td>\n",
              "      <td>...</td>\n",
              "      <td>Knicks</td>\n",
              "      <td>47</td>\n",
              "      <td>1306.7233</td>\n",
              "      <td>1297.0712</td>\n",
              "      <td>H</td>\n",
              "      <td>W</td>\n",
              "      <td>0.631101</td>\n",
              "      <td>NaN</td>\n",
              "      <td>1946-11-02</td>\n",
              "      <td>28207.0</td>\n",
              "    </tr>\n",
              "    <tr>\n",
              "      <th>3</th>\n",
              "      <td>2</td>\n",
              "      <td>194611020CHS</td>\n",
              "      <td>NBA</td>\n",
              "      <td>1</td>\n",
              "      <td>1947</td>\n",
              "      <td>11/2/1946</td>\n",
              "      <td>2</td>\n",
              "      <td>0</td>\n",
              "      <td>NYK</td>\n",
              "      <td>Knicks</td>\n",
              "      <td>...</td>\n",
              "      <td>Stags</td>\n",
              "      <td>63</td>\n",
              "      <td>1300.0000</td>\n",
              "      <td>1309.6521</td>\n",
              "      <td>A</td>\n",
              "      <td>L</td>\n",
              "      <td>0.368899</td>\n",
              "      <td>NaN</td>\n",
              "      <td>1946-11-02</td>\n",
              "      <td>28207.0</td>\n",
              "    </tr>\n",
              "    <tr>\n",
              "      <th>4</th>\n",
              "      <td>3</td>\n",
              "      <td>194611020DTF</td>\n",
              "      <td>NBA</td>\n",
              "      <td>0</td>\n",
              "      <td>1947</td>\n",
              "      <td>11/2/1946</td>\n",
              "      <td>1</td>\n",
              "      <td>0</td>\n",
              "      <td>DTF</td>\n",
              "      <td>Falcons</td>\n",
              "      <td>...</td>\n",
              "      <td>Capitols</td>\n",
              "      <td>50</td>\n",
              "      <td>1300.0000</td>\n",
              "      <td>1320.3811</td>\n",
              "      <td>H</td>\n",
              "      <td>L</td>\n",
              "      <td>0.640065</td>\n",
              "      <td>NaN</td>\n",
              "      <td>1946-11-02</td>\n",
              "      <td>28207.0</td>\n",
              "    </tr>\n",
              "    <tr>\n",
              "      <th>...</th>\n",
              "      <td>...</td>\n",
              "      <td>...</td>\n",
              "      <td>...</td>\n",
              "      <td>...</td>\n",
              "      <td>...</td>\n",
              "      <td>...</td>\n",
              "      <td>...</td>\n",
              "      <td>...</td>\n",
              "      <td>...</td>\n",
              "      <td>...</td>\n",
              "      <td>...</td>\n",
              "      <td>...</td>\n",
              "      <td>...</td>\n",
              "      <td>...</td>\n",
              "      <td>...</td>\n",
              "      <td>...</td>\n",
              "      <td>...</td>\n",
              "      <td>...</td>\n",
              "      <td>...</td>\n",
              "      <td>...</td>\n",
              "      <td>...</td>\n",
              "    </tr>\n",
              "    <tr>\n",
              "      <th>695</th>\n",
              "      <td>348</td>\n",
              "      <td>194704190CHS</td>\n",
              "      <td>NBA</td>\n",
              "      <td>1</td>\n",
              "      <td>1947</td>\n",
              "      <td>4/19/1947</td>\n",
              "      <td>68</td>\n",
              "      <td>1</td>\n",
              "      <td>PHW</td>\n",
              "      <td>Warriors</td>\n",
              "      <td>...</td>\n",
              "      <td>Stags</td>\n",
              "      <td>72</td>\n",
              "      <td>1416.6769</td>\n",
              "      <td>1409.4009</td>\n",
              "      <td>A</td>\n",
              "      <td>W</td>\n",
              "      <td>0.389797</td>\n",
              "      <td>NaN</td>\n",
              "      <td>1947-04-19</td>\n",
              "      <td>28039.0</td>\n",
              "    </tr>\n",
              "    <tr>\n",
              "      <th>696</th>\n",
              "      <td>349</td>\n",
              "      <td>194704200CHS</td>\n",
              "      <td>NBA</td>\n",
              "      <td>1</td>\n",
              "      <td>1947</td>\n",
              "      <td>4/20/1947</td>\n",
              "      <td>69</td>\n",
              "      <td>1</td>\n",
              "      <td>PHW</td>\n",
              "      <td>Warriors</td>\n",
              "      <td>...</td>\n",
              "      <td>Stags</td>\n",
              "      <td>74</td>\n",
              "      <td>1409.4009</td>\n",
              "      <td>1412.5547</td>\n",
              "      <td>A</td>\n",
              "      <td>L</td>\n",
              "      <td>0.409896</td>\n",
              "      <td>NaN</td>\n",
              "      <td>1947-04-20</td>\n",
              "      <td>28038.0</td>\n",
              "    </tr>\n",
              "    <tr>\n",
              "      <th>697</th>\n",
              "      <td>349</td>\n",
              "      <td>194704200CHS</td>\n",
              "      <td>NBA</td>\n",
              "      <td>0</td>\n",
              "      <td>1947</td>\n",
              "      <td>4/20/1947</td>\n",
              "      <td>71</td>\n",
              "      <td>1</td>\n",
              "      <td>CHS</td>\n",
              "      <td>Stags</td>\n",
              "      <td>...</td>\n",
              "      <td>Warriors</td>\n",
              "      <td>73</td>\n",
              "      <td>1446.0986</td>\n",
              "      <td>1442.9448</td>\n",
              "      <td>H</td>\n",
              "      <td>W</td>\n",
              "      <td>0.590104</td>\n",
              "      <td>NaN</td>\n",
              "      <td>1947-04-20</td>\n",
              "      <td>28038.0</td>\n",
              "    </tr>\n",
              "    <tr>\n",
              "      <th>698</th>\n",
              "      <td>350</td>\n",
              "      <td>194704220GSW</td>\n",
              "      <td>NBA</td>\n",
              "      <td>1</td>\n",
              "      <td>1947</td>\n",
              "      <td>4/22/1947</td>\n",
              "      <td>72</td>\n",
              "      <td>1</td>\n",
              "      <td>CHS</td>\n",
              "      <td>Stags</td>\n",
              "      <td>...</td>\n",
              "      <td>Warriors</td>\n",
              "      <td>83</td>\n",
              "      <td>1442.9448</td>\n",
              "      <td>1446.1919</td>\n",
              "      <td>A</td>\n",
              "      <td>L</td>\n",
              "      <td>0.320694</td>\n",
              "      <td>NaN</td>\n",
              "      <td>1947-04-22</td>\n",
              "      <td>28036.0</td>\n",
              "    </tr>\n",
              "    <tr>\n",
              "      <th>699</th>\n",
              "      <td>350</td>\n",
              "      <td>194704220GSW</td>\n",
              "      <td>NBA</td>\n",
              "      <td>0</td>\n",
              "      <td>1947</td>\n",
              "      <td>4/22/1947</td>\n",
              "      <td>70</td>\n",
              "      <td>1</td>\n",
              "      <td>PHW</td>\n",
              "      <td>Warriors</td>\n",
              "      <td>...</td>\n",
              "      <td>Stags</td>\n",
              "      <td>80</td>\n",
              "      <td>1412.5547</td>\n",
              "      <td>1409.3076</td>\n",
              "      <td>H</td>\n",
              "      <td>W</td>\n",
              "      <td>0.679306</td>\n",
              "      <td>NaN</td>\n",
              "      <td>1947-04-22</td>\n",
              "      <td>28036.0</td>\n",
              "    </tr>\n",
              "  </tbody>\n",
              "</table>\n",
              "<p>700 rows × 25 columns</p>\n",
              "</div>"
            ],
            "text/plain": [
              "     gameorder       game_id lg_id  _iscopy  year_id  date_game  seasongame  \\\n",
              "0            1  194611010TRH   NBA        0     1947  11/1/1946           1   \n",
              "1            1  194611010TRH   NBA        1     1947  11/1/1946           1   \n",
              "2            2  194611020CHS   NBA        0     1947  11/2/1946           1   \n",
              "3            2  194611020CHS   NBA        1     1947  11/2/1946           2   \n",
              "4            3  194611020DTF   NBA        0     1947  11/2/1946           1   \n",
              "..         ...           ...   ...      ...      ...        ...         ...   \n",
              "695        348  194704190CHS   NBA        1     1947  4/19/1947          68   \n",
              "696        349  194704200CHS   NBA        1     1947  4/20/1947          69   \n",
              "697        349  194704200CHS   NBA        0     1947  4/20/1947          71   \n",
              "698        350  194704220GSW   NBA        1     1947  4/22/1947          72   \n",
              "699        350  194704220GSW   NBA        0     1947  4/22/1947          70   \n",
              "\n",
              "     is_playoffs team_id   fran_id  ...  opp_fran  opp_pts  opp_elo_i  \\\n",
              "0              0     TRH   Huskies  ...    Knicks       68  1300.0000   \n",
              "1              0     NYK    Knicks  ...   Huskies       66  1300.0000   \n",
              "2              0     CHS     Stags  ...    Knicks       47  1306.7233   \n",
              "3              0     NYK    Knicks  ...     Stags       63  1300.0000   \n",
              "4              0     DTF   Falcons  ...  Capitols       50  1300.0000   \n",
              "..           ...     ...       ...  ...       ...      ...        ...   \n",
              "695            1     PHW  Warriors  ...     Stags       72  1416.6769   \n",
              "696            1     PHW  Warriors  ...     Stags       74  1409.4009   \n",
              "697            1     CHS     Stags  ...  Warriors       73  1446.0986   \n",
              "698            1     CHS     Stags  ...  Warriors       83  1442.9448   \n",
              "699            1     PHW  Warriors  ...     Stags       80  1412.5547   \n",
              "\n",
              "     opp_elo_n game_location game_result  forecast  notes  date_played  \\\n",
              "0    1306.7233             H           L  0.640065    NaN   1946-11-01   \n",
              "1    1293.2767             A           W  0.359935    NaN   1946-11-01   \n",
              "2    1297.0712             H           W  0.631101    NaN   1946-11-02   \n",
              "3    1309.6521             A           L  0.368899    NaN   1946-11-02   \n",
              "4    1320.3811             H           L  0.640065    NaN   1946-11-02   \n",
              "..         ...           ...         ...       ...    ...          ...   \n",
              "695  1409.4009             A           W  0.389797    NaN   1947-04-19   \n",
              "696  1412.5547             A           L  0.409896    NaN   1947-04-20   \n",
              "697  1442.9448             H           W  0.590104    NaN   1947-04-20   \n",
              "698  1446.1919             A           L  0.320694    NaN   1947-04-22   \n",
              "699  1409.3076             H           W  0.679306    NaN   1947-04-22   \n",
              "\n",
              "    DaysCPassed  \n",
              "0       28208.0  \n",
              "1       28208.0  \n",
              "2       28207.0  \n",
              "3       28207.0  \n",
              "4       28207.0  \n",
              "..          ...  \n",
              "695     28039.0  \n",
              "696     28038.0  \n",
              "697     28038.0  \n",
              "698     28036.0  \n",
              "699     28036.0  \n",
              "\n",
              "[700 rows x 25 columns]"
            ]
          },
          "execution_count": 77,
          "metadata": {},
          "output_type": "execute_result"
        }
      ],
      "source": [
        "# splitting dataframe by groups\n",
        "# grouping by year\n",
        "grouped = nba.groupby(nba.year_id)\n",
        "#get the group of 1947\n",
        "df_new=grouped.get_group(1947)\n",
        "df_new"
      ]
    },
    {
      "cell_type": "code",
      "execution_count": 78,
      "metadata": {
        "id": "_6jho6zxcI7f"
      },
      "outputs": [
        {
          "data": {
            "text/plain": [
              "gameorder        700\n",
              "game_id          700\n",
              "lg_id            700\n",
              "_iscopy          700\n",
              "year_id          700\n",
              "date_game        700\n",
              "seasongame       700\n",
              "is_playoffs      700\n",
              "team_id          700\n",
              "fran_id          700\n",
              "pts              700\n",
              "elo_i            700\n",
              "elo_n            700\n",
              "win_equiv        700\n",
              "opp_id           700\n",
              "opp_fran         700\n",
              "opp_pts          700\n",
              "opp_elo_i        700\n",
              "opp_elo_n        700\n",
              "game_location    700\n",
              "game_result      700\n",
              "forecast         700\n",
              "notes              0\n",
              "date_played      700\n",
              "DaysCPassed      700\n",
              "dtype: int64"
            ]
          },
          "execution_count": 78,
          "metadata": {},
          "output_type": "execute_result"
        }
      ],
      "source": [
        "df_new.count()"
      ]
    },
    {
      "cell_type": "markdown",
      "metadata": {
        "id": "D6BTf5FHbqRX"
      },
      "source": [
        "*Splitting Pandas Dataframe by sized chunks*"
      ]
    },
    {
      "cell_type": "markdown",
      "metadata": {
        "id": "2gmA9spld7_G"
      },
      "source": [
        "Randon 60%"
      ]
    },
    {
      "cell_type": "code",
      "execution_count": 79,
      "metadata": {
        "colab": {
          "base_uri": "https://localhost:8080/"
        },
        "id": "-Ayxlf4Rb5ef",
        "outputId": "3faac922-184c-4773-a05d-ebfede13647b"
      },
      "outputs": [
        {
          "data": {
            "text/plain": [
              "75788"
            ]
          },
          "execution_count": 79,
          "metadata": {},
          "output_type": "execute_result"
        }
      ],
      "source": [
        "# splitting dataframe in a particular size\n",
        "df_split = nba.sample(frac=.6)\n",
        "df_split.reset_index()\n",
        "#df_split\n",
        "len(df_split)"
      ]
    },
    {
      "cell_type": "markdown",
      "metadata": {
        "id": "mcPHP9LheAiq"
      },
      "source": [
        "Split  dataframe in different sets"
      ]
    },
    {
      "cell_type": "code",
      "execution_count": 80,
      "metadata": {
        "colab": {
          "base_uri": "https://localhost:8080/",
          "height": 496
        },
        "id": "Nr8QklDpeRmJ",
        "outputId": "dab1eca6-23fe-4043-9fe7-20e3d478ab70"
      },
      "outputs": [
        {
          "data": {
            "text/html": [
              "<div>\n",
              "<style scoped>\n",
              "    .dataframe tbody tr th:only-of-type {\n",
              "        vertical-align: middle;\n",
              "    }\n",
              "\n",
              "    .dataframe tbody tr th {\n",
              "        vertical-align: top;\n",
              "    }\n",
              "\n",
              "    .dataframe thead th {\n",
              "        text-align: right;\n",
              "    }\n",
              "</style>\n",
              "<table border=\"1\" class=\"dataframe\">\n",
              "  <thead>\n",
              "    <tr style=\"text-align: right;\">\n",
              "      <th></th>\n",
              "      <th>gameorder</th>\n",
              "      <th>game_id</th>\n",
              "      <th>lg_id</th>\n",
              "      <th>_iscopy</th>\n",
              "      <th>year_id</th>\n",
              "      <th>date_game</th>\n",
              "      <th>seasongame</th>\n",
              "      <th>is_playoffs</th>\n",
              "      <th>team_id</th>\n",
              "      <th>fran_id</th>\n",
              "      <th>...</th>\n",
              "      <th>opp_fran</th>\n",
              "      <th>opp_pts</th>\n",
              "      <th>opp_elo_i</th>\n",
              "      <th>opp_elo_n</th>\n",
              "      <th>game_location</th>\n",
              "      <th>game_result</th>\n",
              "      <th>forecast</th>\n",
              "      <th>notes</th>\n",
              "      <th>date_played</th>\n",
              "      <th>DaysCPassed</th>\n",
              "    </tr>\n",
              "  </thead>\n",
              "  <tbody>\n",
              "    <tr>\n",
              "      <th>37090</th>\n",
              "      <td>18546</td>\n",
              "      <td>197702020NYN</td>\n",
              "      <td>NBA</td>\n",
              "      <td>0</td>\n",
              "      <td>1977</td>\n",
              "      <td>2/2/1977</td>\n",
              "      <td>48</td>\n",
              "      <td>0</td>\n",
              "      <td>NYN</td>\n",
              "      <td>Nets</td>\n",
              "      <td>...</td>\n",
              "      <td>Celtics</td>\n",
              "      <td>89</td>\n",
              "      <td>1454.9109</td>\n",
              "      <td>1444.0807</td>\n",
              "      <td>H</td>\n",
              "      <td>W</td>\n",
              "      <td>0.483096</td>\n",
              "      <td>NaN</td>\n",
              "      <td>1977-02-02</td>\n",
              "      <td>17157.0</td>\n",
              "    </tr>\n",
              "    <tr>\n",
              "      <th>7984</th>\n",
              "      <td>3993</td>\n",
              "      <td>195712030GSW</td>\n",
              "      <td>NBA</td>\n",
              "      <td>0</td>\n",
              "      <td>1958</td>\n",
              "      <td>12/3/1957</td>\n",
              "      <td>17</td>\n",
              "      <td>0</td>\n",
              "      <td>PHW</td>\n",
              "      <td>Warriors</td>\n",
              "      <td>...</td>\n",
              "      <td>Sixers</td>\n",
              "      <td>119</td>\n",
              "      <td>1532.4493</td>\n",
              "      <td>1557.2676</td>\n",
              "      <td>H</td>\n",
              "      <td>L</td>\n",
              "      <td>0.634248</td>\n",
              "      <td>at New York NY</td>\n",
              "      <td>1957-12-03</td>\n",
              "      <td>24158.0</td>\n",
              "    </tr>\n",
              "    <tr>\n",
              "      <th>74114</th>\n",
              "      <td>37058</td>\n",
              "      <td>199412030SEA</td>\n",
              "      <td>NBA</td>\n",
              "      <td>0</td>\n",
              "      <td>1995</td>\n",
              "      <td>12/3/1994</td>\n",
              "      <td>15</td>\n",
              "      <td>0</td>\n",
              "      <td>SEA</td>\n",
              "      <td>Thunder</td>\n",
              "      <td>...</td>\n",
              "      <td>Bucks</td>\n",
              "      <td>108</td>\n",
              "      <td>1357.6219</td>\n",
              "      <td>1356.7598</td>\n",
              "      <td>H</td>\n",
              "      <td>W</td>\n",
              "      <td>0.899416</td>\n",
              "      <td>NaN</td>\n",
              "      <td>1994-12-03</td>\n",
              "      <td>10644.0</td>\n",
              "    </tr>\n",
              "    <tr>\n",
              "      <th>94323</th>\n",
              "      <td>47162</td>\n",
              "      <td>200302180ORL</td>\n",
              "      <td>NBA</td>\n",
              "      <td>1</td>\n",
              "      <td>2003</td>\n",
              "      <td>2/18/2003</td>\n",
              "      <td>55</td>\n",
              "      <td>0</td>\n",
              "      <td>NOH</td>\n",
              "      <td>Pelicans</td>\n",
              "      <td>...</td>\n",
              "      <td>Magic</td>\n",
              "      <td>99</td>\n",
              "      <td>1455.0071</td>\n",
              "      <td>1460.9988</td>\n",
              "      <td>A</td>\n",
              "      <td>L</td>\n",
              "      <td>0.439981</td>\n",
              "      <td>NaN</td>\n",
              "      <td>2003-02-18</td>\n",
              "      <td>7645.0</td>\n",
              "    </tr>\n",
              "    <tr>\n",
              "      <th>37000</th>\n",
              "      <td>18501</td>\n",
              "      <td>197701230WSB</td>\n",
              "      <td>NBA</td>\n",
              "      <td>0</td>\n",
              "      <td>1977</td>\n",
              "      <td>1/23/1977</td>\n",
              "      <td>43</td>\n",
              "      <td>0</td>\n",
              "      <td>WSB</td>\n",
              "      <td>Wizards</td>\n",
              "      <td>...</td>\n",
              "      <td>Pistons</td>\n",
              "      <td>108</td>\n",
              "      <td>1518.8035</td>\n",
              "      <td>1512.1829</td>\n",
              "      <td>H</td>\n",
              "      <td>W</td>\n",
              "      <td>0.669820</td>\n",
              "      <td>NaN</td>\n",
              "      <td>1977-01-23</td>\n",
              "      <td>17167.0</td>\n",
              "    </tr>\n",
              "    <tr>\n",
              "      <th>...</th>\n",
              "      <td>...</td>\n",
              "      <td>...</td>\n",
              "      <td>...</td>\n",
              "      <td>...</td>\n",
              "      <td>...</td>\n",
              "      <td>...</td>\n",
              "      <td>...</td>\n",
              "      <td>...</td>\n",
              "      <td>...</td>\n",
              "      <td>...</td>\n",
              "      <td>...</td>\n",
              "      <td>...</td>\n",
              "      <td>...</td>\n",
              "      <td>...</td>\n",
              "      <td>...</td>\n",
              "      <td>...</td>\n",
              "      <td>...</td>\n",
              "      <td>...</td>\n",
              "      <td>...</td>\n",
              "      <td>...</td>\n",
              "      <td>...</td>\n",
              "    </tr>\n",
              "    <tr>\n",
              "      <th>119879</th>\n",
              "      <td>59940</td>\n",
              "      <td>201302060OKC</td>\n",
              "      <td>NBA</td>\n",
              "      <td>0</td>\n",
              "      <td>2013</td>\n",
              "      <td>2/6/2013</td>\n",
              "      <td>49</td>\n",
              "      <td>0</td>\n",
              "      <td>OKC</td>\n",
              "      <td>Thunder</td>\n",
              "      <td>...</td>\n",
              "      <td>Warriors</td>\n",
              "      <td>98</td>\n",
              "      <td>1551.1230</td>\n",
              "      <td>1545.6824</td>\n",
              "      <td>H</td>\n",
              "      <td>W</td>\n",
              "      <td>0.807499</td>\n",
              "      <td>NaN</td>\n",
              "      <td>2013-02-06</td>\n",
              "      <td>4004.0</td>\n",
              "    </tr>\n",
              "    <tr>\n",
              "      <th>103694</th>\n",
              "      <td>51848</td>\n",
              "      <td>200612070NJN</td>\n",
              "      <td>NBA</td>\n",
              "      <td>1</td>\n",
              "      <td>2007</td>\n",
              "      <td>12/7/2006</td>\n",
              "      <td>17</td>\n",
              "      <td>0</td>\n",
              "      <td>PHO</td>\n",
              "      <td>Suns</td>\n",
              "      <td>...</td>\n",
              "      <td>Nets</td>\n",
              "      <td>157</td>\n",
              "      <td>1479.3242</td>\n",
              "      <td>1473.5780</td>\n",
              "      <td>A</td>\n",
              "      <td>W</td>\n",
              "      <td>0.536483</td>\n",
              "      <td>NaN</td>\n",
              "      <td>2006-12-07</td>\n",
              "      <td>6257.0</td>\n",
              "    </tr>\n",
              "    <tr>\n",
              "      <th>860</th>\n",
              "      <td>431</td>\n",
              "      <td>194801060BLB</td>\n",
              "      <td>NBA</td>\n",
              "      <td>1</td>\n",
              "      <td>1948</td>\n",
              "      <td>1/6/1948</td>\n",
              "      <td>21</td>\n",
              "      <td>0</td>\n",
              "      <td>PRO</td>\n",
              "      <td>Steamrollers</td>\n",
              "      <td>...</td>\n",
              "      <td>Baltimore</td>\n",
              "      <td>82</td>\n",
              "      <td>1433.5667</td>\n",
              "      <td>1437.2885</td>\n",
              "      <td>A</td>\n",
              "      <td>L</td>\n",
              "      <td>0.151443</td>\n",
              "      <td>NaN</td>\n",
              "      <td>1948-01-06</td>\n",
              "      <td>27777.0</td>\n",
              "    </tr>\n",
              "    <tr>\n",
              "      <th>15795</th>\n",
              "      <td>7898</td>\n",
              "      <td>196712130DET</td>\n",
              "      <td>NBA</td>\n",
              "      <td>1</td>\n",
              "      <td>1968</td>\n",
              "      <td>12/13/1967</td>\n",
              "      <td>31</td>\n",
              "      <td>0</td>\n",
              "      <td>NYK</td>\n",
              "      <td>Knicks</td>\n",
              "      <td>...</td>\n",
              "      <td>Pistons</td>\n",
              "      <td>129</td>\n",
              "      <td>1430.0306</td>\n",
              "      <td>1436.9717</td>\n",
              "      <td>A</td>\n",
              "      <td>L</td>\n",
              "      <td>0.327986</td>\n",
              "      <td>NaN</td>\n",
              "      <td>1967-12-13</td>\n",
              "      <td>20496.0</td>\n",
              "    </tr>\n",
              "    <tr>\n",
              "      <th>121958</th>\n",
              "      <td>60980</td>\n",
              "      <td>201312300DET</td>\n",
              "      <td>NBA</td>\n",
              "      <td>1</td>\n",
              "      <td>2014</td>\n",
              "      <td>12/30/2013</td>\n",
              "      <td>28</td>\n",
              "      <td>0</td>\n",
              "      <td>WAS</td>\n",
              "      <td>Wizards</td>\n",
              "      <td>...</td>\n",
              "      <td>Pistons</td>\n",
              "      <td>99</td>\n",
              "      <td>1427.9385</td>\n",
              "      <td>1418.0118</td>\n",
              "      <td>A</td>\n",
              "      <td>W</td>\n",
              "      <td>0.432347</td>\n",
              "      <td>NaN</td>\n",
              "      <td>2013-12-30</td>\n",
              "      <td>3677.0</td>\n",
              "    </tr>\n",
              "  </tbody>\n",
              "</table>\n",
              "<p>126314 rows × 25 columns</p>\n",
              "</div>"
            ],
            "text/plain": [
              "        gameorder       game_id lg_id  _iscopy  year_id   date_game  \\\n",
              "37090       18546  197702020NYN   NBA        0     1977    2/2/1977   \n",
              "7984         3993  195712030GSW   NBA        0     1958   12/3/1957   \n",
              "74114       37058  199412030SEA   NBA        0     1995   12/3/1994   \n",
              "94323       47162  200302180ORL   NBA        1     2003   2/18/2003   \n",
              "37000       18501  197701230WSB   NBA        0     1977   1/23/1977   \n",
              "...           ...           ...   ...      ...      ...         ...   \n",
              "119879      59940  201302060OKC   NBA        0     2013    2/6/2013   \n",
              "103694      51848  200612070NJN   NBA        1     2007   12/7/2006   \n",
              "860           431  194801060BLB   NBA        1     1948    1/6/1948   \n",
              "15795        7898  196712130DET   NBA        1     1968  12/13/1967   \n",
              "121958      60980  201312300DET   NBA        1     2014  12/30/2013   \n",
              "\n",
              "        seasongame  is_playoffs team_id       fran_id  ...   opp_fran  \\\n",
              "37090           48            0     NYN          Nets  ...    Celtics   \n",
              "7984            17            0     PHW      Warriors  ...     Sixers   \n",
              "74114           15            0     SEA       Thunder  ...      Bucks   \n",
              "94323           55            0     NOH      Pelicans  ...      Magic   \n",
              "37000           43            0     WSB       Wizards  ...    Pistons   \n",
              "...            ...          ...     ...           ...  ...        ...   \n",
              "119879          49            0     OKC       Thunder  ...   Warriors   \n",
              "103694          17            0     PHO          Suns  ...       Nets   \n",
              "860             21            0     PRO  Steamrollers  ...  Baltimore   \n",
              "15795           31            0     NYK        Knicks  ...    Pistons   \n",
              "121958          28            0     WAS       Wizards  ...    Pistons   \n",
              "\n",
              "        opp_pts  opp_elo_i  opp_elo_n game_location game_result  forecast  \\\n",
              "37090        89  1454.9109  1444.0807             H           W  0.483096   \n",
              "7984        119  1532.4493  1557.2676             H           L  0.634248   \n",
              "74114       108  1357.6219  1356.7598             H           W  0.899416   \n",
              "94323        99  1455.0071  1460.9988             A           L  0.439981   \n",
              "37000       108  1518.8035  1512.1829             H           W  0.669820   \n",
              "...         ...        ...        ...           ...         ...       ...   \n",
              "119879       98  1551.1230  1545.6824             H           W  0.807499   \n",
              "103694      157  1479.3242  1473.5780             A           W  0.536483   \n",
              "860          82  1433.5667  1437.2885             A           L  0.151443   \n",
              "15795       129  1430.0306  1436.9717             A           L  0.327986   \n",
              "121958       99  1427.9385  1418.0118             A           W  0.432347   \n",
              "\n",
              "                 notes  date_played DaysCPassed  \n",
              "37090              NaN   1977-02-02     17157.0  \n",
              "7984    at New York NY   1957-12-03     24158.0  \n",
              "74114              NaN   1994-12-03     10644.0  \n",
              "94323              NaN   2003-02-18      7645.0  \n",
              "37000              NaN   1977-01-23     17167.0  \n",
              "...                ...          ...         ...  \n",
              "119879             NaN   2013-02-06      4004.0  \n",
              "103694             NaN   2006-12-07      6257.0  \n",
              "860                NaN   1948-01-06     27777.0  \n",
              "15795              NaN   1967-12-13     20496.0  \n",
              "121958             NaN   2013-12-30      3677.0  \n",
              "\n",
              "[126314 rows x 25 columns]"
            ]
          },
          "execution_count": 80,
          "metadata": {},
          "output_type": "execute_result"
        }
      ],
      "source": [
        "#Shuffle the whole dataset first\n",
        "ds3 = nba.copy()\n",
        "ds3.sample(frac=1, random_state=42)"
      ]
    },
    {
      "cell_type": "code",
      "execution_count": 81,
      "metadata": {
        "id": "2_Cu8r8pek_m"
      },
      "outputs": [
        {
          "data": {
            "text/html": [
              "<div>\n",
              "<style scoped>\n",
              "    .dataframe tbody tr th:only-of-type {\n",
              "        vertical-align: middle;\n",
              "    }\n",
              "\n",
              "    .dataframe tbody tr th {\n",
              "        vertical-align: top;\n",
              "    }\n",
              "\n",
              "    .dataframe thead th {\n",
              "        text-align: right;\n",
              "    }\n",
              "</style>\n",
              "<table border=\"1\" class=\"dataframe\">\n",
              "  <thead>\n",
              "    <tr style=\"text-align: right;\">\n",
              "      <th></th>\n",
              "      <th>gameorder</th>\n",
              "      <th>game_id</th>\n",
              "      <th>lg_id</th>\n",
              "      <th>_iscopy</th>\n",
              "      <th>year_id</th>\n",
              "      <th>date_game</th>\n",
              "      <th>seasongame</th>\n",
              "      <th>is_playoffs</th>\n",
              "      <th>team_id</th>\n",
              "      <th>fran_id</th>\n",
              "      <th>...</th>\n",
              "      <th>opp_fran</th>\n",
              "      <th>opp_pts</th>\n",
              "      <th>opp_elo_i</th>\n",
              "      <th>opp_elo_n</th>\n",
              "      <th>game_location</th>\n",
              "      <th>game_result</th>\n",
              "      <th>forecast</th>\n",
              "      <th>notes</th>\n",
              "      <th>date_played</th>\n",
              "      <th>DaysCPassed</th>\n",
              "    </tr>\n",
              "  </thead>\n",
              "  <tbody>\n",
              "    <tr>\n",
              "      <th>0</th>\n",
              "      <td>1</td>\n",
              "      <td>194611010TRH</td>\n",
              "      <td>NBA</td>\n",
              "      <td>0</td>\n",
              "      <td>1947</td>\n",
              "      <td>11/1/1946</td>\n",
              "      <td>1</td>\n",
              "      <td>0</td>\n",
              "      <td>TRH</td>\n",
              "      <td>Huskies</td>\n",
              "      <td>...</td>\n",
              "      <td>Knicks</td>\n",
              "      <td>68</td>\n",
              "      <td>1300.0000</td>\n",
              "      <td>1306.7233</td>\n",
              "      <td>H</td>\n",
              "      <td>L</td>\n",
              "      <td>0.640065</td>\n",
              "      <td>NaN</td>\n",
              "      <td>1946-11-01</td>\n",
              "      <td>28208.0</td>\n",
              "    </tr>\n",
              "    <tr>\n",
              "      <th>1</th>\n",
              "      <td>1</td>\n",
              "      <td>194611010TRH</td>\n",
              "      <td>NBA</td>\n",
              "      <td>1</td>\n",
              "      <td>1947</td>\n",
              "      <td>11/1/1946</td>\n",
              "      <td>1</td>\n",
              "      <td>0</td>\n",
              "      <td>NYK</td>\n",
              "      <td>Knicks</td>\n",
              "      <td>...</td>\n",
              "      <td>Huskies</td>\n",
              "      <td>66</td>\n",
              "      <td>1300.0000</td>\n",
              "      <td>1293.2767</td>\n",
              "      <td>A</td>\n",
              "      <td>W</td>\n",
              "      <td>0.359935</td>\n",
              "      <td>NaN</td>\n",
              "      <td>1946-11-01</td>\n",
              "      <td>28208.0</td>\n",
              "    </tr>\n",
              "    <tr>\n",
              "      <th>2</th>\n",
              "      <td>2</td>\n",
              "      <td>194611020CHS</td>\n",
              "      <td>NBA</td>\n",
              "      <td>0</td>\n",
              "      <td>1947</td>\n",
              "      <td>11/2/1946</td>\n",
              "      <td>1</td>\n",
              "      <td>0</td>\n",
              "      <td>CHS</td>\n",
              "      <td>Stags</td>\n",
              "      <td>...</td>\n",
              "      <td>Knicks</td>\n",
              "      <td>47</td>\n",
              "      <td>1306.7233</td>\n",
              "      <td>1297.0712</td>\n",
              "      <td>H</td>\n",
              "      <td>W</td>\n",
              "      <td>0.631101</td>\n",
              "      <td>NaN</td>\n",
              "      <td>1946-11-02</td>\n",
              "      <td>28207.0</td>\n",
              "    </tr>\n",
              "    <tr>\n",
              "      <th>3</th>\n",
              "      <td>2</td>\n",
              "      <td>194611020CHS</td>\n",
              "      <td>NBA</td>\n",
              "      <td>1</td>\n",
              "      <td>1947</td>\n",
              "      <td>11/2/1946</td>\n",
              "      <td>2</td>\n",
              "      <td>0</td>\n",
              "      <td>NYK</td>\n",
              "      <td>Knicks</td>\n",
              "      <td>...</td>\n",
              "      <td>Stags</td>\n",
              "      <td>63</td>\n",
              "      <td>1300.0000</td>\n",
              "      <td>1309.6521</td>\n",
              "      <td>A</td>\n",
              "      <td>L</td>\n",
              "      <td>0.368899</td>\n",
              "      <td>NaN</td>\n",
              "      <td>1946-11-02</td>\n",
              "      <td>28207.0</td>\n",
              "    </tr>\n",
              "    <tr>\n",
              "      <th>4</th>\n",
              "      <td>3</td>\n",
              "      <td>194611020DTF</td>\n",
              "      <td>NBA</td>\n",
              "      <td>0</td>\n",
              "      <td>1947</td>\n",
              "      <td>11/2/1946</td>\n",
              "      <td>1</td>\n",
              "      <td>0</td>\n",
              "      <td>DTF</td>\n",
              "      <td>Falcons</td>\n",
              "      <td>...</td>\n",
              "      <td>Capitols</td>\n",
              "      <td>50</td>\n",
              "      <td>1300.0000</td>\n",
              "      <td>1320.3811</td>\n",
              "      <td>H</td>\n",
              "      <td>L</td>\n",
              "      <td>0.640065</td>\n",
              "      <td>NaN</td>\n",
              "      <td>1946-11-02</td>\n",
              "      <td>28207.0</td>\n",
              "    </tr>\n",
              "    <tr>\n",
              "      <th>...</th>\n",
              "      <td>...</td>\n",
              "      <td>...</td>\n",
              "      <td>...</td>\n",
              "      <td>...</td>\n",
              "      <td>...</td>\n",
              "      <td>...</td>\n",
              "      <td>...</td>\n",
              "      <td>...</td>\n",
              "      <td>...</td>\n",
              "      <td>...</td>\n",
              "      <td>...</td>\n",
              "      <td>...</td>\n",
              "      <td>...</td>\n",
              "      <td>...</td>\n",
              "      <td>...</td>\n",
              "      <td>...</td>\n",
              "      <td>...</td>\n",
              "      <td>...</td>\n",
              "      <td>...</td>\n",
              "      <td>...</td>\n",
              "      <td>...</td>\n",
              "    </tr>\n",
              "    <tr>\n",
              "      <th>126309</th>\n",
              "      <td>63155</td>\n",
              "      <td>201506110CLE</td>\n",
              "      <td>NBA</td>\n",
              "      <td>0</td>\n",
              "      <td>2015</td>\n",
              "      <td>6/11/2015</td>\n",
              "      <td>100</td>\n",
              "      <td>1</td>\n",
              "      <td>CLE</td>\n",
              "      <td>Cavaliers</td>\n",
              "      <td>...</td>\n",
              "      <td>Warriors</td>\n",
              "      <td>103</td>\n",
              "      <td>1790.9591</td>\n",
              "      <td>1809.9791</td>\n",
              "      <td>H</td>\n",
              "      <td>L</td>\n",
              "      <td>0.546572</td>\n",
              "      <td>NaN</td>\n",
              "      <td>2015-06-11</td>\n",
              "      <td>3149.0</td>\n",
              "    </tr>\n",
              "    <tr>\n",
              "      <th>126310</th>\n",
              "      <td>63156</td>\n",
              "      <td>201506140GSW</td>\n",
              "      <td>NBA</td>\n",
              "      <td>0</td>\n",
              "      <td>2015</td>\n",
              "      <td>6/14/2015</td>\n",
              "      <td>102</td>\n",
              "      <td>1</td>\n",
              "      <td>GSW</td>\n",
              "      <td>Warriors</td>\n",
              "      <td>...</td>\n",
              "      <td>Cavaliers</td>\n",
              "      <td>91</td>\n",
              "      <td>1704.3949</td>\n",
              "      <td>1700.7391</td>\n",
              "      <td>H</td>\n",
              "      <td>W</td>\n",
              "      <td>0.765565</td>\n",
              "      <td>NaN</td>\n",
              "      <td>2015-06-14</td>\n",
              "      <td>3146.0</td>\n",
              "    </tr>\n",
              "    <tr>\n",
              "      <th>126311</th>\n",
              "      <td>63156</td>\n",
              "      <td>201506140GSW</td>\n",
              "      <td>NBA</td>\n",
              "      <td>1</td>\n",
              "      <td>2015</td>\n",
              "      <td>6/14/2015</td>\n",
              "      <td>101</td>\n",
              "      <td>1</td>\n",
              "      <td>CLE</td>\n",
              "      <td>Cavaliers</td>\n",
              "      <td>...</td>\n",
              "      <td>Warriors</td>\n",
              "      <td>104</td>\n",
              "      <td>1809.9791</td>\n",
              "      <td>1813.6349</td>\n",
              "      <td>A</td>\n",
              "      <td>L</td>\n",
              "      <td>0.234435</td>\n",
              "      <td>NaN</td>\n",
              "      <td>2015-06-14</td>\n",
              "      <td>3146.0</td>\n",
              "    </tr>\n",
              "    <tr>\n",
              "      <th>126312</th>\n",
              "      <td>63157</td>\n",
              "      <td>201506170CLE</td>\n",
              "      <td>NBA</td>\n",
              "      <td>0</td>\n",
              "      <td>2015</td>\n",
              "      <td>6/16/2015</td>\n",
              "      <td>102</td>\n",
              "      <td>1</td>\n",
              "      <td>CLE</td>\n",
              "      <td>Cavaliers</td>\n",
              "      <td>...</td>\n",
              "      <td>Warriors</td>\n",
              "      <td>105</td>\n",
              "      <td>1813.6349</td>\n",
              "      <td>1822.2881</td>\n",
              "      <td>H</td>\n",
              "      <td>L</td>\n",
              "      <td>0.481450</td>\n",
              "      <td>NaN</td>\n",
              "      <td>2015-06-16</td>\n",
              "      <td>3144.0</td>\n",
              "    </tr>\n",
              "    <tr>\n",
              "      <th>126313</th>\n",
              "      <td>63157</td>\n",
              "      <td>201506170CLE</td>\n",
              "      <td>NBA</td>\n",
              "      <td>1</td>\n",
              "      <td>2015</td>\n",
              "      <td>6/16/2015</td>\n",
              "      <td>103</td>\n",
              "      <td>1</td>\n",
              "      <td>GSW</td>\n",
              "      <td>Warriors</td>\n",
              "      <td>...</td>\n",
              "      <td>Cavaliers</td>\n",
              "      <td>97</td>\n",
              "      <td>1700.7391</td>\n",
              "      <td>1692.0859</td>\n",
              "      <td>A</td>\n",
              "      <td>W</td>\n",
              "      <td>0.518550</td>\n",
              "      <td>NaN</td>\n",
              "      <td>2015-06-16</td>\n",
              "      <td>3144.0</td>\n",
              "    </tr>\n",
              "  </tbody>\n",
              "</table>\n",
              "<p>126314 rows × 25 columns</p>\n",
              "</div>"
            ],
            "text/plain": [
              "        gameorder       game_id lg_id  _iscopy  year_id  date_game  \\\n",
              "0               1  194611010TRH   NBA        0     1947  11/1/1946   \n",
              "1               1  194611010TRH   NBA        1     1947  11/1/1946   \n",
              "2               2  194611020CHS   NBA        0     1947  11/2/1946   \n",
              "3               2  194611020CHS   NBA        1     1947  11/2/1946   \n",
              "4               3  194611020DTF   NBA        0     1947  11/2/1946   \n",
              "...           ...           ...   ...      ...      ...        ...   \n",
              "126309      63155  201506110CLE   NBA        0     2015  6/11/2015   \n",
              "126310      63156  201506140GSW   NBA        0     2015  6/14/2015   \n",
              "126311      63156  201506140GSW   NBA        1     2015  6/14/2015   \n",
              "126312      63157  201506170CLE   NBA        0     2015  6/16/2015   \n",
              "126313      63157  201506170CLE   NBA        1     2015  6/16/2015   \n",
              "\n",
              "        seasongame  is_playoffs team_id    fran_id  ...   opp_fran  opp_pts  \\\n",
              "0                1            0     TRH    Huskies  ...     Knicks       68   \n",
              "1                1            0     NYK     Knicks  ...    Huskies       66   \n",
              "2                1            0     CHS      Stags  ...     Knicks       47   \n",
              "3                2            0     NYK     Knicks  ...      Stags       63   \n",
              "4                1            0     DTF    Falcons  ...   Capitols       50   \n",
              "...            ...          ...     ...        ...  ...        ...      ...   \n",
              "126309         100            1     CLE  Cavaliers  ...   Warriors      103   \n",
              "126310         102            1     GSW   Warriors  ...  Cavaliers       91   \n",
              "126311         101            1     CLE  Cavaliers  ...   Warriors      104   \n",
              "126312         102            1     CLE  Cavaliers  ...   Warriors      105   \n",
              "126313         103            1     GSW   Warriors  ...  Cavaliers       97   \n",
              "\n",
              "        opp_elo_i  opp_elo_n game_location game_result  forecast  notes  \\\n",
              "0       1300.0000  1306.7233             H           L  0.640065    NaN   \n",
              "1       1300.0000  1293.2767             A           W  0.359935    NaN   \n",
              "2       1306.7233  1297.0712             H           W  0.631101    NaN   \n",
              "3       1300.0000  1309.6521             A           L  0.368899    NaN   \n",
              "4       1300.0000  1320.3811             H           L  0.640065    NaN   \n",
              "...           ...        ...           ...         ...       ...    ...   \n",
              "126309  1790.9591  1809.9791             H           L  0.546572    NaN   \n",
              "126310  1704.3949  1700.7391             H           W  0.765565    NaN   \n",
              "126311  1809.9791  1813.6349             A           L  0.234435    NaN   \n",
              "126312  1813.6349  1822.2881             H           L  0.481450    NaN   \n",
              "126313  1700.7391  1692.0859             A           W  0.518550    NaN   \n",
              "\n",
              "        date_played DaysCPassed  \n",
              "0        1946-11-01     28208.0  \n",
              "1        1946-11-01     28208.0  \n",
              "2        1946-11-02     28207.0  \n",
              "3        1946-11-02     28207.0  \n",
              "4        1946-11-02     28207.0  \n",
              "...             ...         ...  \n",
              "126309   2015-06-11      3149.0  \n",
              "126310   2015-06-14      3146.0  \n",
              "126311   2015-06-14      3146.0  \n",
              "126312   2015-06-16      3144.0  \n",
              "126313   2015-06-16      3144.0  \n",
              "\n",
              "[126314 rows x 25 columns]"
            ]
          },
          "execution_count": 81,
          "metadata": {},
          "output_type": "execute_result"
        }
      ],
      "source": [
        "ds3"
      ]
    },
    {
      "cell_type": "markdown",
      "metadata": {
        "id": "W2_PnY1unfuz"
      },
      "source": [
        "Split in two dataframes"
      ]
    },
    {
      "cell_type": "code",
      "execution_count": 82,
      "metadata": {
        "colab": {
          "base_uri": "https://localhost:8080/",
          "height": 496
        },
        "id": "6P72JpEvek5E",
        "outputId": "54cea36a-a708-44c1-c823-1717819eac92"
      },
      "outputs": [
        {
          "name": "stdout",
          "output_type": "stream",
          "text": [
            "First:\n",
            "----------------------------------------------------------------------------------------------------\n",
            "Second:\n"
          ]
        },
        {
          "data": {
            "text/html": [
              "<div>\n",
              "<style scoped>\n",
              "    .dataframe tbody tr th:only-of-type {\n",
              "        vertical-align: middle;\n",
              "    }\n",
              "\n",
              "    .dataframe tbody tr th {\n",
              "        vertical-align: top;\n",
              "    }\n",
              "\n",
              "    .dataframe thead th {\n",
              "        text-align: right;\n",
              "    }\n",
              "</style>\n",
              "<table border=\"1\" class=\"dataframe\">\n",
              "  <thead>\n",
              "    <tr style=\"text-align: right;\">\n",
              "      <th></th>\n",
              "      <th>gameorder</th>\n",
              "      <th>game_id</th>\n",
              "      <th>lg_id</th>\n",
              "      <th>_iscopy</th>\n",
              "      <th>year_id</th>\n",
              "      <th>date_game</th>\n",
              "      <th>seasongame</th>\n",
              "      <th>is_playoffs</th>\n",
              "      <th>team_id</th>\n",
              "      <th>fran_id</th>\n",
              "      <th>...</th>\n",
              "      <th>opp_fran</th>\n",
              "      <th>opp_pts</th>\n",
              "      <th>opp_elo_i</th>\n",
              "      <th>opp_elo_n</th>\n",
              "      <th>game_location</th>\n",
              "      <th>game_result</th>\n",
              "      <th>forecast</th>\n",
              "      <th>notes</th>\n",
              "      <th>date_played</th>\n",
              "      <th>DaysCPassed</th>\n",
              "    </tr>\n",
              "  </thead>\n",
              "  <tbody>\n",
              "    <tr>\n",
              "      <th>63157</th>\n",
              "      <td>31579</td>\n",
              "      <td>199002060SAS</td>\n",
              "      <td>NBA</td>\n",
              "      <td>0</td>\n",
              "      <td>1990</td>\n",
              "      <td>2/6/1990</td>\n",
              "      <td>45</td>\n",
              "      <td>0</td>\n",
              "      <td>SAS</td>\n",
              "      <td>Spurs</td>\n",
              "      <td>...</td>\n",
              "      <td>Hawks</td>\n",
              "      <td>94</td>\n",
              "      <td>1477.7819</td>\n",
              "      <td>1471.8431</td>\n",
              "      <td>H</td>\n",
              "      <td>W</td>\n",
              "      <td>0.698796</td>\n",
              "      <td>NaN</td>\n",
              "      <td>1990-02-06</td>\n",
              "      <td>12405.0</td>\n",
              "    </tr>\n",
              "    <tr>\n",
              "      <th>63158</th>\n",
              "      <td>31580</td>\n",
              "      <td>199002070BOS</td>\n",
              "      <td>NBA</td>\n",
              "      <td>1</td>\n",
              "      <td>1990</td>\n",
              "      <td>2/7/1990</td>\n",
              "      <td>44</td>\n",
              "      <td>0</td>\n",
              "      <td>CHH</td>\n",
              "      <td>Pelicans</td>\n",
              "      <td>...</td>\n",
              "      <td>Celtics</td>\n",
              "      <td>146</td>\n",
              "      <td>1526.7374</td>\n",
              "      <td>1529.3101</td>\n",
              "      <td>A</td>\n",
              "      <td>L</td>\n",
              "      <td>0.099172</td>\n",
              "      <td>NaN</td>\n",
              "      <td>1990-02-07</td>\n",
              "      <td>12404.0</td>\n",
              "    </tr>\n",
              "    <tr>\n",
              "      <th>63159</th>\n",
              "      <td>31580</td>\n",
              "      <td>199002070BOS</td>\n",
              "      <td>NBA</td>\n",
              "      <td>0</td>\n",
              "      <td>1990</td>\n",
              "      <td>2/7/1990</td>\n",
              "      <td>46</td>\n",
              "      <td>0</td>\n",
              "      <td>BOS</td>\n",
              "      <td>Celtics</td>\n",
              "      <td>...</td>\n",
              "      <td>Pelicans</td>\n",
              "      <td>125</td>\n",
              "      <td>1243.4368</td>\n",
              "      <td>1240.8641</td>\n",
              "      <td>H</td>\n",
              "      <td>W</td>\n",
              "      <td>0.900828</td>\n",
              "      <td>NaN</td>\n",
              "      <td>1990-02-07</td>\n",
              "      <td>12404.0</td>\n",
              "    </tr>\n",
              "    <tr>\n",
              "      <th>63160</th>\n",
              "      <td>31581</td>\n",
              "      <td>199002070LAL</td>\n",
              "      <td>NBA</td>\n",
              "      <td>1</td>\n",
              "      <td>1990</td>\n",
              "      <td>2/7/1990</td>\n",
              "      <td>46</td>\n",
              "      <td>0</td>\n",
              "      <td>CHI</td>\n",
              "      <td>Bulls</td>\n",
              "      <td>...</td>\n",
              "      <td>Lakers</td>\n",
              "      <td>121</td>\n",
              "      <td>1673.3429</td>\n",
              "      <td>1679.2725</td>\n",
              "      <td>A</td>\n",
              "      <td>L</td>\n",
              "      <td>0.227701</td>\n",
              "      <td>NaN</td>\n",
              "      <td>1990-02-07</td>\n",
              "      <td>12404.0</td>\n",
              "    </tr>\n",
              "    <tr>\n",
              "      <th>63161</th>\n",
              "      <td>31581</td>\n",
              "      <td>199002070LAL</td>\n",
              "      <td>NBA</td>\n",
              "      <td>0</td>\n",
              "      <td>1990</td>\n",
              "      <td>2/7/1990</td>\n",
              "      <td>46</td>\n",
              "      <td>0</td>\n",
              "      <td>LAL</td>\n",
              "      <td>Lakers</td>\n",
              "      <td>...</td>\n",
              "      <td>Bulls</td>\n",
              "      <td>103</td>\n",
              "      <td>1561.1747</td>\n",
              "      <td>1555.2451</td>\n",
              "      <td>H</td>\n",
              "      <td>W</td>\n",
              "      <td>0.772299</td>\n",
              "      <td>NaN</td>\n",
              "      <td>1990-02-07</td>\n",
              "      <td>12404.0</td>\n",
              "    </tr>\n",
              "    <tr>\n",
              "      <th>...</th>\n",
              "      <td>...</td>\n",
              "      <td>...</td>\n",
              "      <td>...</td>\n",
              "      <td>...</td>\n",
              "      <td>...</td>\n",
              "      <td>...</td>\n",
              "      <td>...</td>\n",
              "      <td>...</td>\n",
              "      <td>...</td>\n",
              "      <td>...</td>\n",
              "      <td>...</td>\n",
              "      <td>...</td>\n",
              "      <td>...</td>\n",
              "      <td>...</td>\n",
              "      <td>...</td>\n",
              "      <td>...</td>\n",
              "      <td>...</td>\n",
              "      <td>...</td>\n",
              "      <td>...</td>\n",
              "      <td>...</td>\n",
              "      <td>...</td>\n",
              "    </tr>\n",
              "    <tr>\n",
              "      <th>126309</th>\n",
              "      <td>63155</td>\n",
              "      <td>201506110CLE</td>\n",
              "      <td>NBA</td>\n",
              "      <td>0</td>\n",
              "      <td>2015</td>\n",
              "      <td>6/11/2015</td>\n",
              "      <td>100</td>\n",
              "      <td>1</td>\n",
              "      <td>CLE</td>\n",
              "      <td>Cavaliers</td>\n",
              "      <td>...</td>\n",
              "      <td>Warriors</td>\n",
              "      <td>103</td>\n",
              "      <td>1790.9591</td>\n",
              "      <td>1809.9791</td>\n",
              "      <td>H</td>\n",
              "      <td>L</td>\n",
              "      <td>0.546572</td>\n",
              "      <td>NaN</td>\n",
              "      <td>2015-06-11</td>\n",
              "      <td>3149.0</td>\n",
              "    </tr>\n",
              "    <tr>\n",
              "      <th>126310</th>\n",
              "      <td>63156</td>\n",
              "      <td>201506140GSW</td>\n",
              "      <td>NBA</td>\n",
              "      <td>0</td>\n",
              "      <td>2015</td>\n",
              "      <td>6/14/2015</td>\n",
              "      <td>102</td>\n",
              "      <td>1</td>\n",
              "      <td>GSW</td>\n",
              "      <td>Warriors</td>\n",
              "      <td>...</td>\n",
              "      <td>Cavaliers</td>\n",
              "      <td>91</td>\n",
              "      <td>1704.3949</td>\n",
              "      <td>1700.7391</td>\n",
              "      <td>H</td>\n",
              "      <td>W</td>\n",
              "      <td>0.765565</td>\n",
              "      <td>NaN</td>\n",
              "      <td>2015-06-14</td>\n",
              "      <td>3146.0</td>\n",
              "    </tr>\n",
              "    <tr>\n",
              "      <th>126311</th>\n",
              "      <td>63156</td>\n",
              "      <td>201506140GSW</td>\n",
              "      <td>NBA</td>\n",
              "      <td>1</td>\n",
              "      <td>2015</td>\n",
              "      <td>6/14/2015</td>\n",
              "      <td>101</td>\n",
              "      <td>1</td>\n",
              "      <td>CLE</td>\n",
              "      <td>Cavaliers</td>\n",
              "      <td>...</td>\n",
              "      <td>Warriors</td>\n",
              "      <td>104</td>\n",
              "      <td>1809.9791</td>\n",
              "      <td>1813.6349</td>\n",
              "      <td>A</td>\n",
              "      <td>L</td>\n",
              "      <td>0.234435</td>\n",
              "      <td>NaN</td>\n",
              "      <td>2015-06-14</td>\n",
              "      <td>3146.0</td>\n",
              "    </tr>\n",
              "    <tr>\n",
              "      <th>126312</th>\n",
              "      <td>63157</td>\n",
              "      <td>201506170CLE</td>\n",
              "      <td>NBA</td>\n",
              "      <td>0</td>\n",
              "      <td>2015</td>\n",
              "      <td>6/16/2015</td>\n",
              "      <td>102</td>\n",
              "      <td>1</td>\n",
              "      <td>CLE</td>\n",
              "      <td>Cavaliers</td>\n",
              "      <td>...</td>\n",
              "      <td>Warriors</td>\n",
              "      <td>105</td>\n",
              "      <td>1813.6349</td>\n",
              "      <td>1822.2881</td>\n",
              "      <td>H</td>\n",
              "      <td>L</td>\n",
              "      <td>0.481450</td>\n",
              "      <td>NaN</td>\n",
              "      <td>2015-06-16</td>\n",
              "      <td>3144.0</td>\n",
              "    </tr>\n",
              "    <tr>\n",
              "      <th>126313</th>\n",
              "      <td>63157</td>\n",
              "      <td>201506170CLE</td>\n",
              "      <td>NBA</td>\n",
              "      <td>1</td>\n",
              "      <td>2015</td>\n",
              "      <td>6/16/2015</td>\n",
              "      <td>103</td>\n",
              "      <td>1</td>\n",
              "      <td>GSW</td>\n",
              "      <td>Warriors</td>\n",
              "      <td>...</td>\n",
              "      <td>Cavaliers</td>\n",
              "      <td>97</td>\n",
              "      <td>1700.7391</td>\n",
              "      <td>1692.0859</td>\n",
              "      <td>A</td>\n",
              "      <td>W</td>\n",
              "      <td>0.518550</td>\n",
              "      <td>NaN</td>\n",
              "      <td>2015-06-16</td>\n",
              "      <td>3144.0</td>\n",
              "    </tr>\n",
              "  </tbody>\n",
              "</table>\n",
              "<p>63157 rows × 25 columns</p>\n",
              "</div>"
            ],
            "text/plain": [
              "        gameorder       game_id lg_id  _iscopy  year_id  date_game  \\\n",
              "63157       31579  199002060SAS   NBA        0     1990   2/6/1990   \n",
              "63158       31580  199002070BOS   NBA        1     1990   2/7/1990   \n",
              "63159       31580  199002070BOS   NBA        0     1990   2/7/1990   \n",
              "63160       31581  199002070LAL   NBA        1     1990   2/7/1990   \n",
              "63161       31581  199002070LAL   NBA        0     1990   2/7/1990   \n",
              "...           ...           ...   ...      ...      ...        ...   \n",
              "126309      63155  201506110CLE   NBA        0     2015  6/11/2015   \n",
              "126310      63156  201506140GSW   NBA        0     2015  6/14/2015   \n",
              "126311      63156  201506140GSW   NBA        1     2015  6/14/2015   \n",
              "126312      63157  201506170CLE   NBA        0     2015  6/16/2015   \n",
              "126313      63157  201506170CLE   NBA        1     2015  6/16/2015   \n",
              "\n",
              "        seasongame  is_playoffs team_id    fran_id  ...   opp_fran  opp_pts  \\\n",
              "63157           45            0     SAS      Spurs  ...      Hawks       94   \n",
              "63158           44            0     CHH   Pelicans  ...    Celtics      146   \n",
              "63159           46            0     BOS    Celtics  ...   Pelicans      125   \n",
              "63160           46            0     CHI      Bulls  ...     Lakers      121   \n",
              "63161           46            0     LAL     Lakers  ...      Bulls      103   \n",
              "...            ...          ...     ...        ...  ...        ...      ...   \n",
              "126309         100            1     CLE  Cavaliers  ...   Warriors      103   \n",
              "126310         102            1     GSW   Warriors  ...  Cavaliers       91   \n",
              "126311         101            1     CLE  Cavaliers  ...   Warriors      104   \n",
              "126312         102            1     CLE  Cavaliers  ...   Warriors      105   \n",
              "126313         103            1     GSW   Warriors  ...  Cavaliers       97   \n",
              "\n",
              "        opp_elo_i  opp_elo_n game_location game_result  forecast  notes  \\\n",
              "63157   1477.7819  1471.8431             H           W  0.698796    NaN   \n",
              "63158   1526.7374  1529.3101             A           L  0.099172    NaN   \n",
              "63159   1243.4368  1240.8641             H           W  0.900828    NaN   \n",
              "63160   1673.3429  1679.2725             A           L  0.227701    NaN   \n",
              "63161   1561.1747  1555.2451             H           W  0.772299    NaN   \n",
              "...           ...        ...           ...         ...       ...    ...   \n",
              "126309  1790.9591  1809.9791             H           L  0.546572    NaN   \n",
              "126310  1704.3949  1700.7391             H           W  0.765565    NaN   \n",
              "126311  1809.9791  1813.6349             A           L  0.234435    NaN   \n",
              "126312  1813.6349  1822.2881             H           L  0.481450    NaN   \n",
              "126313  1700.7391  1692.0859             A           W  0.518550    NaN   \n",
              "\n",
              "        date_played DaysCPassed  \n",
              "63157    1990-02-06     12405.0  \n",
              "63158    1990-02-07     12404.0  \n",
              "63159    1990-02-07     12404.0  \n",
              "63160    1990-02-07     12404.0  \n",
              "63161    1990-02-07     12404.0  \n",
              "...             ...         ...  \n",
              "126309   2015-06-11      3149.0  \n",
              "126310   2015-06-14      3146.0  \n",
              "126311   2015-06-14      3146.0  \n",
              "126312   2015-06-16      3144.0  \n",
              "126313   2015-06-16      3144.0  \n",
              "\n",
              "[63157 rows x 25 columns]"
            ]
          },
          "execution_count": 82,
          "metadata": {},
          "output_type": "execute_result"
        }
      ],
      "source": [
        "\n",
        "list_of_dataframes = np.array_split(ds3, 2)\n",
        "print(\"First:\")\n",
        "list_of_dataframes[0]\n",
        "print('-'*100)\n",
        "print(\"Second:\")\n",
        "list_of_dataframes[1]"
      ]
    },
    {
      "cell_type": "code",
      "execution_count": 83,
      "metadata": {
        "colab": {
          "base_uri": "https://localhost:8080/"
        },
        "id": "gpoOK0ppZAl7",
        "outputId": "32381a45-c39e-4d2f-dec1-5f452e3db35d"
      },
      "outputs": [
        {
          "name": "stdout",
          "output_type": "stream",
          "text": [
            "     gameorder       game_id lg_id  _iscopy  year_id  date_game  seasongame  \\\n",
            "0            1  194611010TRH   NBA        0     1947  11/1/1946           1   \n",
            "1            1  194611010TRH   NBA        1     1947  11/1/1946           1   \n",
            "2            2  194611020CHS   NBA        0     1947  11/2/1946           1   \n",
            "3            2  194611020CHS   NBA        1     1947  11/2/1946           2   \n",
            "4            3  194611020DTF   NBA        0     1947  11/2/1946           1   \n",
            "..         ...           ...   ...      ...      ...        ...         ...   \n",
            "995        498  194802190GSW   NBA        1     1948  2/19/1948          36   \n",
            "996        499  194802190STB   NBA        1     1948  2/19/1948          39   \n",
            "997        499  194802190STB   NBA        0     1948  2/19/1948          36   \n",
            "998        500  194802210PRO   NBA        1     1948  2/21/1948          35   \n",
            "999        500  194802210PRO   NBA        0     1948  2/21/1948          40   \n",
            "\n",
            "     is_playoffs team_id       fran_id  ...      opp_fran  opp_pts  opp_elo_i  \\\n",
            "0              0     TRH       Huskies  ...        Knicks       68  1300.0000   \n",
            "1              0     NYK        Knicks  ...       Huskies       66  1300.0000   \n",
            "2              0     CHS         Stags  ...        Knicks       47  1306.7233   \n",
            "3              0     NYK        Knicks  ...         Stags       63  1300.0000   \n",
            "4              0     DTF       Falcons  ...      Capitols       50  1300.0000   \n",
            "..           ...     ...           ...  ...           ...      ...        ...   \n",
            "995            0     WSC      Capitols  ...      Warriors       84  1395.3289   \n",
            "996            0     PRO  Steamrollers  ...       Bombers       78  1443.3657   \n",
            "997            0     STB       Bombers  ...  Steamrollers       69  1219.4104   \n",
            "998            0     CHS         Stags  ...  Steamrollers       73  1217.3364   \n",
            "999            0     PRO  Steamrollers  ...         Stags       92  1446.4221   \n",
            "\n",
            "     opp_elo_n game_location game_result  forecast  notes  date_played  \\\n",
            "0    1306.7233             H           L  0.640065    NaN   1946-11-01   \n",
            "1    1293.2767             A           W  0.359935    NaN   1946-11-01   \n",
            "2    1297.0712             H           W  0.631101    NaN   1946-11-02   \n",
            "3    1309.6521             A           L  0.368899    NaN   1946-11-02   \n",
            "4    1320.3811             H           L  0.640065    NaN   1946-11-02   \n",
            "..         ...           ...         ...       ...    ...          ...   \n",
            "995  1404.0222             A           L  0.483214    NaN   1948-02-19   \n",
            "996  1445.4397             A           L  0.134140    NaN   1948-02-19   \n",
            "997  1217.3364             H           W  0.865860    NaN   1948-02-19   \n",
            "998  1208.0995             A           W  0.677668    NaN   1948-02-21   \n",
            "999  1455.6591             H           L  0.322332    NaN   1948-02-21   \n",
            "\n",
            "    DaysCPassed  \n",
            "0       28208.0  \n",
            "1       28208.0  \n",
            "2       28207.0  \n",
            "3       28207.0  \n",
            "4       28207.0  \n",
            "..          ...  \n",
            "995     27733.0  \n",
            "996     27733.0  \n",
            "997     27733.0  \n",
            "998     27731.0  \n",
            "999     27731.0  \n",
            "\n",
            "[1000 rows x 25 columns]\n",
            "---------------------------\n",
            "        gameorder       game_id lg_id  _iscopy  year_id  date_game  \\\n",
            "1000          501  194802210WSC   NBA        0     1948  2/21/1948   \n",
            "1001          501  194802210WSC   NBA        1     1948  2/21/1948   \n",
            "1002          502  194802220BOS   NBA        1     1948  2/22/1948   \n",
            "1003          502  194802220BOS   NBA        0     1948  2/22/1948   \n",
            "1004          503  194802220STB   NBA        1     1948  2/22/1948   \n",
            "...           ...           ...   ...      ...      ...        ...   \n",
            "126309      63155  201506110CLE   NBA        0     2015  6/11/2015   \n",
            "126310      63156  201506140GSW   NBA        0     2015  6/14/2015   \n",
            "126311      63156  201506140GSW   NBA        1     2015  6/14/2015   \n",
            "126312      63157  201506170CLE   NBA        0     2015  6/16/2015   \n",
            "126313      63157  201506170CLE   NBA        1     2015  6/16/2015   \n",
            "\n",
            "        seasongame  is_playoffs team_id    fran_id  ...   opp_fran  opp_pts  \\\n",
            "1000            37            0     WSC   Capitols  ...  Baltimore       72   \n",
            "1001            38            0     BLB  Baltimore  ...   Capitols       85   \n",
            "1002            36            0     CHS      Stags  ...    Celtics       77   \n",
            "1003            39            0     BOS    Celtics  ...      Stags       97   \n",
            "1004            41            0     NYK     Knicks  ...    Bombers       80   \n",
            "...            ...          ...     ...        ...  ...        ...      ...   \n",
            "126309         100            1     CLE  Cavaliers  ...   Warriors      103   \n",
            "126310         102            1     GSW   Warriors  ...  Cavaliers       91   \n",
            "126311         101            1     CLE  Cavaliers  ...   Warriors      104   \n",
            "126312         102            1     CLE  Cavaliers  ...   Warriors      105   \n",
            "126313         103            1     GSW   Warriors  ...  Cavaliers       97   \n",
            "\n",
            "        opp_elo_i  opp_elo_n game_location game_result  forecast  notes  \\\n",
            "1000    1458.3218  1450.7421             H           W  0.661831    NaN   \n",
            "1001    1474.9669  1482.5466             A           L  0.338169    NaN   \n",
            "1002    1268.3983  1256.8536             A           W  0.623003    NaN   \n",
            "1003    1455.6591  1467.2037             H           L  0.376997    NaN   \n",
            "1004    1445.4397  1452.3027             A           L  0.377121    NaN   \n",
            "...           ...        ...           ...         ...       ...    ...   \n",
            "126309  1790.9591  1809.9791             H           L  0.546572    NaN   \n",
            "126310  1704.3949  1700.7391             H           W  0.765565    NaN   \n",
            "126311  1809.9791  1813.6349             A           L  0.234435    NaN   \n",
            "126312  1813.6349  1822.2881             H           L  0.481450    NaN   \n",
            "126313  1700.7391  1692.0859             A           W  0.518550    NaN   \n",
            "\n",
            "        date_played DaysCPassed  \n",
            "1000     1948-02-21     27731.0  \n",
            "1001     1948-02-21     27731.0  \n",
            "1002     1948-02-22     27730.0  \n",
            "1003     1948-02-22     27730.0  \n",
            "1004     1948-02-22     27730.0  \n",
            "...             ...         ...  \n",
            "126309   2015-06-11      3149.0  \n",
            "126310   2015-06-14      3146.0  \n",
            "126311   2015-06-14      3146.0  \n",
            "126312   2015-06-16      3144.0  \n",
            "126313   2015-06-16      3144.0  \n",
            "\n",
            "[125314 rows x 25 columns]\n"
          ]
        }
      ],
      "source": [
        "# spliting dataframe by row index\n",
        "# last 1000 rows\n",
        "df1 = nba.iloc[:1000,:]\n",
        "# first 1000 rows\n",
        "df2 = nba.iloc[1000:,:]\n",
        "print(df1)\n",
        "print(\"---------------------------\")\n",
        "print(df2)"
      ]
    },
    {
      "cell_type": "code",
      "execution_count": 88,
      "metadata": {
        "id": "FE2dNH3lZKLA"
      },
      "outputs": [
        {
          "data": {
            "text/html": [
              "<div>\n",
              "<style scoped>\n",
              "    .dataframe tbody tr th:only-of-type {\n",
              "        vertical-align: middle;\n",
              "    }\n",
              "\n",
              "    .dataframe tbody tr th {\n",
              "        vertical-align: top;\n",
              "    }\n",
              "\n",
              "    .dataframe thead th {\n",
              "        text-align: right;\n",
              "    }\n",
              "</style>\n",
              "<table border=\"1\" class=\"dataframe\">\n",
              "  <thead>\n",
              "    <tr style=\"text-align: right;\">\n",
              "      <th></th>\n",
              "      <th>gameorder</th>\n",
              "      <th>game_id</th>\n",
              "      <th>lg_id</th>\n",
              "    </tr>\n",
              "  </thead>\n",
              "  <tbody>\n",
              "    <tr>\n",
              "      <th>0</th>\n",
              "      <td>1</td>\n",
              "      <td>194611010TRH</td>\n",
              "      <td>NBA</td>\n",
              "    </tr>\n",
              "    <tr>\n",
              "      <th>1</th>\n",
              "      <td>1</td>\n",
              "      <td>194611010TRH</td>\n",
              "      <td>NBA</td>\n",
              "    </tr>\n",
              "    <tr>\n",
              "      <th>2</th>\n",
              "      <td>2</td>\n",
              "      <td>194611020CHS</td>\n",
              "      <td>NBA</td>\n",
              "    </tr>\n",
              "    <tr>\n",
              "      <th>3</th>\n",
              "      <td>2</td>\n",
              "      <td>194611020CHS</td>\n",
              "      <td>NBA</td>\n",
              "    </tr>\n",
              "    <tr>\n",
              "      <th>4</th>\n",
              "      <td>3</td>\n",
              "      <td>194611020DTF</td>\n",
              "      <td>NBA</td>\n",
              "    </tr>\n",
              "    <tr>\n",
              "      <th>...</th>\n",
              "      <td>...</td>\n",
              "      <td>...</td>\n",
              "      <td>...</td>\n",
              "    </tr>\n",
              "    <tr>\n",
              "      <th>126309</th>\n",
              "      <td>63155</td>\n",
              "      <td>201506110CLE</td>\n",
              "      <td>NBA</td>\n",
              "    </tr>\n",
              "    <tr>\n",
              "      <th>126310</th>\n",
              "      <td>63156</td>\n",
              "      <td>201506140GSW</td>\n",
              "      <td>NBA</td>\n",
              "    </tr>\n",
              "    <tr>\n",
              "      <th>126311</th>\n",
              "      <td>63156</td>\n",
              "      <td>201506140GSW</td>\n",
              "      <td>NBA</td>\n",
              "    </tr>\n",
              "    <tr>\n",
              "      <th>126312</th>\n",
              "      <td>63157</td>\n",
              "      <td>201506170CLE</td>\n",
              "      <td>NBA</td>\n",
              "    </tr>\n",
              "    <tr>\n",
              "      <th>126313</th>\n",
              "      <td>63157</td>\n",
              "      <td>201506170CLE</td>\n",
              "      <td>NBA</td>\n",
              "    </tr>\n",
              "  </tbody>\n",
              "</table>\n",
              "<p>126314 rows × 3 columns</p>\n",
              "</div>"
            ],
            "text/plain": [
              "        gameorder       game_id lg_id\n",
              "0               1  194611010TRH   NBA\n",
              "1               1  194611010TRH   NBA\n",
              "2               2  194611020CHS   NBA\n",
              "3               2  194611020CHS   NBA\n",
              "4               3  194611020DTF   NBA\n",
              "...           ...           ...   ...\n",
              "126309      63155  201506110CLE   NBA\n",
              "126310      63156  201506140GSW   NBA\n",
              "126311      63156  201506140GSW   NBA\n",
              "126312      63157  201506170CLE   NBA\n",
              "126313      63157  201506170CLE   NBA\n",
              "\n",
              "[126314 rows x 3 columns]"
            ]
          },
          "execution_count": 88,
          "metadata": {},
          "output_type": "execute_result"
        }
      ],
      "source": [
        "df1"
      ]
    },
    {
      "cell_type": "markdown",
      "metadata": {
        "id": "dwWn_8DPi1WL"
      },
      "source": [
        "*Spliting by Columns (Features)*"
      ]
    },
    {
      "cell_type": "code",
      "execution_count": 89,
      "metadata": {
        "colab": {
          "base_uri": "https://localhost:8080/"
        },
        "id": "mrPAG9dyi7xr",
        "outputId": "33ed463d-feea-4e6f-8695-8fd0b32602d0"
      },
      "outputs": [
        {
          "name": "stdout",
          "output_type": "stream",
          "text": [
            "        gameorder       game_id lg_id\n",
            "0               1  194611010TRH   NBA\n",
            "1               1  194611010TRH   NBA\n",
            "2               2  194611020CHS   NBA\n",
            "3               2  194611020CHS   NBA\n",
            "4               3  194611020DTF   NBA\n",
            "...           ...           ...   ...\n",
            "126309      63155  201506110CLE   NBA\n",
            "126310      63156  201506140GSW   NBA\n",
            "126311      63156  201506140GSW   NBA\n",
            "126312      63157  201506170CLE   NBA\n",
            "126313      63157  201506170CLE   NBA\n",
            "\n",
            "[126314 rows x 3 columns]\n",
            "---------------------------\n",
            "        _iscopy  year_id  date_game  seasongame  is_playoffs team_id  \\\n",
            "0             0     1947  11/1/1946           1            0     TRH   \n",
            "1             1     1947  11/1/1946           1            0     NYK   \n",
            "2             0     1947  11/2/1946           1            0     CHS   \n",
            "3             1     1947  11/2/1946           2            0     NYK   \n",
            "4             0     1947  11/2/1946           1            0     DTF   \n",
            "...         ...      ...        ...         ...          ...     ...   \n",
            "126309        0     2015  6/11/2015         100            1     CLE   \n",
            "126310        0     2015  6/14/2015         102            1     GSW   \n",
            "126311        1     2015  6/14/2015         101            1     CLE   \n",
            "126312        0     2015  6/16/2015         102            1     CLE   \n",
            "126313        1     2015  6/16/2015         103            1     GSW   \n",
            "\n",
            "          fran_id  pts      elo_i      elo_n  ...   opp_fran opp_pts  \\\n",
            "0         Huskies   66  1300.0000  1293.2767  ...     Knicks      68   \n",
            "1          Knicks   68  1300.0000  1306.7233  ...    Huskies      66   \n",
            "2           Stags   63  1300.0000  1309.6521  ...     Knicks      47   \n",
            "3          Knicks   47  1306.7233  1297.0712  ...      Stags      63   \n",
            "4         Falcons   33  1300.0000  1279.6189  ...   Capitols      50   \n",
            "...           ...  ...        ...        ...  ...        ...     ...   \n",
            "126309  Cavaliers   82  1723.4149  1704.3949  ...   Warriors     103   \n",
            "126310   Warriors  104  1809.9791  1813.6349  ...  Cavaliers      91   \n",
            "126311  Cavaliers   91  1704.3949  1700.7391  ...   Warriors     104   \n",
            "126312  Cavaliers   97  1700.7391  1692.0859  ...   Warriors     105   \n",
            "126313   Warriors  105  1813.6349  1822.2881  ...  Cavaliers      97   \n",
            "\n",
            "        opp_elo_i  opp_elo_n  game_location  game_result  forecast notes  \\\n",
            "0       1300.0000  1306.7233              H            L  0.640065   NaN   \n",
            "1       1300.0000  1293.2767              A            W  0.359935   NaN   \n",
            "2       1306.7233  1297.0712              H            W  0.631101   NaN   \n",
            "3       1300.0000  1309.6521              A            L  0.368899   NaN   \n",
            "4       1300.0000  1320.3811              H            L  0.640065   NaN   \n",
            "...           ...        ...            ...          ...       ...   ...   \n",
            "126309  1790.9591  1809.9791              H            L  0.546572   NaN   \n",
            "126310  1704.3949  1700.7391              H            W  0.765565   NaN   \n",
            "126311  1809.9791  1813.6349              A            L  0.234435   NaN   \n",
            "126312  1813.6349  1822.2881              H            L  0.481450   NaN   \n",
            "126313  1700.7391  1692.0859              A            W  0.518550   NaN   \n",
            "\n",
            "        date_played DaysCPassed  \n",
            "0        1946-11-01     28208.0  \n",
            "1        1946-11-01     28208.0  \n",
            "2        1946-11-02     28207.0  \n",
            "3        1946-11-02     28207.0  \n",
            "4        1946-11-02     28207.0  \n",
            "...             ...         ...  \n",
            "126309   2015-06-11      3149.0  \n",
            "126310   2015-06-14      3146.0  \n",
            "126311   2015-06-14      3146.0  \n",
            "126312   2015-06-16      3144.0  \n",
            "126313   2015-06-16      3144.0  \n",
            "\n",
            "[126314 rows x 22 columns]\n"
          ]
        }
      ],
      "source": [
        "# Split the DataFrame using iloc[] by columns\n",
        "# first 3 columns\n",
        "df1 = nba.iloc[:,:3]\n",
        "# last 3 columns\n",
        "df2 = nba.iloc[:,3:]\n",
        "print(df1)\n",
        "print(\"---------------------------\")\n",
        "print(df2)"
      ]
    },
    {
      "cell_type": "markdown",
      "metadata": {
        "id": "nzZP2hFTd7-5"
      },
      "source": [
        "### Generate a new Dataset\n",
        "After the dataset analysis it could be necessary to generate a new dataset."
      ]
    },
    {
      "cell_type": "code",
      "execution_count": 90,
      "metadata": {
        "id": "V-3bqKBWcgGF"
      },
      "outputs": [],
      "source": [
        "#import os\n",
        "#print(os.getcwd())\n",
        "\n",
        "#filePath='/content/gDrive/MyDrive/MIA/ColabNotebooks/Datasets'\n",
        "#f=dfCopy.to_csv(filePath+'newDataSet.csv', sep=';', index=False)\n",
        "f=dfCopy.to_csv('newDataSet.csv', sep=';', index=False)"
      ]
    },
    {
      "cell_type": "markdown",
      "metadata": {
        "id": "Ei13jtNCfgk_"
      },
      "source": [
        "### Exporting only a few features"
      ]
    },
    {
      "cell_type": "code",
      "execution_count": 91,
      "metadata": {
        "id": "GjmkDHZNfHem"
      },
      "outputs": [],
      "source": [
        "#or\n",
        "#dfCopy.to_csv(filePath+'newDataSet2.csv',columns=['Age','Salary'])\n",
        "dfCopy.to_csv('newDataSet2.csv',columns=['Age','Salary'])"
      ]
    },
    {
      "cell_type": "markdown",
      "metadata": {
        "id": "AeB6WWkqj4-z"
      },
      "source": [
        "End!"
      ]
    }
  ],
  "metadata": {
    "colab": {
      "provenance": [],
      "toc_visible": true
    },
    "kernelspec": {
      "display_name": "Python 3",
      "name": "python3"
    },
    "language_info": {
      "codemirror_mode": {
        "name": "ipython",
        "version": 3
      },
      "file_extension": ".py",
      "mimetype": "text/x-python",
      "name": "python",
      "nbconvert_exporter": "python",
      "pygments_lexer": "ipython3",
      "version": "3.9.18"
    }
  },
  "nbformat": 4,
  "nbformat_minor": 0
}
